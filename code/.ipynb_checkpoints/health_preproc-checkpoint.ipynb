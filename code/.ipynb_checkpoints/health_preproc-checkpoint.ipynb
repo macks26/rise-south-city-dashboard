{
 "cells": [
  {
   "cell_type": "code",
   "execution_count": 2,
   "id": "4636d539",
   "metadata": {},
   "outputs": [],
   "source": [
    "import pandas as pd\n",
    "import openpyxl\n",
    "import os"
   ]
  },
  {
   "cell_type": "code",
   "execution_count": 3,
   "id": "d8006985",
   "metadata": {},
   "outputs": [],
   "source": [
    "health_df = pd.read_excel('../data/calenviroscreen40resultsdatadictionary_F_2021.xlsx', sheet_name=0)"
   ]
  },
  {
   "cell_type": "code",
   "execution_count": 4,
   "id": "9d53a378",
   "metadata": {},
   "outputs": [],
   "source": [
    "def make_decimal(tract_str):\n",
    "    num = tract_str[4:-2]\n",
    "    decimal = tract_str[-2:]\n",
    "    if decimal != '00':\n",
    "        return num + '.' + decimal\n",
    "    else:\n",
    "        return num\n",
    "        \n",
    "health_df['tract'] = health_df['Census Tract'].astype(str).apply(make_decimal)"
   ]
  },
  {
   "cell_type": "code",
   "execution_count": 5,
   "id": "0ed6a8ee",
   "metadata": {},
   "outputs": [],
   "source": [
    "ssf_tracts = [\n",
    "    '6001P',\n",
    "    '6017',\n",
    "    '6018P',\n",
    "    '6018',\n",
    "    '6019',\n",
    "    '6019.01',\n",
    "    '6019.02',\n",
    "    '6020P',\n",
    "    '6020.01',\n",
    "    '6020.02',\n",
    "    '6021',\n",
    "    '6022',\n",
    "    '6022.02',\n",
    "    '6022.01',\n",
    "    '6023P',\n",
    "    '6024P',\n",
    "    '6024',\n",
    "    '6025',\n",
    "    '6026',\n",
    "    '6026.02',\n",
    "    '6038.01',\n",
    "    '6038.02',\n",
    "    '6039',\n",
    "    '6040',\n",
    "    '6041.02P',\n",
    "    '6041.03',\n",
    "    '6041.04',\n",
    "    '6042P'\n",
    "]\n",
    "sb_tracts = [\n",
    "    '6023P',\n",
    "    '6030P',\n",
    "    '6035P',\n",
    "    '6036P',\n",
    "    '6037',\n",
    "    '6038P',\n",
    "    '6039P',\n",
    "    '6040',\n",
    "    '6041.01P',\n",
    "    '6041.02P',\n",
    "    '6042P',\n",
    "    '6046P',\n",
    "    '6135.01P'\n",
    "]\n",
    "\n",
    "other_tracts = [\n",
    "    '6016.01',\n",
    "    '6027',\n",
    "    '6140',\n",
    "    '6016.03',\n",
    "    '6016.05'\n",
    "]\n",
    "\n",
    "tracts = ssf_tracts + sb_tracts + other_tracts\n",
    "\n",
    "# Tracts in the shapefile don't contain 'P'\n",
    "reformat = lambda tract: tract.replace('P', '')\n",
    "tracts_reformatted = list(map(reformat, tracts))"
   ]
  },
  {
   "cell_type": "code",
   "execution_count": 6,
   "id": "08d13700",
   "metadata": {
    "scrolled": true
   },
   "outputs": [
    {
     "name": "stderr",
     "output_type": "stream",
     "text": [
      "C:\\Users\\isaac\\AppData\\Local\\Temp\\ipykernel_35024\\2904978862.py:1: UserWarning: Boolean Series key will be reindexed to match DataFrame index.\n",
      "  health_df = health_df[health_df['tract'].isin(tracts_reformatted)][health_df['California County'] == 'San Mateo']\n"
     ]
    }
   ],
   "source": [
    "health_df = health_df[health_df['tract'].isin(tracts_reformatted)][health_df['California County'] == 'San Mateo']\n",
    "health_df = health_df.drop(columns=['Census Tract', 'California County', 'ZIP', 'Approximate Location', 'Longitude', 'Latitude'])"
   ]
  },
  {
   "cell_type": "code",
   "execution_count": 11,
   "id": "c9699a35",
   "metadata": {},
   "outputs": [
    {
     "name": "stdout",
     "output_type": "stream",
     "text": [
      "Adults who are Sedentary.csv\n",
      "Adults who have had a Routine Checkup.csv\n",
      "Adults with COPD.csv\n",
      "Children with Low Access to a Grocery Store (% of Total Pop).csv\n",
      "Health Equity Index.csv\n",
      "Income Inequality.csv\n",
      "Low-Income and Low Access to a Grocery Store.csv\n",
      "Overcrowded Households.csv\n",
      "Self-Reported General Health Assessment Poor or Fair.csv\n",
      "Workers Commuting by Public Transportation.csv\n",
      "Workers who Walk to Work.csv\n"
     ]
    }
   ],
   "source": [
    "indicators = pd.DataFrame({\n",
    "    'tract': tracts_reformatted\n",
    "})\n",
    "\n",
    "def find_max(periods):\n",
    "    def extract_year(p):\n",
    "        if type(p) == str:\n",
    "            return int(p.split('-')[-1])\n",
    "        else:\n",
    "            return p\n",
    "    \n",
    "    \n",
    "    max_y = -1\n",
    "    max_i = -1\n",
    "    \n",
    "    for i, p in enumerate(periods):\n",
    "        y = extract_year(p)\n",
    "        \n",
    "        if max_y < 0 or max_y < y:\n",
    "            max_y = y\n",
    "            max_i = i\n",
    "            \n",
    "    return periods[max_i]\n",
    "\n",
    "def most_recent(group):\n",
    "    latest_measurement = find_max(group['Period of Measure'].unique())\n",
    "    latest = group[group['Period of Measure'] == latest_measurement]\n",
    "    return latest.iloc[0]\n",
    "\n",
    "for indicator_file in os.listdir('../data/smc_indicators/'):\n",
    "    indicator = indicator_file.split('.')[0]\n",
    "\n",
    "    indicator_data = pd.read_csv(f'../data/smc_indicators/{indicator_file}')\n",
    "    indicator_data['tract'] = indicator_data['Location'].astype(str).apply(make_decimal)\n",
    "    \n",
    "    indicator_cleaned = indicator_data[indicator_data['tract'].isin(tracts_reformatted)].copy()\n",
    "    indicator_cleaned = indicator_cleaned.groupby(['tract']).apply(most_recent).reset_index(drop=True)\n",
    "    \n",
    "    indicator_cleaned[indicator] = indicator_cleaned['Indicator Rate Value']\n",
    "    indicator_only = indicator_cleaned[['tract', indicator]]\n",
    "    \n",
    "    indicators = pd.merge(indicators, indicator_only, on='tract', how='left')"
   ]
  },
  {
   "cell_type": "code",
   "execution_count": null,
   "id": "c999159e",
   "metadata": {},
   "outputs": [],
   "source": [
    "all_indicator_data = pd.merge(indicators, health_df, on='tract', how='left')"
   ]
  },
  {
   "cell_type": "code",
   "execution_count": null,
   "id": "c249c77e",
   "metadata": {},
   "outputs": [],
   "source": [
    "all_indicator_data"
   ]
  },
  {
   "cell_type": "code",
   "execution_count": null,
   "id": "b2f7c950",
   "metadata": {},
   "outputs": [],
   "source": [
    "all_indicator_data.to_csv('../data/all_indicators.csv', index=False)"
   ]
  }
 ],
 "metadata": {
  "kernelspec": {
   "display_name": "Python 3 (ipykernel)",
   "language": "python",
   "name": "python3"
  },
  "language_info": {
   "codemirror_mode": {
    "name": "ipython",
    "version": 3
   },
   "file_extension": ".py",
   "mimetype": "text/x-python",
   "name": "python",
   "nbconvert_exporter": "python",
   "pygments_lexer": "ipython3",
   "version": "3.8.20"
  }
 },
 "nbformat": 4,
 "nbformat_minor": 5
}
