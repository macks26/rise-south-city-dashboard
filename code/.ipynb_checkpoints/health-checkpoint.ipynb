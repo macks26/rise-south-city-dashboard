{
 "cells": [
  {
   "cell_type": "code",
   "execution_count": 11,
   "id": "0d2c8c7a",
   "metadata": {},
   "outputs": [],
   "source": [
    "import pandas as pd\n",
    "import numpy as np\n",
    "from sklearn.experimental import enable_iterative_imputer\n",
    "from sklearn.impute import IterativeImputer\n",
    "from sklearn.linear_model import LinearRegression\n",
    "import matplotlib.pyplot as plt"
   ]
  },
  {
   "cell_type": "code",
   "execution_count": 18,
   "id": "c83bb4b6",
   "metadata": {},
   "outputs": [],
   "source": [
    "all_indicator_data = pd.read_csv('../data/all_indicators.csv')"
   ]
  },
  {
   "cell_type": "code",
   "execution_count": 19,
   "id": "ca7dc9cc",
   "metadata": {},
   "outputs": [],
   "source": [
    "indicators_filtered = all_indicator_data[all_indicator_data['Self-Reported General Health Assessment Poor or Fair'].notna()].copy()"
   ]
  },
  {
   "cell_type": "code",
   "execution_count": 20,
   "id": "d990ed00",
   "metadata": {},
   "outputs": [],
   "source": [
    "indicators_filtered = indicators_filtered.drop(columns=['CES 4.0 Percentile Range'])"
   ]
  },
  {
   "cell_type": "code",
   "execution_count": 21,
   "id": "4d4fbbcf",
   "metadata": {},
   "outputs": [
    {
     "name": "stderr",
     "output_type": "stream",
     "text": [
      "C:\\Users\\isaac\\anaconda3\\envs\\geo\\lib\\site-packages\\sklearn\\impute\\_iterative.py:800: ConvergenceWarning: [IterativeImputer] Early stopping criterion not reached.\n",
      "  warnings.warn(\n"
     ]
    }
   ],
   "source": [
    "imputer = IterativeImputer(random_state=100, max_iter=10)\n",
    "imputer.fit(indicators_filtered)\n",
    "imputed_values = imputer.transform(indicators_filtered)"
   ]
  },
  {
   "cell_type": "code",
   "execution_count": 22,
   "id": "b2d915d0",
   "metadata": {},
   "outputs": [],
   "source": [
    "indicators_filtered.loc[:, indicators_filtered.columns] = imputed_values"
   ]
  },
  {
   "cell_type": "code",
   "execution_count": 23,
   "id": "9bc8f2fa",
   "metadata": {},
   "outputs": [
    {
     "data": {
      "text/plain": [
       "Index(['tract', 'Adults who are Sedentary',\n",
       "       'Adults who have had a Routine Checkup', 'Adults with COPD',\n",
       "       'Children with Low Access to a Grocery Store (% of Total Pop)',\n",
       "       'Income Inequality', 'Low-Income and Low Access to a Grocery Store',\n",
       "       'Overcrowded Households',\n",
       "       'Self-Reported General Health Assessment Poor or Fair',\n",
       "       'Workers Commuting by Public Transportation',\n",
       "       'Workers who Walk to Work', 'Total Population', 'CES 4.0 Score',\n",
       "       'CES 4.0 Percentile', 'Ozone', 'Ozone Pctl', 'PM2.5', 'PM2.5 Pctl',\n",
       "       'Diesel PM', 'Diesel PM Pctl', 'Drinking Water', 'Drinking Water Pctl',\n",
       "       'Lead', 'Lead Pctl', 'Pesticides', 'Pesticides Pctl', 'Tox. Release',\n",
       "       'Tox. Release Pctl', 'Traffic', 'Traffic Pctl', 'Cleanup Sites',\n",
       "       'Cleanup Sites Pctl', 'Groundwater Threats', 'Groundwater Threats Pctl',\n",
       "       'Haz. Waste', 'Haz. Waste Pctl', 'Imp. Water Bodies',\n",
       "       'Imp. Water Bodies Pctl', 'Solid Waste', 'Solid Waste Pctl',\n",
       "       'Pollution Burden', 'Pollution Burden Score', 'Pollution Burden Pctl',\n",
       "       'Asthma', 'Asthma Pctl', 'Low Birth Weight', 'Low Birth Weight Pctl',\n",
       "       'Cardiovascular Disease', 'Cardiovascular Disease Pctl', 'Education',\n",
       "       'Education Pctl', 'Linguistic Isolation', 'Linguistic Isolation Pctl',\n",
       "       'Poverty', 'Poverty Pctl', 'Unemployment', 'Unemployment Pctl',\n",
       "       'Housing Burden', 'Housing Burden Pctl', 'Pop. Char. ',\n",
       "       'Pop. Char. Score', 'Pop. Char. Pctl'],\n",
       "      dtype='object')"
      ]
     },
     "execution_count": 23,
     "metadata": {},
     "output_type": "execute_result"
    }
   ],
   "source": [
    "indicators_filtered.columns"
   ]
  },
  {
   "cell_type": "code",
   "execution_count": 25,
   "id": "cf62dd05",
   "metadata": {},
   "outputs": [
    {
     "name": "stdout",
     "output_type": "stream",
     "text": [
      "Solid Waste: 0.875\n",
      "Poverty Pctl: 0.391\n",
      "Education: 0.375\n",
      "Diesel PM Pctl: 0.305\n",
      "CES 4.0 Score: 0.286\n",
      "Unemployment Pctl: 0.268\n",
      "Low Birth Weight: 0.265\n",
      "Housing Burden Pctl: 0.211\n",
      "Pollution Burden Pctl: 0.21\n",
      "Linguistic Isolation: 0.19\n",
      "Traffic Pctl: 0.153\n",
      "Lead Pctl: 0.146\n",
      "Children with Low Access to a Grocery Store (% of Total Pop): 0.135\n",
      "Linguistic Isolation Pctl: 0.13\n",
      "Imp. Water Bodies: 0.118\n",
      "Haz. Waste: 0.109\n",
      "Pesticides Pctl: 0.087\n",
      "Ozone Pctl: 0.081\n",
      "Asthma Pctl: 0.07\n",
      "Pollution Burden: 0.067\n",
      "tract: 0.055\n",
      "Low Birth Weight Pctl: 0.048\n",
      "Tox. Release Pctl: 0.029\n",
      "Solid Waste Pctl: 0.025\n",
      "Tox. Release: 0.025\n",
      "Diesel PM: 0.013\n",
      "Pollution Burden Score: 0.008\n",
      "Drinking Water: 0.004\n",
      "Total Population: 0.001\n",
      "Ozone: 0.0\n",
      "CES 4.0 Percentile: -0.003\n",
      "Pop. Char. Score: -0.007\n",
      "Traffic: -0.009\n",
      "PM2.5: -0.013\n",
      "Groundwater Threats Pctl: -0.016\n",
      "Adults with COPD: -0.021\n",
      "Drinking Water Pctl: -0.026\n",
      "Cardiovascular Disease: -0.029\n",
      "Workers Commuting by Public Transportation: -0.037\n",
      "Asthma: -0.037\n",
      "Unemployment: -0.072\n",
      "Pop. Char. : -0.072\n",
      "Haz. Waste Pctl: -0.075\n",
      "Cleanup Sites: -0.086\n",
      "Poverty: -0.091\n",
      "Adults who have had a Routine Checkup: -0.094\n",
      "Pesticides: -0.108\n",
      "Lead: -0.11\n",
      "Pop. Char. Pctl: -0.111\n",
      "Imp. Water Bodies Pctl: -0.128\n",
      "Cleanup Sites Pctl: -0.13\n",
      "Groundwater Threats: -0.133\n",
      "Income Inequality: -0.186\n",
      "Low-Income and Low Access to a Grocery Store: -0.23\n",
      "Education Pctl: -0.268\n",
      "Cardiovascular Disease Pctl: -0.321\n",
      "Workers who Walk to Work: -0.385\n",
      "PM2.5 Pctl: -0.434\n",
      "Overcrowded Households: -0.482\n",
      "Housing Burden: -0.727\n",
      "Adults who are Sedentary: -1.265\n"
     ]
    }
   ],
   "source": [
    "lm = LinearRegression()\n",
    "\n",
    "outcome = 'Self-Reported General Health Assessment Poor or Fair'\n",
    "y = indicators_filtered[outcome]\n",
    "X = indicators_filtered.drop(columns=[outcome])\n",
    "\n",
    "lm.fit(X, y)\n",
    "\n",
    "w = lm.coef_\n",
    "idx = np.argsort(w)[::-1]\n",
    "\n",
    "for i in idx:\n",
    "    print(f\"{X.columns[i]}: {round(w[i], 3)}\")"
   ]
  },
  {
   "cell_type": "code",
   "execution_count": 31,
   "id": "db948d4e",
   "metadata": {
    "scrolled": true
   },
   "outputs": [
    {
     "data": {
      "text/plain": [
       "<matplotlib.collections.PathCollection at 0x2dca4e249a0>"
      ]
     },
     "execution_count": 31,
     "metadata": {},
     "output_type": "execute_result"
    },
    {
     "data": {
      "image/png": "[encoded data removed]",
      "text/plain": [
       "<Figure size 640x480 with 1 Axes>"
      ]
     },
     "metadata": {},
     "output_type": "display_data"
    }
   ],
   "source": [
    "x = indicators_filtered['Adults who are Sedentary']\n",
    "y = indicators_filtered[outcome]\n",
    "plt.scatter(x, y)"
   ]
  },
  {
   "cell_type": "code",
   "execution_count": 35,
   "id": "7d1eddd3",
   "metadata": {},
   "outputs": [
    {
     "data": {
      "text/plain": [
       "62"
      ]
     },
     "execution_count": 35,
     "metadata": {},
     "output_type": "execute_result"
    }
   ],
   "source": [
    "len(indicators_filtered.columns)"
   ]
  },
  {
   "cell_type": "code",
   "execution_count": 41,
   "id": "be38c986",
   "metadata": {},
   "outputs": [],
   "source": [
    "import matplotlib.pyplot as plt\n",
    "import seaborn as sns\n",
    "from scipy import stats\n",
    "\n",
    "# Code credit: https://stackoverflow.com/questions/48139899/correlation-matrix-plot-with-coefficients-on-one-side-scatterplots-on-another\n",
    "\n",
    "sns.set(style='white')\n",
    "\n",
    "def corrfunc(x, y, **kws):\n",
    "    r, p = stats.pearsonr(x, y)\n",
    "    p_stars = ''\n",
    "    if p <= 0.05:\n",
    "        p_stars = '*'\n",
    "    if p <= 0.01:\n",
    "        p_stars = '**'\n",
    "    if p <= 0.001:\n",
    "        p_stars = '***'\n",
    "    ax = plt.gca()\n",
    "    ax.annotate('r = {:.2f} '.format(r) + p_stars, xy=(0.05, 0.9), xycoords=ax.transAxes)\n",
    "\n",
    "def annotate_colname(x, **kws):\n",
    "    ax = plt.gca()\n",
    "    ax.annotate(x.name, xy=(0.05, 0.9), xycoords=ax.transAxes, fontweight='bold')\n",
    "\n",
    "def cor_matrix(df):\n",
    "    grid = sns.PairGrid(df, palette=['red'])\n",
    "    # Use normal regplot as `lowess=True` doesn't provide CIs.\n",
    "    grid.map_upper(sns.regplot, scatter_kws={'s':10})\n",
    "    grid.map_diag(sns.histplot, kde=True, kde_kws=dict(cut=3), alpha=.4, edgecolor=(1, 1, 1, .4))\n",
    "    grid.map_diag(annotate_colname)\n",
    "    grid.map_lower(sns.kdeplot, cmap='Blues_d')\n",
    "    grid.map_lower(corrfunc)\n",
    "    # Remove axis labels, as they're in the diagonals.\n",
    "    for ax in grid.axes.flatten():\n",
    "        ax.set_ylabel('')\n",
    "        ax.set_xlabel('')\n",
    "    return grid"
   ]
  },
  {
   "cell_type": "code",
   "execution_count": 46,
   "id": "2f77e56a",
   "metadata": {},
   "outputs": [
    {
     "ename": "KeyError",
     "evalue": "('Self-Reported General Health Assessment Poor or Fair', 'Solid Waste', 'Adults who are Sedentary', 'Asthma', 'Poverty Pctl')",
     "output_type": "error",
     "traceback": [
      "\u001b[1;31m---------------------------------------------------------------------------\u001b[0m",
      "\u001b[1;31mKeyError\u001b[0m                                  Traceback (most recent call last)",
      "File \u001b[1;32m~\\anaconda3\\envs\\geo\\lib\\site-packages\\pandas\\core\\indexes\\base.py:3653\u001b[0m, in \u001b[0;36mIndex.get_loc\u001b[1;34m(self, key)\u001b[0m\n\u001b[0;32m   3652\u001b[0m \u001b[38;5;28;01mtry\u001b[39;00m:\n\u001b[1;32m-> 3653\u001b[0m     \u001b[38;5;28;01mreturn\u001b[39;00m \u001b[38;5;28;43mself\u001b[39;49m\u001b[38;5;241;43m.\u001b[39;49m\u001b[43m_engine\u001b[49m\u001b[38;5;241;43m.\u001b[39;49m\u001b[43mget_loc\u001b[49m\u001b[43m(\u001b[49m\u001b[43mcasted_key\u001b[49m\u001b[43m)\u001b[49m\n\u001b[0;32m   3654\u001b[0m \u001b[38;5;28;01mexcept\u001b[39;00m \u001b[38;5;167;01mKeyError\u001b[39;00m \u001b[38;5;28;01mas\u001b[39;00m err:\n",
      "File \u001b[1;32m~\\anaconda3\\envs\\geo\\lib\\site-packages\\pandas\\_libs\\index.pyx:147\u001b[0m, in \u001b[0;36mpandas._libs.index.IndexEngine.get_loc\u001b[1;34m()\u001b[0m\n",
      "File \u001b[1;32m~\\anaconda3\\envs\\geo\\lib\\site-packages\\pandas\\_libs\\index.pyx:176\u001b[0m, in \u001b[0;36mpandas._libs.index.IndexEngine.get_loc\u001b[1;34m()\u001b[0m\n",
      "File \u001b[1;32mpandas\\_libs\\hashtable_class_helper.pxi:7080\u001b[0m, in \u001b[0;36mpandas._libs.hashtable.PyObjectHashTable.get_item\u001b[1;34m()\u001b[0m\n",
      "File \u001b[1;32mpandas\\_libs\\hashtable_class_helper.pxi:7088\u001b[0m, in \u001b[0;36mpandas._libs.hashtable.PyObjectHashTable.get_item\u001b[1;34m()\u001b[0m\n",
      "\u001b[1;31mKeyError\u001b[0m: ('Self-Reported General Health Assessment Poor or Fair', 'Solid Waste', 'Adults who are Sedentary', 'Asthma', 'Poverty Pctl')",
      "\nThe above exception was the direct cause of the following exception:\n",
      "\u001b[1;31mKeyError\u001b[0m                                  Traceback (most recent call last)",
      "Cell \u001b[1;32mIn[46], line 1\u001b[0m\n\u001b[1;32m----> 1\u001b[0m cor_matrix(\u001b[43mindicators_filtered\u001b[49m\u001b[43m[\u001b[49m\u001b[43moutcome\u001b[49m\u001b[43m,\u001b[49m\u001b[43m \u001b[49m\u001b[38;5;124;43m'\u001b[39;49m\u001b[38;5;124;43mSolid Waste\u001b[39;49m\u001b[38;5;124;43m'\u001b[39;49m\u001b[43m,\u001b[49m\u001b[43m \u001b[49m\u001b[38;5;124;43m'\u001b[39;49m\u001b[38;5;124;43mAdults who are Sedentary\u001b[39;49m\u001b[38;5;124;43m'\u001b[39;49m\u001b[43m,\u001b[49m\u001b[43m \u001b[49m\u001b[38;5;124;43m'\u001b[39;49m\u001b[38;5;124;43mAsthma\u001b[39;49m\u001b[38;5;124;43m'\u001b[39;49m\u001b[43m,\u001b[49m\u001b[43m \u001b[49m\u001b[38;5;124;43m'\u001b[39;49m\u001b[38;5;124;43mPoverty Pctl\u001b[39;49m\u001b[38;5;124;43m'\u001b[39;49m\u001b[43m]\u001b[49m)\n",
      "File \u001b[1;32m~\\anaconda3\\envs\\geo\\lib\\site-packages\\pandas\\core\\frame.py:3761\u001b[0m, in \u001b[0;36mDataFrame.__getitem__\u001b[1;34m(self, key)\u001b[0m\n\u001b[0;32m   3759\u001b[0m \u001b[38;5;28;01mif\u001b[39;00m \u001b[38;5;28mself\u001b[39m\u001b[38;5;241m.\u001b[39mcolumns\u001b[38;5;241m.\u001b[39mnlevels \u001b[38;5;241m>\u001b[39m \u001b[38;5;241m1\u001b[39m:\n\u001b[0;32m   3760\u001b[0m     \u001b[38;5;28;01mreturn\u001b[39;00m \u001b[38;5;28mself\u001b[39m\u001b[38;5;241m.\u001b[39m_getitem_multilevel(key)\n\u001b[1;32m-> 3761\u001b[0m indexer \u001b[38;5;241m=\u001b[39m \u001b[38;5;28;43mself\u001b[39;49m\u001b[38;5;241;43m.\u001b[39;49m\u001b[43mcolumns\u001b[49m\u001b[38;5;241;43m.\u001b[39;49m\u001b[43mget_loc\u001b[49m\u001b[43m(\u001b[49m\u001b[43mkey\u001b[49m\u001b[43m)\u001b[49m\n\u001b[0;32m   3762\u001b[0m \u001b[38;5;28;01mif\u001b[39;00m is_integer(indexer):\n\u001b[0;32m   3763\u001b[0m     indexer \u001b[38;5;241m=\u001b[39m [indexer]\n",
      "File \u001b[1;32m~\\anaconda3\\envs\\geo\\lib\\site-packages\\pandas\\core\\indexes\\base.py:3655\u001b[0m, in \u001b[0;36mIndex.get_loc\u001b[1;34m(self, key)\u001b[0m\n\u001b[0;32m   3653\u001b[0m     \u001b[38;5;28;01mreturn\u001b[39;00m \u001b[38;5;28mself\u001b[39m\u001b[38;5;241m.\u001b[39m_engine\u001b[38;5;241m.\u001b[39mget_loc(casted_key)\n\u001b[0;32m   3654\u001b[0m \u001b[38;5;28;01mexcept\u001b[39;00m \u001b[38;5;167;01mKeyError\u001b[39;00m \u001b[38;5;28;01mas\u001b[39;00m err:\n\u001b[1;32m-> 3655\u001b[0m     \u001b[38;5;28;01mraise\u001b[39;00m \u001b[38;5;167;01mKeyError\u001b[39;00m(key) \u001b[38;5;28;01mfrom\u001b[39;00m \u001b[38;5;21;01merr\u001b[39;00m\n\u001b[0;32m   3656\u001b[0m \u001b[38;5;28;01mexcept\u001b[39;00m \u001b[38;5;167;01mTypeError\u001b[39;00m:\n\u001b[0;32m   3657\u001b[0m     \u001b[38;5;66;03m# If we have a listlike key, _check_indexing_error will raise\u001b[39;00m\n\u001b[0;32m   3658\u001b[0m     \u001b[38;5;66;03m#  InvalidIndexError. Otherwise we fall through and re-raise\u001b[39;00m\n\u001b[0;32m   3659\u001b[0m     \u001b[38;5;66;03m#  the TypeError.\u001b[39;00m\n\u001b[0;32m   3660\u001b[0m     \u001b[38;5;28mself\u001b[39m\u001b[38;5;241m.\u001b[39m_check_indexing_error(key)\n",
      "\u001b[1;31mKeyError\u001b[0m: ('Self-Reported General Health Assessment Poor or Fair', 'Solid Waste', 'Adults who are Sedentary', 'Asthma', 'Poverty Pctl')"
     ]
    }
   ],
   "source": [
    "cor_matrix(indicators_filtered[[outcome, 'Solid Waste', 'Adults who are Sedentary', 'Asthma', 'Poverty Pctl']])"
   ]
  },
  {
   "cell_type": "code",
   "execution_count": null,
   "id": "4d92cdd1",
   "metadata": {},
   "outputs": [],
   "source": [
    "sns.pairgrid(indicators_filtered)"
   ]
  }
 ],
 "metadata": {
  "kernelspec": {
   "display_name": "Python 3 (ipykernel)",
   "language": "python",
   "name": "python3"
  },
  "language_info": {
   "codemirror_mode": {
    "name": "ipython",
    "version": 3
   },
   "file_extension": ".py",
   "mimetype": "text/x-python",
   "name": "python",
   "nbconvert_exporter": "python",
   "pygments_lexer": "ipython3",
   "version": "3.8.20"
  }
 },
 "nbformat": 4,
 "nbformat_minor": 5
}
