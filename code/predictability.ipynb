{
 "cells": [
  {
   "cell_type": "markdown",
   "id": "8ee8616e",
   "metadata": {},
   "source": [
    "## **PurpleAir Monitors** ##"
   ]
  },
  {
   "cell_type": "code",
   "execution_count": 2,
   "id": "f504b92c",
   "metadata": {},
   "outputs": [],
   "source": [
    "import plotly.express as px\n",
    "from plotly.subplots import make_subplots\n",
    "import plotly.graph_objects as go\n",
    "from plotly.offline import plot\n",
    "import pandas as pd"
   ]
  },
  {
   "cell_type": "code",
   "execution_count": 3,
   "id": "d1947813",
   "metadata": {},
   "outputs": [
    {
     "data": {
      "text/html": [
       "<div>\n",
       "<style scoped>\n",
       "    .dataframe tbody tr th:only-of-type {\n",
       "        vertical-align: middle;\n",
       "    }\n",
       "\n",
       "    .dataframe tbody tr th {\n",
       "        vertical-align: top;\n",
       "    }\n",
       "\n",
       "    .dataframe thead th {\n",
       "        text-align: right;\n",
       "    }\n",
       "</style>\n",
       "<table border=\"1\" class=\"dataframe\">\n",
       "  <thead>\n",
       "    <tr style=\"text-align: right;\">\n",
       "      <th></th>\n",
       "      <th>time</th>\n",
       "      <th>location_name</th>\n",
       "      <th>location_id</th>\n",
       "      <th>latitude</th>\n",
       "      <th>longitude</th>\n",
       "      <th>pm2_5_1h_mean</th>\n",
       "      <th>pm2_5_1h_mean_aqi</th>\n",
       "      <th>pm2_5_24h_mean</th>\n",
       "      <th>pm2_5_24h_mean_aqi</th>\n",
       "      <th>temp</th>\n",
       "      <th>rh</th>\n",
       "      <th>elevation</th>\n",
       "      <th>pressure</th>\n",
       "    </tr>\n",
       "  </thead>\n",
       "  <tbody>\n",
       "    <tr>\n",
       "      <th>0</th>\n",
       "      <td>2018-12-27 04:00:00</td>\n",
       "      <td>Grundy Park</td>\n",
       "      <td>21427</td>\n",
       "      <td>37.622585</td>\n",
       "      <td>-122.42097</td>\n",
       "      <td>0.736345</td>\n",
       "      <td>4.0</td>\n",
       "      <td>2.999879</td>\n",
       "      <td>16.0</td>\n",
       "      <td>53.318182</td>\n",
       "      <td>59.818182</td>\n",
       "      <td>86.0</td>\n",
       "      <td>NaN</td>\n",
       "    </tr>\n",
       "    <tr>\n",
       "      <th>1</th>\n",
       "      <td>2018-12-27 05:00:00</td>\n",
       "      <td>Grundy Park</td>\n",
       "      <td>21427</td>\n",
       "      <td>37.622585</td>\n",
       "      <td>-122.42097</td>\n",
       "      <td>0.739827</td>\n",
       "      <td>4.0</td>\n",
       "      <td>2.999879</td>\n",
       "      <td>16.0</td>\n",
       "      <td>51.777778</td>\n",
       "      <td>59.955556</td>\n",
       "      <td>86.0</td>\n",
       "      <td>NaN</td>\n",
       "    </tr>\n",
       "    <tr>\n",
       "      <th>2</th>\n",
       "      <td>2018-12-27 06:00:00</td>\n",
       "      <td>Grundy Park</td>\n",
       "      <td>21427</td>\n",
       "      <td>37.622585</td>\n",
       "      <td>-122.42097</td>\n",
       "      <td>1.038868</td>\n",
       "      <td>6.0</td>\n",
       "      <td>2.999879</td>\n",
       "      <td>16.0</td>\n",
       "      <td>52.068182</td>\n",
       "      <td>56.681818</td>\n",
       "      <td>86.0</td>\n",
       "      <td>NaN</td>\n",
       "    </tr>\n",
       "    <tr>\n",
       "      <th>3</th>\n",
       "      <td>2018-12-27 07:00:00</td>\n",
       "      <td>Grundy Park</td>\n",
       "      <td>21427</td>\n",
       "      <td>37.622585</td>\n",
       "      <td>-122.42097</td>\n",
       "      <td>1.214613</td>\n",
       "      <td>7.0</td>\n",
       "      <td>2.999879</td>\n",
       "      <td>16.0</td>\n",
       "      <td>52.755556</td>\n",
       "      <td>56.933333</td>\n",
       "      <td>86.0</td>\n",
       "      <td>NaN</td>\n",
       "    </tr>\n",
       "    <tr>\n",
       "      <th>4</th>\n",
       "      <td>2018-12-27 08:00:00</td>\n",
       "      <td>Grundy Park</td>\n",
       "      <td>21427</td>\n",
       "      <td>37.622585</td>\n",
       "      <td>-122.42097</td>\n",
       "      <td>1.127572</td>\n",
       "      <td>6.0</td>\n",
       "      <td>2.999879</td>\n",
       "      <td>16.0</td>\n",
       "      <td>65.883721</td>\n",
       "      <td>54.372093</td>\n",
       "      <td>86.0</td>\n",
       "      <td>NaN</td>\n",
       "    </tr>\n",
       "  </tbody>\n",
       "</table>\n",
       "</div>"
      ],
      "text/plain": [
       "                  time location_name  location_id   latitude  longitude  \\\n",
       "0  2018-12-27 04:00:00   Grundy Park        21427  37.622585 -122.42097   \n",
       "1  2018-12-27 05:00:00   Grundy Park        21427  37.622585 -122.42097   \n",
       "2  2018-12-27 06:00:00   Grundy Park        21427  37.622585 -122.42097   \n",
       "3  2018-12-27 07:00:00   Grundy Park        21427  37.622585 -122.42097   \n",
       "4  2018-12-27 08:00:00   Grundy Park        21427  37.622585 -122.42097   \n",
       "\n",
       "   pm2_5_1h_mean  pm2_5_1h_mean_aqi  pm2_5_24h_mean  pm2_5_24h_mean_aqi  \\\n",
       "0       0.736345                4.0        2.999879                16.0   \n",
       "1       0.739827                4.0        2.999879                16.0   \n",
       "2       1.038868                6.0        2.999879                16.0   \n",
       "3       1.214613                7.0        2.999879                16.0   \n",
       "4       1.127572                6.0        2.999879                16.0   \n",
       "\n",
       "        temp         rh  elevation  pressure  \n",
       "0  53.318182  59.818182       86.0       NaN  \n",
       "1  51.777778  59.955556       86.0       NaN  \n",
       "2  52.068182  56.681818       86.0       NaN  \n",
       "3  52.755556  56.933333       86.0       NaN  \n",
       "4  65.883721  54.372093       86.0       NaN  "
      ]
     },
     "execution_count": 3,
     "metadata": {},
     "output_type": "execute_result"
    }
   ],
   "source": [
    "# Load cleaned data\n",
    "purple_df = pd.read_csv('../data/clean_purpleair.csv')\n",
    "purple_df.head()"
   ]
  },
  {
   "cell_type": "markdown",
   "id": "b0a798b4",
   "metadata": {},
   "source": [
    "### **Preprocessing Check**"
   ]
  },
  {
   "cell_type": "code",
   "execution_count": 4,
   "id": "0c0002a9",
   "metadata": {},
   "outputs": [
    {
     "data": {
      "text/html": [
       "<div>\n",
       "<style scoped>\n",
       "    .dataframe tbody tr th:only-of-type {\n",
       "        vertical-align: middle;\n",
       "    }\n",
       "\n",
       "    .dataframe tbody tr th {\n",
       "        vertical-align: top;\n",
       "    }\n",
       "\n",
       "    .dataframe thead th {\n",
       "        text-align: right;\n",
       "    }\n",
       "</style>\n",
       "<table border=\"1\" class=\"dataframe\">\n",
       "  <thead>\n",
       "    <tr style=\"text-align: right;\">\n",
       "      <th></th>\n",
       "      <th>time</th>\n",
       "      <th>location_name</th>\n",
       "      <th>location_id</th>\n",
       "      <th>latitude</th>\n",
       "      <th>longitude</th>\n",
       "      <th>pm2_5_1h_mean</th>\n",
       "      <th>pm2_5_1h_mean_aqi</th>\n",
       "      <th>pm2_5_24h_mean</th>\n",
       "      <th>pm2_5_24h_mean_aqi</th>\n",
       "      <th>temp</th>\n",
       "      <th>rh</th>\n",
       "      <th>elevation</th>\n",
       "      <th>pressure</th>\n",
       "    </tr>\n",
       "  </thead>\n",
       "  <tbody>\n",
       "    <tr>\n",
       "      <th>0</th>\n",
       "      <td>2018-12-27 04:00:00</td>\n",
       "      <td>Grundy Park</td>\n",
       "      <td>21427</td>\n",
       "      <td>37.622585</td>\n",
       "      <td>-122.42097</td>\n",
       "      <td>0.736345</td>\n",
       "      <td>4.0</td>\n",
       "      <td>2.999879</td>\n",
       "      <td>16.0</td>\n",
       "      <td>53.318182</td>\n",
       "      <td>59.818182</td>\n",
       "      <td>86.0</td>\n",
       "      <td>NaN</td>\n",
       "    </tr>\n",
       "    <tr>\n",
       "      <th>1</th>\n",
       "      <td>2018-12-27 05:00:00</td>\n",
       "      <td>Grundy Park</td>\n",
       "      <td>21427</td>\n",
       "      <td>37.622585</td>\n",
       "      <td>-122.42097</td>\n",
       "      <td>0.739827</td>\n",
       "      <td>4.0</td>\n",
       "      <td>2.999879</td>\n",
       "      <td>16.0</td>\n",
       "      <td>51.777778</td>\n",
       "      <td>59.955556</td>\n",
       "      <td>86.0</td>\n",
       "      <td>NaN</td>\n",
       "    </tr>\n",
       "    <tr>\n",
       "      <th>2</th>\n",
       "      <td>2018-12-27 06:00:00</td>\n",
       "      <td>Grundy Park</td>\n",
       "      <td>21427</td>\n",
       "      <td>37.622585</td>\n",
       "      <td>-122.42097</td>\n",
       "      <td>1.038868</td>\n",
       "      <td>6.0</td>\n",
       "      <td>2.999879</td>\n",
       "      <td>16.0</td>\n",
       "      <td>52.068182</td>\n",
       "      <td>56.681818</td>\n",
       "      <td>86.0</td>\n",
       "      <td>NaN</td>\n",
       "    </tr>\n",
       "    <tr>\n",
       "      <th>3</th>\n",
       "      <td>2018-12-27 07:00:00</td>\n",
       "      <td>Grundy Park</td>\n",
       "      <td>21427</td>\n",
       "      <td>37.622585</td>\n",
       "      <td>-122.42097</td>\n",
       "      <td>1.214613</td>\n",
       "      <td>7.0</td>\n",
       "      <td>2.999879</td>\n",
       "      <td>16.0</td>\n",
       "      <td>52.755556</td>\n",
       "      <td>56.933333</td>\n",
       "      <td>86.0</td>\n",
       "      <td>NaN</td>\n",
       "    </tr>\n",
       "    <tr>\n",
       "      <th>4</th>\n",
       "      <td>2018-12-27 08:00:00</td>\n",
       "      <td>Grundy Park</td>\n",
       "      <td>21427</td>\n",
       "      <td>37.622585</td>\n",
       "      <td>-122.42097</td>\n",
       "      <td>1.127572</td>\n",
       "      <td>6.0</td>\n",
       "      <td>2.999879</td>\n",
       "      <td>16.0</td>\n",
       "      <td>65.883721</td>\n",
       "      <td>54.372093</td>\n",
       "      <td>86.0</td>\n",
       "      <td>NaN</td>\n",
       "    </tr>\n",
       "  </tbody>\n",
       "</table>\n",
       "</div>"
      ],
      "text/plain": [
       "                 time location_name  location_id   latitude  longitude  \\\n",
       "0 2018-12-27 04:00:00   Grundy Park        21427  37.622585 -122.42097   \n",
       "1 2018-12-27 05:00:00   Grundy Park        21427  37.622585 -122.42097   \n",
       "2 2018-12-27 06:00:00   Grundy Park        21427  37.622585 -122.42097   \n",
       "3 2018-12-27 07:00:00   Grundy Park        21427  37.622585 -122.42097   \n",
       "4 2018-12-27 08:00:00   Grundy Park        21427  37.622585 -122.42097   \n",
       "\n",
       "   pm2_5_1h_mean  pm2_5_1h_mean_aqi  pm2_5_24h_mean  pm2_5_24h_mean_aqi  \\\n",
       "0       0.736345                4.0        2.999879                16.0   \n",
       "1       0.739827                4.0        2.999879                16.0   \n",
       "2       1.038868                6.0        2.999879                16.0   \n",
       "3       1.214613                7.0        2.999879                16.0   \n",
       "4       1.127572                6.0        2.999879                16.0   \n",
       "\n",
       "        temp         rh  elevation  pressure  \n",
       "0  53.318182  59.818182       86.0       NaN  \n",
       "1  51.777778  59.955556       86.0       NaN  \n",
       "2  52.068182  56.681818       86.0       NaN  \n",
       "3  52.755556  56.933333       86.0       NaN  \n",
       "4  65.883721  54.372093       86.0       NaN  "
      ]
     },
     "execution_count": 4,
     "metadata": {},
     "output_type": "execute_result"
    }
   ],
   "source": [
    "# Convert longitude and latitude to correct types\n",
    "purple_df['longitude'] = purple_df['longitude'].apply(lambda x: -abs(x))\n",
    "purple_df['latitude'] = purple_df['latitude'].apply(lambda x: abs(x))\n",
    "\n",
    "# Convert time to datetime (if not already done)\n",
    "purple_df['time'] = pd.to_datetime(purple_df['time'], format='%Y-%m-%d %H:%M:%S')\n",
    "\n",
    "purple_df.head()"
   ]
  },
  {
   "cell_type": "code",
   "execution_count": 5,
   "id": "236f2cf1",
   "metadata": {},
   "outputs": [
    {
     "data": {
      "text/plain": [
       "0   2018-12-27\n",
       "1   2018-12-27\n",
       "2   2018-12-27\n",
       "3   2018-12-27\n",
       "4   2018-12-27\n",
       "Name: date, dtype: datetime64[ns]"
      ]
     },
     "execution_count": 5,
     "metadata": {},
     "output_type": "execute_result"
    }
   ],
   "source": [
    "# Create column for date only\n",
    "purple_df['date'] = purple_df['time'].dt.date\n",
    "purple_df['date'] = pd.to_datetime(purple_df['date'], format='%Y-%m-%d')\n",
    "\n",
    "purple_df['date'].head()"
   ]
  },
  {
   "cell_type": "markdown",
   "id": "244b60b4",
   "metadata": {},
   "source": [
    "### **Visualizing and Analyzing**"
   ]
  },
  {
   "cell_type": "code",
   "execution_count": 6,
   "id": "8f38c972",
   "metadata": {},
   "outputs": [],
   "source": [
    "# Only take unique dates and their average pm2.5 concentrations\n",
    "unique_dates = purple_df.drop_duplicates(subset=['location_name', 'date'], keep='first')"
   ]
  },
  {
   "cell_type": "code",
   "execution_count": 7,
   "id": "b631a7f5",
   "metadata": {},
   "outputs": [
    {
     "name": "stdout",
     "output_type": "stream",
     "text": [
      "Number of outliers removed: 2104\n",
      "Number of unique dates remaining: 24034\n"
     ]
    }
   ],
   "source": [
    "# Find outliers using IQR and separate them from the dataframe\n",
    "def find_outliers_iqr(df, column):\n",
    "    q1 = df[column].quantile(0.25)\n",
    "    q3 = df[column].quantile(0.75)\n",
    "    iqr = q3 - q1\n",
    "    lower_bound = q1 - 1.5 * iqr\n",
    "    upper_bound = q3 + 1.5 * iqr\n",
    "    outliers = df[(df[column] < lower_bound) | (df[column] > upper_bound)]\n",
    "    non_outliers = df[(df[column] >= lower_bound) & (df[column] <= upper_bound)]\n",
    "    return non_outliers, outliers\n",
    "\n",
    "# Remove outliers and keep them in a separate dataframe\n",
    "unique_dates, outliers_df = find_outliers_iqr(unique_dates, 'pm2_5_24h_mean')\n",
    "\n",
    "print(\"Number of outliers removed:\", len(outliers_df))\n",
    "print(\"Number of unique dates remaining:\", len(unique_dates))"
   ]
  },
  {
   "cell_type": "code",
   "execution_count": null,
   "id": "93e4d36e",
   "metadata": {},
   "outputs": [
    {
     "data": {
      "text/plain": [
       "'../figures/purpleair_pm25_distribution.html'"
      ]
     },
     "execution_count": 7,
     "metadata": {},
     "output_type": "execute_result"
    }
   ],
   "source": [
    "# Create figure with subplots\n",
    "fig = make_subplots(rows=1, cols=2, subplot_titles=(\"Without Outliers\", \"Outliers\"))\n",
    "\n",
    "# Add histogram for PM2.5 values without outliers\n",
    "fig.add_trace(\n",
    "    go.Histogram(\n",
    "        x=unique_dates['pm2_5_24h_mean'],\n",
    "        nbinsx=35,\n",
    "        marker=dict(color='blue'),\n",
    "        hoverinfo='x+y'\n",
    "    ),\n",
    "    row=1, col=1\n",
    ")\n",
    "\n",
    "# Add histogram for PM2.5 values outliers\n",
    "fig.add_trace(\n",
    "    go.Box(\n",
    "        x=outliers_df['pm2_5_24h_mean'],\n",
    "        marker=dict(color='green'),\n",
    "        hoverinfo='x',\n",
    "        name=''\n",
    "    ),\n",
    "    row=1, col=2\n",
    ")\n",
    "\n",
    "# Update layout\n",
    "fig.update_layout(title_text=\"Distribution of PM2.5 Values for PurpleAir Monitors\",\n",
    "                  showlegend=False)\n",
    "fig.update_xaxes(title_text=\"Daily Average PM2.5 Concentration (µg/m³)\", row=1, col=1)\n",
    "fig.update_yaxes(title_text=\"Frequency\", row=1, col=1)\n",
    "fig.update_xaxes(title_text=\"Daily Average PM2.5 Concentration (µg/m³)\", row=1, col=2)\n",
    "\n",
    "# Save the figure offline\n",
    "plot(fig, filename='../figures/purpleair_pm25_distribution.html', auto_open=True)"
   ]
  },
  {
   "cell_type": "code",
   "execution_count": 8,
   "id": "158e9481",
   "metadata": {},
   "outputs": [
    {
     "data": {
      "text/html": [
       "<div>\n",
       "<style scoped>\n",
       "    .dataframe tbody tr th:only-of-type {\n",
       "        vertical-align: middle;\n",
       "    }\n",
       "\n",
       "    .dataframe tbody tr th {\n",
       "        vertical-align: top;\n",
       "    }\n",
       "\n",
       "    .dataframe thead th {\n",
       "        text-align: right;\n",
       "    }\n",
       "</style>\n",
       "<table border=\"1\" class=\"dataframe\">\n",
       "  <thead>\n",
       "    <tr style=\"text-align: right;\">\n",
       "      <th></th>\n",
       "      <th>time</th>\n",
       "      <th>location_name</th>\n",
       "      <th>location_id</th>\n",
       "      <th>latitude</th>\n",
       "      <th>longitude</th>\n",
       "      <th>pm2_5_1h_mean</th>\n",
       "      <th>pm2_5_1h_mean_aqi</th>\n",
       "      <th>pm2_5_24h_mean</th>\n",
       "      <th>pm2_5_24h_mean_aqi</th>\n",
       "      <th>temp</th>\n",
       "      <th>rh</th>\n",
       "      <th>elevation</th>\n",
       "      <th>pressure</th>\n",
       "      <th>date</th>\n",
       "      <th>pm2_5_24h_rolling_mean</th>\n",
       "    </tr>\n",
       "  </thead>\n",
       "  <tbody>\n",
       "    <tr>\n",
       "      <th>0</th>\n",
       "      <td>2018-12-27 04:00:00</td>\n",
       "      <td>Grundy Park</td>\n",
       "      <td>21427</td>\n",
       "      <td>37.622585</td>\n",
       "      <td>-122.42097</td>\n",
       "      <td>0.736345</td>\n",
       "      <td>4.0</td>\n",
       "      <td>2.999879</td>\n",
       "      <td>16.0</td>\n",
       "      <td>53.318182</td>\n",
       "      <td>59.818182</td>\n",
       "      <td>86.0</td>\n",
       "      <td>NaN</td>\n",
       "      <td>2018-12-27</td>\n",
       "      <td>0.736345</td>\n",
       "    </tr>\n",
       "    <tr>\n",
       "      <th>1</th>\n",
       "      <td>2018-12-27 05:00:00</td>\n",
       "      <td>Grundy Park</td>\n",
       "      <td>21427</td>\n",
       "      <td>37.622585</td>\n",
       "      <td>-122.42097</td>\n",
       "      <td>0.739827</td>\n",
       "      <td>4.0</td>\n",
       "      <td>2.999879</td>\n",
       "      <td>16.0</td>\n",
       "      <td>51.777778</td>\n",
       "      <td>59.955556</td>\n",
       "      <td>86.0</td>\n",
       "      <td>NaN</td>\n",
       "      <td>2018-12-27</td>\n",
       "      <td>0.738086</td>\n",
       "    </tr>\n",
       "    <tr>\n",
       "      <th>2</th>\n",
       "      <td>2018-12-27 06:00:00</td>\n",
       "      <td>Grundy Park</td>\n",
       "      <td>21427</td>\n",
       "      <td>37.622585</td>\n",
       "      <td>-122.42097</td>\n",
       "      <td>1.038868</td>\n",
       "      <td>6.0</td>\n",
       "      <td>2.999879</td>\n",
       "      <td>16.0</td>\n",
       "      <td>52.068182</td>\n",
       "      <td>56.681818</td>\n",
       "      <td>86.0</td>\n",
       "      <td>NaN</td>\n",
       "      <td>2018-12-27</td>\n",
       "      <td>0.838347</td>\n",
       "    </tr>\n",
       "    <tr>\n",
       "      <th>3</th>\n",
       "      <td>2018-12-27 07:00:00</td>\n",
       "      <td>Grundy Park</td>\n",
       "      <td>21427</td>\n",
       "      <td>37.622585</td>\n",
       "      <td>-122.42097</td>\n",
       "      <td>1.214613</td>\n",
       "      <td>7.0</td>\n",
       "      <td>2.999879</td>\n",
       "      <td>16.0</td>\n",
       "      <td>52.755556</td>\n",
       "      <td>56.933333</td>\n",
       "      <td>86.0</td>\n",
       "      <td>NaN</td>\n",
       "      <td>2018-12-27</td>\n",
       "      <td>0.932413</td>\n",
       "    </tr>\n",
       "    <tr>\n",
       "      <th>4</th>\n",
       "      <td>2018-12-27 08:00:00</td>\n",
       "      <td>Grundy Park</td>\n",
       "      <td>21427</td>\n",
       "      <td>37.622585</td>\n",
       "      <td>-122.42097</td>\n",
       "      <td>1.127572</td>\n",
       "      <td>6.0</td>\n",
       "      <td>2.999879</td>\n",
       "      <td>16.0</td>\n",
       "      <td>65.883721</td>\n",
       "      <td>54.372093</td>\n",
       "      <td>86.0</td>\n",
       "      <td>NaN</td>\n",
       "      <td>2018-12-27</td>\n",
       "      <td>0.971445</td>\n",
       "    </tr>\n",
       "  </tbody>\n",
       "</table>\n",
       "</div>"
      ],
      "text/plain": [
       "                 time location_name  location_id   latitude  longitude  \\\n",
       "0 2018-12-27 04:00:00   Grundy Park        21427  37.622585 -122.42097   \n",
       "1 2018-12-27 05:00:00   Grundy Park        21427  37.622585 -122.42097   \n",
       "2 2018-12-27 06:00:00   Grundy Park        21427  37.622585 -122.42097   \n",
       "3 2018-12-27 07:00:00   Grundy Park        21427  37.622585 -122.42097   \n",
       "4 2018-12-27 08:00:00   Grundy Park        21427  37.622585 -122.42097   \n",
       "\n",
       "   pm2_5_1h_mean  pm2_5_1h_mean_aqi  pm2_5_24h_mean  pm2_5_24h_mean_aqi  \\\n",
       "0       0.736345                4.0        2.999879                16.0   \n",
       "1       0.739827                4.0        2.999879                16.0   \n",
       "2       1.038868                6.0        2.999879                16.0   \n",
       "3       1.214613                7.0        2.999879                16.0   \n",
       "4       1.127572                6.0        2.999879                16.0   \n",
       "\n",
       "        temp         rh  elevation  pressure       date  \\\n",
       "0  53.318182  59.818182       86.0       NaN 2018-12-27   \n",
       "1  51.777778  59.955556       86.0       NaN 2018-12-27   \n",
       "2  52.068182  56.681818       86.0       NaN 2018-12-27   \n",
       "3  52.755556  56.933333       86.0       NaN 2018-12-27   \n",
       "4  65.883721  54.372093       86.0       NaN 2018-12-27   \n",
       "\n",
       "   pm2_5_24h_rolling_mean  \n",
       "0                0.736345  \n",
       "1                0.738086  \n",
       "2                0.838347  \n",
       "3                0.932413  \n",
       "4                0.971445  "
      ]
     },
     "execution_count": 8,
     "metadata": {},
     "output_type": "execute_result"
    }
   ],
   "source": [
    "# Calculate the rolling 24h mean for PM2.5 for each hour\n",
    "purple_df['pm2_5_24h_rolling_mean'] = purple_df.groupby('location_name')['pm2_5_1h_mean'].transform(\n",
    "    lambda x: x.rolling(window=24, min_periods=1).mean()\n",
    ")\n",
    "\n",
    "# Impute missing values in the rolling mean\n",
    "purple_df['pm2_5_24h_rolling_mean'] = purple_df['pm2_5_24h_rolling_mean'].ffill()\n",
    "purple_df['pm2_5_24h_rolling_mean'] = purple_df['pm2_5_24h_rolling_mean'].bfill()\n",
    "\n",
    "purple_df.head()"
   ]
  },
  {
   "cell_type": "code",
   "execution_count": 9,
   "id": "9c8bf3e2",
   "metadata": {},
   "outputs": [],
   "source": [
    "# AQI calculation function\n",
    "def calculate_pm2_5_aqi(C_p):\n",
    "    if pd.isna(C_p):\n",
    "        return None\n",
    "\n",
    "    C_p = float(str(C_p)[:str(C_p).find('.')+2]) if '.' in str(C_p) else float(C_p)\n",
    "\n",
    "    breakpoints = [\n",
    "        (0.0,   9.0,   0,   50),\n",
    "        (9.1,   35.4,  51,  100),\n",
    "        (35.5,  55.4,  101, 150),\n",
    "        (55.5,  125.4, 151, 200),\n",
    "        (125.5, 225.4, 201, 300),\n",
    "        (225.5, 500.4, 301, 500)\n",
    "    ]\n",
    "\n",
    "    for BP_Lo, BP_Hi, I_Lo, I_Hi in breakpoints:\n",
    "        if BP_Lo <= C_p <= BP_Hi:\n",
    "            I_p = ((I_Hi - I_Lo) / (BP_Hi - BP_Lo)) * (C_p - BP_Lo) + I_Lo\n",
    "            return round(I_p)\n",
    "\n",
    "    return None\n",
    "\n",
    "# Calculate AQI for PM2.5 24hr mean\n",
    "purple_df['pm2_5_24h_rolling_mean_aqi'] = purple_df['pm2_5_24h_rolling_mean'].apply(calculate_pm2_5_aqi)"
   ]
  },
  {
   "cell_type": "code",
   "execution_count": 10,
   "id": "e82e944c",
   "metadata": {},
   "outputs": [
    {
     "data": {
      "text/plain": [
       "'../figures/purpleair_pm25_aqi_scatter.html'"
      ]
     },
     "execution_count": 10,
     "metadata": {},
     "output_type": "execute_result"
    }
   ],
   "source": [
    "# Find outliers from dataframe\n",
    "no_outliers_df, outliers_df = find_outliers_iqr(purple_df, 'pm2_5_24h_rolling_mean_aqi')\n",
    "\n",
    "# Create figure with subplots\n",
    "fig = make_subplots(rows=1, cols=2, subplot_titles=(\"Without Outliers\", \"Outliers\"))\n",
    "\n",
    "# Scatterplot of PM2.5 values for PurpleAir monitors without outliers\n",
    "fig.add_trace(\n",
    "        go.Scatter(\n",
    "                x=no_outliers_df['pm2_5_1h_mean'],\n",
    "                y=no_outliers_df['pm2_5_24h_rolling_mean_aqi'],\n",
    "                mode='markers',\n",
    "                marker=dict(color='blue', size=5),\n",
    "                hovertext=no_outliers_df['location_name'],\n",
    "                name=''\n",
    "        ),\n",
    "        row=1, col=1\n",
    ")\n",
    "\n",
    "# Scatterplot of PM2.5 values for PurpleAir monitors with outliers\n",
    "fig.add_trace(\n",
    "        go.Scatter(\n",
    "                x=outliers_df['pm2_5_1h_mean'],\n",
    "                y=outliers_df['pm2_5_24h_rolling_mean_aqi'],\n",
    "                mode='markers',\n",
    "                marker=dict(color='red', size=5),\n",
    "                hovertext=outliers_df['location_name'],\n",
    "                name=''\n",
    "        ),\n",
    "        row=1, col=2\n",
    ")\n",
    "\n",
    "# Update axis titles\n",
    "fig.update_xaxes(title_text=\"Hourly Average PM2.5 Concentration (µg/m³)\", row=1, col=1)\n",
    "fig.update_yaxes(title_text=\"Daily Average PM2.5 AQI\", row=1, col=1)\n",
    "fig.update_xaxes(title_text=\"Hourly Average PM2.5 Concentration (µg/m³)\", row=1, col=2)\n",
    "fig.update_yaxes(title_text=\"Daily Average PM2.5 AQI\", row=1, col=2)\n",
    "\n",
    "# Update layout\n",
    "fig.update_layout(title_text=\"Scatter Plots of PM2.5 Values for PurpleAir Monitors\",\n",
    "                                  showlegend=False)\n",
    "\n",
    "# Save the figure offline\n",
    "plot(fig, filename='../figures/purpleair_pm25_aqi_scatter.html', auto_open=True)"
   ]
  },
  {
   "cell_type": "markdown",
   "id": "dc6046e0",
   "metadata": {},
   "source": [
    "## **Clarity Monitors**"
   ]
  },
  {
   "cell_type": "code",
   "execution_count": 9,
   "id": "5317f07e",
   "metadata": {},
   "outputs": [
    {
     "data": {
      "text/html": [
       "<div>\n",
       "<style scoped>\n",
       "    .dataframe tbody tr th:only-of-type {\n",
       "        vertical-align: middle;\n",
       "    }\n",
       "\n",
       "    .dataframe tbody tr th {\n",
       "        vertical-align: top;\n",
       "    }\n",
       "\n",
       "    .dataframe thead th {\n",
       "        text-align: right;\n",
       "    }\n",
       "</style>\n",
       "<table border=\"1\" class=\"dataframe\">\n",
       "  <thead>\n",
       "    <tr style=\"text-align: right;\">\n",
       "      <th></th>\n",
       "      <th>time</th>\n",
       "      <th>location_name</th>\n",
       "      <th>location_id</th>\n",
       "      <th>latitude</th>\n",
       "      <th>longitude</th>\n",
       "      <th>pm2_5_1h_mean</th>\n",
       "      <th>pm2_5_1h_mean_aqi</th>\n",
       "      <th>pm2_5_24h_mean</th>\n",
       "      <th>pm2_5_24h_mean_aqi</th>\n",
       "      <th>temp</th>\n",
       "      <th>rh</th>\n",
       "      <th>date</th>\n",
       "    </tr>\n",
       "  </thead>\n",
       "  <tbody>\n",
       "    <tr>\n",
       "      <th>33</th>\n",
       "      <td>2024-10-31 11:00:00</td>\n",
       "      <td>Belle Air School</td>\n",
       "      <td>DRCAC7970</td>\n",
       "      <td>37.62441</td>\n",
       "      <td>-122.40469</td>\n",
       "      <td>4.07</td>\n",
       "      <td>22.0</td>\n",
       "      <td>3.942308</td>\n",
       "      <td>22</td>\n",
       "      <td>20.00</td>\n",
       "      <td>54.91</td>\n",
       "      <td>2024-10-31</td>\n",
       "    </tr>\n",
       "    <tr>\n",
       "      <th>34</th>\n",
       "      <td>2024-10-31 12:00:00</td>\n",
       "      <td>Belle Air School</td>\n",
       "      <td>DRCAC7970</td>\n",
       "      <td>37.62441</td>\n",
       "      <td>-122.40469</td>\n",
       "      <td>4.11</td>\n",
       "      <td>23.0</td>\n",
       "      <td>3.942308</td>\n",
       "      <td>22</td>\n",
       "      <td>20.50</td>\n",
       "      <td>51.66</td>\n",
       "      <td>2024-10-31</td>\n",
       "    </tr>\n",
       "    <tr>\n",
       "      <th>49</th>\n",
       "      <td>2024-10-31 13:00:00</td>\n",
       "      <td>Belle Air School</td>\n",
       "      <td>DRCAC7970</td>\n",
       "      <td>37.62441</td>\n",
       "      <td>-122.40469</td>\n",
       "      <td>4.38</td>\n",
       "      <td>24.0</td>\n",
       "      <td>3.942308</td>\n",
       "      <td>22</td>\n",
       "      <td>20.47</td>\n",
       "      <td>50.51</td>\n",
       "      <td>2024-10-31</td>\n",
       "    </tr>\n",
       "    <tr>\n",
       "      <th>52</th>\n",
       "      <td>2024-10-31 14:00:00</td>\n",
       "      <td>Belle Air School</td>\n",
       "      <td>DRCAC7970</td>\n",
       "      <td>37.62441</td>\n",
       "      <td>-122.40469</td>\n",
       "      <td>4.15</td>\n",
       "      <td>23.0</td>\n",
       "      <td>3.942308</td>\n",
       "      <td>22</td>\n",
       "      <td>19.94</td>\n",
       "      <td>53.11</td>\n",
       "      <td>2024-10-31</td>\n",
       "    </tr>\n",
       "    <tr>\n",
       "      <th>63</th>\n",
       "      <td>2024-10-31 15:00:00</td>\n",
       "      <td>Belle Air School</td>\n",
       "      <td>DRCAC7970</td>\n",
       "      <td>37.62441</td>\n",
       "      <td>-122.40469</td>\n",
       "      <td>3.67</td>\n",
       "      <td>20.0</td>\n",
       "      <td>3.942308</td>\n",
       "      <td>22</td>\n",
       "      <td>18.86</td>\n",
       "      <td>56.11</td>\n",
       "      <td>2024-10-31</td>\n",
       "    </tr>\n",
       "  </tbody>\n",
       "</table>\n",
       "</div>"
      ],
      "text/plain": [
       "                  time     location_name location_id  latitude  longitude  \\\n",
       "33 2024-10-31 11:00:00  Belle Air School   DRCAC7970  37.62441 -122.40469   \n",
       "34 2024-10-31 12:00:00  Belle Air School   DRCAC7970  37.62441 -122.40469   \n",
       "49 2024-10-31 13:00:00  Belle Air School   DRCAC7970  37.62441 -122.40469   \n",
       "52 2024-10-31 14:00:00  Belle Air School   DRCAC7970  37.62441 -122.40469   \n",
       "63 2024-10-31 15:00:00  Belle Air School   DRCAC7970  37.62441 -122.40469   \n",
       "\n",
       "    pm2_5_1h_mean  pm2_5_1h_mean_aqi  pm2_5_24h_mean  pm2_5_24h_mean_aqi  \\\n",
       "33           4.07               22.0        3.942308                  22   \n",
       "34           4.11               23.0        3.942308                  22   \n",
       "49           4.38               24.0        3.942308                  22   \n",
       "52           4.15               23.0        3.942308                  22   \n",
       "63           3.67               20.0        3.942308                  22   \n",
       "\n",
       "     temp     rh       date  \n",
       "33  20.00  54.91 2024-10-31  \n",
       "34  20.50  51.66 2024-10-31  \n",
       "49  20.47  50.51 2024-10-31  \n",
       "52  19.94  53.11 2024-10-31  \n",
       "63  18.86  56.11 2024-10-31  "
      ]
     },
     "execution_count": 9,
     "metadata": {},
     "output_type": "execute_result"
    }
   ],
   "source": [
    "# Load cleaned data for Clarity monitors\n",
    "clarity_df = pd.read_csv('../data/clean_clarity.csv')\n",
    "\n",
    "# Sort by monitor and time\n",
    "clarity_df = clarity_df.sort_values(['location_name', 'time'])\n",
    "\n",
    "# Convert longitude and latitude to correct types\n",
    "clarity_df['longitude'] = clarity_df['longitude'].apply(lambda x: -abs(x))\n",
    "clarity_df['latitude'] = clarity_df['latitude'].apply(lambda x: abs(x))\n",
    "\n",
    "# Convert time to datetime (if not already done)\n",
    "clarity_df['time'] = pd.to_datetime(clarity_df['time'], format='%Y-%m-%d %H:%M:%S')\n",
    "\n",
    "# Create column for date only\n",
    "clarity_df['date'] = clarity_df['time'].dt.date\n",
    "clarity_df['date'] = pd.to_datetime(clarity_df['date'], format='%Y-%m-%d')\n",
    "\n",
    "clarity_df.head()"
   ]
  },
  {
   "cell_type": "code",
   "execution_count": null,
   "id": "dfcf47e1",
   "metadata": {},
   "outputs": [],
   "source": [
    "# Only take unique dates and their average pm2.5 concentrations\n",
    "unique_dates_clarity = clarity_df.drop_duplicates(subset=['location_name', 'date'], keep='first')\n",
    "\n",
    "# Find outliers using IQR and separate them from the dataframe\n",
    "unique_dates_clarity, outliers_df_clarity = find_outliers_iqr(unique_dates_clarity, 'pm2_5_24h_mean')\n",
    "\n",
    "# Create figure with subplots\n",
    "fig = make_subplots(rows=1, cols=2, subplot_titles=(\"Without Outliers\", \"Outliers\"))\n",
    "\n",
    "# Add histogram for PM2.5 values without outliers\n",
    "fig.add_trace(\n",
    "    go.Histogram(\n",
    "        x=unique_dates_clarity['pm2_5_24h_mean'],\n",
    "        nbinsx=35,\n",
    "        marker=dict(color='blue'),\n",
    "        hoverinfo='x+y'\n",
    "    ),\n",
    "    row=1, col=1\n",
    ")\n",
    "\n",
    "# Add histogram for PM2.5 values outliers\n",
    "fig.add_trace(\n",
    "    go.Box(\n",
    "        x=outliers_df_clarity['pm2_5_24h_mean'],\n",
    "        marker=dict(color='green'),\n",
    "        hoverinfo='x',\n",
    "        name=''\n",
    "    ),\n",
    "    row=1, col=2\n",
    ")\n",
    "\n",
    "# Update layout\n",
    "fig.update_layout(title_text=\"Distribution of PM2.5 Values for Clarity Monitors\",\n",
    "                  showlegend=False)\n",
    "fig.update_xaxes(title_text=\"Daily Average PM2.5 Concentration (µg/m³)\", row=1, col=1)\n",
    "fig.update_yaxes(title_text=\"Frequency\", row=1, col=1)\n",
    "fig.update_xaxes(title_text=\"Daily Average PM2.5 Concentration (µg/m³)\", row=1, col=2)\n",
    "\n",
    "# Save the figure offline\n",
    "plot(fig, filename='../figures/clarity_pm25_distribution.html', auto_open=True)"
   ]
  },
  {
   "cell_type": "code",
   "execution_count": 12,
   "id": "0c1641fd",
   "metadata": {},
   "outputs": [
    {
     "data": {
      "text/plain": [
       "'../figures/clarity_pm25_aqi_scatter.html'"
      ]
     },
     "execution_count": 12,
     "metadata": {},
     "output_type": "execute_result"
    }
   ],
   "source": [
    "# Calculate the rolling 24h mean for PM2.5 for each hour\n",
    "clarity_df['pm2_5_24h_rolling_mean'] = clarity_df.groupby('location_name')['pm2_5_1h_mean'].transform(\n",
    "    lambda x: x.rolling(window=24, min_periods=1).mean()\n",
    ")\n",
    "\n",
    "# Impute missing values in the rolling mean\n",
    "clarity_df['pm2_5_24h_rolling_mean'] = clarity_df['pm2_5_24h_rolling_mean'].ffill()\n",
    "clarity_df['pm2_5_24h_rolling_mean'] = clarity_df['pm2_5_24h_rolling_mean'].bfill()\n",
    "\n",
    "# Calculate AQI for PM2.5 24hr mean\n",
    "clarity_df['pm2_5_24h_rolling_mean_aqi'] = clarity_df['pm2_5_24h_rolling_mean'].apply(calculate_pm2_5_aqi)\n",
    "\n",
    "# Find outliers from dataframe\n",
    "no_outliers_df_clarity, outliers_df_clarity = find_outliers_iqr(clarity_df, 'pm2_5_24h_rolling_mean_aqi')\n",
    "\n",
    "# Create figure with subplots\n",
    "fig = make_subplots(rows=1, cols=2, subplot_titles=(\"Without Outliers\", \"Outliers\"))\n",
    "\n",
    "# Scatterplot of PM2.5 values for Clarity monitors without outliers\n",
    "fig.add_trace(\n",
    "        go.Scatter(\n",
    "                x=no_outliers_df_clarity['pm2_5_1h_mean'],\n",
    "                y=no_outliers_df_clarity['pm2_5_24h_rolling_mean_aqi'],\n",
    "                mode='markers',\n",
    "                marker=dict(color='blue', size=5),\n",
    "                hovertext=no_outliers_df_clarity['location_name'],\n",
    "                name=''\n",
    "        ),\n",
    "        row=1, col=1\n",
    ")\n",
    "\n",
    "# Scatterplot of PM2.5 values for Clarity monitors with outliers\n",
    "fig.add_trace(\n",
    "        go.Scatter(\n",
    "                x=outliers_df_clarity['pm2_5_1h_mean'],\n",
    "                y=outliers_df_clarity['pm2_5_24h_rolling_mean_aqi'],\n",
    "                mode='markers',\n",
    "                marker=dict(color='red', size=5),\n",
    "                hovertext=outliers_df_clarity['location_name'],\n",
    "                name=''\n",
    "        ),\n",
    "        row=1, col=2\n",
    ")\n",
    "\n",
    "# Update axis titles\n",
    "fig.update_xaxes(title_text=\"Hourly Average PM2.5 Concentration (µg/m³)\", row=1, col=1)\n",
    "fig.update_yaxes(title_text=\"Daily Average PM2.5 AQI\", row=1, col=1)\n",
    "fig.update_xaxes(title_text=\"Hourly Average PM2.5 Concentration (µg/m³)\", row=1, col=2)\n",
    "fig.update_yaxes(title_text=\"Daily Average PM2.5 AQI\", row=1, col=2)\n",
    "\n",
    "# Update layout\n",
    "fig.update_layout(title_text=\"Scatter Plots of PM2.5 Values for Clarity Monitors\",\n",
    "                                  showlegend=False)\n",
    "\n",
    "# Save the figure offline\n",
    "plot(fig, filename='../figures/clarity_pm25_aqi_scatter.html', auto_open=True)"
   ]
  },
  {
   "cell_type": "code",
   "execution_count": 13,
   "id": "e972bc0f",
   "metadata": {},
   "outputs": [
    {
     "data": {
      "application/vnd.plotly.v1+json": {
       "config": {
        "plotlyServerURL": "https://plot.ly"
       },
       "data": [
        {
         "hovertemplate": "Month=October<br>Day of Month=%{x}<br>PM2.5 (1-hour mean)=%{y}<extra></extra>",
         "legendgroup": "",
         "line": {
          "color": "#636efa",
          "dash": "solid"
         },
         "marker": {
          "symbol": "circle"
         },
         "mode": "lines",
         "name": "",
         "orientation": "v",
         "showlegend": false,
         "type": "scatter",
         "x": [
          30,
          31
         ],
         "xaxis": "x",
         "y": [
          12.265714285714285,
          4.83328125
         ],
         "yaxis": "y"
        },
        {
         "hovertemplate": "Month=November<br>Day of Month=%{x}<br>PM2.5 (1-hour mean)=%{y}<extra></extra>",
         "legendgroup": "",
         "line": {
          "color": "#636efa",
          "dash": "solid"
         },
         "marker": {
          "symbol": "circle"
         },
         "mode": "lines",
         "name": "",
         "orientation": "v",
         "showlegend": false,
         "type": "scatter",
         "x": [
          1,
          2,
          3,
          4,
          5,
          6,
          7,
          8,
          9,
          10,
          11,
          12,
          13,
          14,
          15,
          16,
          17,
          18,
          19,
          20,
          21,
          22,
          23,
          24,
          25,
          26,
          27,
          28,
          29,
          30
         ],
         "xaxis": "x2",
         "y": [
          5.723888888888888,
          4.951018518518519,
          4.522044444444445,
          6.193425925925926,
          6.101018518518519,
          4.50537037037037,
          5.61875,
          9.50050925925926,
          13.082222222222223,
          10.045833333333334,
          3.4153240740740745,
          5.238973384030418,
          4.338303571428572,
          4.917492537313432,
          6.277738095238096,
          6.406238805970149,
          4.989761904761904,
          4.821101190476191,
          5.217827380952381,
          3.204047619047619,
          2.1097910447761192,
          2.527559523809524,
          3.5475000000000003,
          3.5312835820895523,
          3.2036011904761907,
          3.493820895522388,
          4.771671641791045,
          6.28125,
          7.956279761904762,
          11.951071428571428
         ],
         "yaxis": "y2"
        },
        {
         "hovertemplate": "Month=December<br>Day of Month=%{x}<br>PM2.5 (1-hour mean)=%{y}<extra></extra>",
         "legendgroup": "",
         "line": {
          "color": "#636efa",
          "dash": "solid"
         },
         "marker": {
          "symbol": "circle"
         },
         "mode": "lines",
         "name": "",
         "orientation": "v",
         "showlegend": false,
         "type": "scatter",
         "x": [
          1,
          2,
          3,
          4,
          5,
          6,
          7,
          8,
          9,
          10,
          11,
          12,
          13,
          14,
          15,
          16,
          17,
          18,
          19,
          20,
          21,
          22,
          23,
          24,
          25,
          26,
          27,
          28,
          29,
          30,
          31
         ],
         "xaxis": "x3",
         "y": [
          11.786238805970148,
          9.11860119047619,
          11.012298507462686,
          20.24910447761194,
          13.618511904761904,
          12.254895522388061,
          27.44133928571429,
          28.444119402985077,
          6.888392857142857,
          18.588686567164178,
          23.992656716417912,
          5.914107142857143,
          4.178686567164179,
          4.732767857142857,
          7.38065671641791,
          7.5497313432835815,
          12.560505952380952,
          11.452149253731342,
          18.31339393939394,
          23.433396226415095,
          9.229999999999999,
          13.508364779874213,
          10.4962893081761,
          4.07440251572327,
          5.333584905660377,
          3.5726729559748422,
          8.077012195121952,
          4.139761194029851,
          3.5638208955223885,
          4.335701492537313,
          5.4211309523809526
         ],
         "yaxis": "y3"
        },
        {
         "hovertemplate": "Month=January<br>Day of Month=%{x}<br>PM2.5 (1-hour mean)=%{y}<extra></extra>",
         "legendgroup": "",
         "line": {
          "color": "#636efa",
          "dash": "solid"
         },
         "marker": {
          "symbol": "circle"
         },
         "mode": "lines",
         "name": "",
         "orientation": "v",
         "showlegend": false,
         "type": "scatter",
         "x": [
          1,
          2,
          3,
          4,
          5,
          6,
          7,
          8,
          9,
          10,
          11,
          12,
          13,
          14,
          15,
          16,
          17,
          18,
          19,
          20,
          21,
          22,
          23,
          24,
          25,
          26,
          27,
          28,
          29,
          30,
          31
         ],
         "xaxis": "x4",
         "y": [
          10.830654761904762,
          9.254255952380952,
          7.184077380952381,
          6.60529761904762,
          6.694507462686567,
          8.141011904761905,
          3.7721130952380952,
          5.121369047619048,
          7.045029761904762,
          6.578776119402985,
          5.285714285714286,
          4.8984523809523814,
          4.929313432835821,
          5.578303571428571,
          12.018035714285714,
          18.362142857142857,
          12.791369047619046,
          12.70555223880597,
          9.377142857142857,
          8.694910714285713,
          6.568328358208955,
          12.286547619047619,
          11.09889880952381,
          16.745386904761904,
          7.844298507462687,
          5.150714285714286,
          5.761488095238095,
          5.682053571428572,
          6.07764880952381,
          5.384404761904762,
          6.467619047619047
         ],
         "yaxis": "y4"
        },
        {
         "hovertemplate": "Month=February<br>Day of Month=%{x}<br>PM2.5 (1-hour mean)=%{y}<extra></extra>",
         "legendgroup": "",
         "line": {
          "color": "#636efa",
          "dash": "solid"
         },
         "marker": {
          "symbol": "circle"
         },
         "mode": "lines",
         "name": "",
         "orientation": "v",
         "showlegend": false,
         "type": "scatter",
         "x": [
          1,
          2,
          3,
          4,
          5,
          6,
          7,
          8,
          9,
          10,
          11,
          12,
          13,
          14,
          15,
          16,
          17,
          18,
          19,
          20,
          21,
          22,
          23,
          24,
          25,
          26,
          27,
          28
         ],
         "xaxis": "x5",
         "y": [
          4.060274390243903,
          2.5081612903225805,
          2.894577922077922,
          2.3298392282958202,
          3.6809907120743035,
          3.644559270516717,
          3.2688855421686744,
          3.821785714285714,
          4.248839285714285,
          4.621071428571429,
          4.744268656716418,
          5.990818181818182,
          4.310121951219513,
          6.582896341463415,
          6.683799392097264,
          4.8773860182370825,
          4.636454545454545,
          5.186393939393939,
          4.757294832826748,
          4.963890577507598,
          5.048905775075988,
          6.796565349544074,
          4.957987804878049,
          3.9805182926829263,
          7.410184049079754,
          6.273058103975535,
          7.1553658536585365,
          12.284255319148937
         ],
         "yaxis": "y5"
        },
        {
         "hovertemplate": "Month=March<br>Day of Month=%{x}<br>PM2.5 (1-hour mean)=%{y}<extra></extra>",
         "legendgroup": "",
         "line": {
          "color": "#636efa",
          "dash": "solid"
         },
         "marker": {
          "symbol": "circle"
         },
         "mode": "lines",
         "name": "",
         "orientation": "v",
         "showlegend": false,
         "type": "scatter",
         "x": [
          1,
          2,
          3,
          4,
          5,
          6,
          7,
          8,
          9,
          10,
          11,
          12,
          13,
          14,
          15,
          16,
          17,
          18,
          19,
          20,
          21,
          22,
          23,
          24,
          25,
          26,
          27,
          28,
          29,
          30,
          31
         ],
         "xaxis": "x6",
         "y": [
          4.6052852852852855,
          4.120271084337349,
          3.8083783783783787,
          3.1767469879518075,
          4.2810625,
          4.762972136222911,
          7.500521472392638,
          5.892385321100917,
          5.774683544303797,
          5.840481927710843,
          4.776516516516517,
          3.3053776435045314,
          3.153545454545455,
          4.629244712990936,
          11.5256,
          5.641503067484663,
          4.754553846153846,
          4.8348297213622295,
          4.454141104294479,
          4.219878048780488,
          5.346827794561934,
          4.780755287009064,
          5.165105740181269,
          5.598704819277108,
          6.999307228915662,
          5.3266265060240965,
          4.036890243902438,
          4.978926380368098,
          4.46960244648318,
          4.113549382716049,
          4.971397515527951
         ],
         "yaxis": "y6"
        }
       ],
       "layout": {
        "annotations": [
         {
          "font": {},
          "showarrow": false,
          "text": "Month=October",
          "x": 0.075,
          "xanchor": "center",
          "xref": "paper",
          "y": 1,
          "yanchor": "bottom",
          "yref": "paper"
         },
         {
          "font": {},
          "showarrow": false,
          "text": "Month=November",
          "x": 0.24499999999999997,
          "xanchor": "center",
          "xref": "paper",
          "y": 1,
          "yanchor": "bottom",
          "yref": "paper"
         },
         {
          "font": {},
          "showarrow": false,
          "text": "Month=December",
          "x": 0.415,
          "xanchor": "center",
          "xref": "paper",
          "y": 1,
          "yanchor": "bottom",
          "yref": "paper"
         },
         {
          "font": {},
          "showarrow": false,
          "text": "Month=January",
          "x": 0.585,
          "xanchor": "center",
          "xref": "paper",
          "y": 1,
          "yanchor": "bottom",
          "yref": "paper"
         },
         {
          "font": {},
          "showarrow": false,
          "text": "Month=February",
          "x": 0.7549999999999999,
          "xanchor": "center",
          "xref": "paper",
          "y": 1,
          "yanchor": "bottom",
          "yref": "paper"
         },
         {
          "font": {},
          "showarrow": false,
          "text": "Month=March",
          "x": 0.925,
          "xanchor": "center",
          "xref": "paper",
          "y": 1,
          "yanchor": "bottom",
          "yref": "paper"
         }
        ],
        "height": 400,
        "legend": {
         "tracegroupgap": 0
        },
        "margin": {
         "b": 50,
         "l": 50,
         "r": 50,
         "t": 50
        },
        "template": {
         "data": {
          "bar": [
           {
            "error_x": {
             "color": "#2a3f5f"
            },
            "error_y": {
             "color": "#2a3f5f"
            },
            "marker": {
             "line": {
              "color": "#E5ECF6",
              "width": 0.5
             },
             "pattern": {
              "fillmode": "overlay",
              "size": 10,
              "solidity": 0.2
             }
            },
            "type": "bar"
           }
          ],
          "barpolar": [
           {
            "marker": {
             "line": {
              "color": "#E5ECF6",
              "width": 0.5
             },
             "pattern": {
              "fillmode": "overlay",
              "size": 10,
              "solidity": 0.2
             }
            },
            "type": "barpolar"
           }
          ],
          "carpet": [
           {
            "aaxis": {
             "endlinecolor": "#2a3f5f",
             "gridcolor": "white",
             "linecolor": "white",
             "minorgridcolor": "white",
             "startlinecolor": "#2a3f5f"
            },
            "baxis": {
             "endlinecolor": "#2a3f5f",
             "gridcolor": "white",
             "linecolor": "white",
             "minorgridcolor": "white",
             "startlinecolor": "#2a3f5f"
            },
            "type": "carpet"
           }
          ],
          "choropleth": [
           {
            "colorbar": {
             "outlinewidth": 0,
             "ticks": ""
            },
            "type": "choropleth"
           }
          ],
          "contour": [
           {
            "colorbar": {
             "outlinewidth": 0,
             "ticks": ""
            },
            "colorscale": [
             [
              0,
              "#0d0887"
             ],
             [
              0.1111111111111111,
              "#46039f"
             ],
             [
              0.2222222222222222,
              "#7201a8"
             ],
             [
              0.3333333333333333,
              "#9c179e"
             ],
             [
              0.4444444444444444,
              "#bd3786"
             ],
             [
              0.5555555555555556,
              "#d8576b"
             ],
             [
              0.6666666666666666,
              "#ed7953"
             ],
             [
              0.7777777777777778,
              "#fb9f3a"
             ],
             [
              0.8888888888888888,
              "#fdca26"
             ],
             [
              1,
              "#f0f921"
             ]
            ],
            "type": "contour"
           }
          ],
          "contourcarpet": [
           {
            "colorbar": {
             "outlinewidth": 0,
             "ticks": ""
            },
            "type": "contourcarpet"
           }
          ],
          "heatmap": [
           {
            "colorbar": {
             "outlinewidth": 0,
             "ticks": ""
            },
            "colorscale": [
             [
              0,
              "#0d0887"
             ],
             [
              0.1111111111111111,
              "#46039f"
             ],
             [
              0.2222222222222222,
              "#7201a8"
             ],
             [
              0.3333333333333333,
              "#9c179e"
             ],
             [
              0.4444444444444444,
              "#bd3786"
             ],
             [
              0.5555555555555556,
              "#d8576b"
             ],
             [
              0.6666666666666666,
              "#ed7953"
             ],
             [
              0.7777777777777778,
              "#fb9f3a"
             ],
             [
              0.8888888888888888,
              "#fdca26"
             ],
             [
              1,
              "#f0f921"
             ]
            ],
            "type": "heatmap"
           }
          ],
          "heatmapgl": [
           {
            "colorbar": {
             "outlinewidth": 0,
             "ticks": ""
            },
            "colorscale": [
             [
              0,
              "#0d0887"
             ],
             [
              0.1111111111111111,
              "#46039f"
             ],
             [
              0.2222222222222222,
              "#7201a8"
             ],
             [
              0.3333333333333333,
              "#9c179e"
             ],
             [
              0.4444444444444444,
              "#bd3786"
             ],
             [
              0.5555555555555556,
              "#d8576b"
             ],
             [
              0.6666666666666666,
              "#ed7953"
             ],
             [
              0.7777777777777778,
              "#fb9f3a"
             ],
             [
              0.8888888888888888,
              "#fdca26"
             ],
             [
              1,
              "#f0f921"
             ]
            ],
            "type": "heatmapgl"
           }
          ],
          "histogram": [
           {
            "marker": {
             "pattern": {
              "fillmode": "overlay",
              "size": 10,
              "solidity": 0.2
             }
            },
            "type": "histogram"
           }
          ],
          "histogram2d": [
           {
            "colorbar": {
             "outlinewidth": 0,
             "ticks": ""
            },
            "colorscale": [
             [
              0,
              "#0d0887"
             ],
             [
              0.1111111111111111,
              "#46039f"
             ],
             [
              0.2222222222222222,
              "#7201a8"
             ],
             [
              0.3333333333333333,
              "#9c179e"
             ],
             [
              0.4444444444444444,
              "#bd3786"
             ],
             [
              0.5555555555555556,
              "#d8576b"
             ],
             [
              0.6666666666666666,
              "#ed7953"
             ],
             [
              0.7777777777777778,
              "#fb9f3a"
             ],
             [
              0.8888888888888888,
              "#fdca26"
             ],
             [
              1,
              "#f0f921"
             ]
            ],
            "type": "histogram2d"
           }
          ],
          "histogram2dcontour": [
           {
            "colorbar": {
             "outlinewidth": 0,
             "ticks": ""
            },
            "colorscale": [
             [
              0,
              "#0d0887"
             ],
             [
              0.1111111111111111,
              "#46039f"
             ],
             [
              0.2222222222222222,
              "#7201a8"
             ],
             [
              0.3333333333333333,
              "#9c179e"
             ],
             [
              0.4444444444444444,
              "#bd3786"
             ],
             [
              0.5555555555555556,
              "#d8576b"
             ],
             [
              0.6666666666666666,
              "#ed7953"
             ],
             [
              0.7777777777777778,
              "#fb9f3a"
             ],
             [
              0.8888888888888888,
              "#fdca26"
             ],
             [
              1,
              "#f0f921"
             ]
            ],
            "type": "histogram2dcontour"
           }
          ],
          "mesh3d": [
           {
            "colorbar": {
             "outlinewidth": 0,
             "ticks": ""
            },
            "type": "mesh3d"
           }
          ],
          "parcoords": [
           {
            "line": {
             "colorbar": {
              "outlinewidth": 0,
              "ticks": ""
             }
            },
            "type": "parcoords"
           }
          ],
          "pie": [
           {
            "automargin": true,
            "type": "pie"
           }
          ],
          "scatter": [
           {
            "fillpattern": {
             "fillmode": "overlay",
             "size": 10,
             "solidity": 0.2
            },
            "type": "scatter"
           }
          ],
          "scatter3d": [
           {
            "line": {
             "colorbar": {
              "outlinewidth": 0,
              "ticks": ""
             }
            },
            "marker": {
             "colorbar": {
              "outlinewidth": 0,
              "ticks": ""
             }
            },
            "type": "scatter3d"
           }
          ],
          "scattercarpet": [
           {
            "marker": {
             "colorbar": {
              "outlinewidth": 0,
              "ticks": ""
             }
            },
            "type": "scattercarpet"
           }
          ],
          "scattergeo": [
           {
            "marker": {
             "colorbar": {
              "outlinewidth": 0,
              "ticks": ""
             }
            },
            "type": "scattergeo"
           }
          ],
          "scattergl": [
           {
            "marker": {
             "colorbar": {
              "outlinewidth": 0,
              "ticks": ""
             }
            },
            "type": "scattergl"
           }
          ],
          "scattermapbox": [
           {
            "marker": {
             "colorbar": {
              "outlinewidth": 0,
              "ticks": ""
             }
            },
            "type": "scattermapbox"
           }
          ],
          "scatterpolar": [
           {
            "marker": {
             "colorbar": {
              "outlinewidth": 0,
              "ticks": ""
             }
            },
            "type": "scatterpolar"
           }
          ],
          "scatterpolargl": [
           {
            "marker": {
             "colorbar": {
              "outlinewidth": 0,
              "ticks": ""
             }
            },
            "type": "scatterpolargl"
           }
          ],
          "scatterternary": [
           {
            "marker": {
             "colorbar": {
              "outlinewidth": 0,
              "ticks": ""
             }
            },
            "type": "scatterternary"
           }
          ],
          "surface": [
           {
            "colorbar": {
             "outlinewidth": 0,
             "ticks": ""
            },
            "colorscale": [
             [
              0,
              "#0d0887"
             ],
             [
              0.1111111111111111,
              "#46039f"
             ],
             [
              0.2222222222222222,
              "#7201a8"
             ],
             [
              0.3333333333333333,
              "#9c179e"
             ],
             [
              0.4444444444444444,
              "#bd3786"
             ],
             [
              0.5555555555555556,
              "#d8576b"
             ],
             [
              0.6666666666666666,
              "#ed7953"
             ],
             [
              0.7777777777777778,
              "#fb9f3a"
             ],
             [
              0.8888888888888888,
              "#fdca26"
             ],
             [
              1,
              "#f0f921"
             ]
            ],
            "type": "surface"
           }
          ],
          "table": [
           {
            "cells": {
             "fill": {
              "color": "#EBF0F8"
             },
             "line": {
              "color": "white"
             }
            },
            "header": {
             "fill": {
              "color": "#C8D4E3"
             },
             "line": {
              "color": "white"
             }
            },
            "type": "table"
           }
          ]
         },
         "layout": {
          "annotationdefaults": {
           "arrowcolor": "#2a3f5f",
           "arrowhead": 0,
           "arrowwidth": 1
          },
          "autotypenumbers": "strict",
          "coloraxis": {
           "colorbar": {
            "outlinewidth": 0,
            "ticks": ""
           }
          },
          "colorscale": {
           "diverging": [
            [
             0,
             "#8e0152"
            ],
            [
             0.1,
             "#c51b7d"
            ],
            [
             0.2,
             "#de77ae"
            ],
            [
             0.3,
             "#f1b6da"
            ],
            [
             0.4,
             "#fde0ef"
            ],
            [
             0.5,
             "#f7f7f7"
            ],
            [
             0.6,
             "#e6f5d0"
            ],
            [
             0.7,
             "#b8e186"
            ],
            [
             0.8,
             "#7fbc41"
            ],
            [
             0.9,
             "#4d9221"
            ],
            [
             1,
             "#276419"
            ]
           ],
           "sequential": [
            [
             0,
             "#0d0887"
            ],
            [
             0.1111111111111111,
             "#46039f"
            ],
            [
             0.2222222222222222,
             "#7201a8"
            ],
            [
             0.3333333333333333,
             "#9c179e"
            ],
            [
             0.4444444444444444,
             "#bd3786"
            ],
            [
             0.5555555555555556,
             "#d8576b"
            ],
            [
             0.6666666666666666,
             "#ed7953"
            ],
            [
             0.7777777777777778,
             "#fb9f3a"
            ],
            [
             0.8888888888888888,
             "#fdca26"
            ],
            [
             1,
             "#f0f921"
            ]
           ],
           "sequentialminus": [
            [
             0,
             "#0d0887"
            ],
            [
             0.1111111111111111,
             "#46039f"
            ],
            [
             0.2222222222222222,
             "#7201a8"
            ],
            [
             0.3333333333333333,
             "#9c179e"
            ],
            [
             0.4444444444444444,
             "#bd3786"
            ],
            [
             0.5555555555555556,
             "#d8576b"
            ],
            [
             0.6666666666666666,
             "#ed7953"
            ],
            [
             0.7777777777777778,
             "#fb9f3a"
            ],
            [
             0.8888888888888888,
             "#fdca26"
            ],
            [
             1,
             "#f0f921"
            ]
           ]
          },
          "colorway": [
           "#636efa",
           "#EF553B",
           "#00cc96",
           "#ab63fa",
           "#FFA15A",
           "#19d3f3",
           "#FF6692",
           "#B6E880",
           "#FF97FF",
           "#FECB52"
          ],
          "font": {
           "color": "#2a3f5f"
          },
          "geo": {
           "bgcolor": "white",
           "lakecolor": "white",
           "landcolor": "#E5ECF6",
           "showlakes": true,
           "showland": true,
           "subunitcolor": "white"
          },
          "hoverlabel": {
           "align": "left"
          },
          "hovermode": "closest",
          "mapbox": {
           "style": "light"
          },
          "paper_bgcolor": "white",
          "plot_bgcolor": "#E5ECF6",
          "polar": {
           "angularaxis": {
            "gridcolor": "white",
            "linecolor": "white",
            "ticks": ""
           },
           "bgcolor": "#E5ECF6",
           "radialaxis": {
            "gridcolor": "white",
            "linecolor": "white",
            "ticks": ""
           }
          },
          "scene": {
           "xaxis": {
            "backgroundcolor": "#E5ECF6",
            "gridcolor": "white",
            "gridwidth": 2,
            "linecolor": "white",
            "showbackground": true,
            "ticks": "",
            "zerolinecolor": "white"
           },
           "yaxis": {
            "backgroundcolor": "#E5ECF6",
            "gridcolor": "white",
            "gridwidth": 2,
            "linecolor": "white",
            "showbackground": true,
            "ticks": "",
            "zerolinecolor": "white"
           },
           "zaxis": {
            "backgroundcolor": "#E5ECF6",
            "gridcolor": "white",
            "gridwidth": 2,
            "linecolor": "white",
            "showbackground": true,
            "ticks": "",
            "zerolinecolor": "white"
           }
          },
          "shapedefaults": {
           "line": {
            "color": "#2a3f5f"
           }
          },
          "ternary": {
           "aaxis": {
            "gridcolor": "white",
            "linecolor": "white",
            "ticks": ""
           },
           "baxis": {
            "gridcolor": "white",
            "linecolor": "white",
            "ticks": ""
           },
           "bgcolor": "#E5ECF6",
           "caxis": {
            "gridcolor": "white",
            "linecolor": "white",
            "ticks": ""
           }
          },
          "title": {
           "x": 0.05
          },
          "xaxis": {
           "automargin": true,
           "gridcolor": "white",
           "linecolor": "white",
           "ticks": "",
           "title": {
            "standoff": 15
           },
           "zerolinecolor": "white",
           "zerolinewidth": 2
          },
          "yaxis": {
           "automargin": true,
           "gridcolor": "white",
           "linecolor": "white",
           "ticks": "",
           "title": {
            "standoff": 15
           },
           "zerolinecolor": "white",
           "zerolinewidth": 2
          }
         }
        },
        "title": {
         "text": "PM2.5 Concentrations by Month (Clarity Monitors)",
         "x": 0.5
        },
        "xaxis": {
         "anchor": "y",
         "domain": [
          0,
          0.15
         ],
         "title": {
          "text": "Day of Month"
         }
        },
        "xaxis2": {
         "anchor": "y2",
         "domain": [
          0.16999999999999998,
          0.31999999999999995
         ],
         "matches": "x",
         "title": {
          "text": "Day of Month"
         }
        },
        "xaxis3": {
         "anchor": "y3",
         "domain": [
          0.33999999999999997,
          0.49
         ],
         "matches": "x",
         "title": {
          "text": "Day of Month"
         }
        },
        "xaxis4": {
         "anchor": "y4",
         "domain": [
          0.51,
          0.66
         ],
         "matches": "x",
         "title": {
          "text": "Day of Month"
         }
        },
        "xaxis5": {
         "anchor": "y5",
         "domain": [
          0.6799999999999999,
          0.83
         ],
         "matches": "x",
         "title": {
          "text": "Day of Month"
         }
        },
        "xaxis6": {
         "anchor": "y6",
         "domain": [
          0.85,
          1
         ],
         "matches": "x",
         "title": {
          "text": "Day of Month"
         }
        },
        "yaxis": {
         "anchor": "x",
         "domain": [
          0,
          1
         ],
         "title": {
          "text": "PM2.5 (1-hour mean)"
         }
        },
        "yaxis2": {
         "anchor": "x2",
         "domain": [
          0,
          1
         ],
         "matches": "y",
         "showticklabels": false
        },
        "yaxis3": {
         "anchor": "x3",
         "domain": [
          0,
          1
         ],
         "matches": "y",
         "showticklabels": false
        },
        "yaxis4": {
         "anchor": "x4",
         "domain": [
          0,
          1
         ],
         "matches": "y",
         "showticklabels": false
        },
        "yaxis5": {
         "anchor": "x5",
         "domain": [
          0,
          1
         ],
         "matches": "y",
         "showticklabels": false
        },
        "yaxis6": {
         "anchor": "x6",
         "domain": [
          0,
          1
         ],
         "matches": "y",
         "showticklabels": false
        }
       }
      }
     },
     "metadata": {},
     "output_type": "display_data"
    }
   ],
   "source": [
    "# Keep the clarity_df_grouped definition\n",
    "clarity_df_grouped = clarity_df.groupby(['date']).agg({'pm2_5_1h_mean': 'mean'}).reset_index()\n",
    "clarity_df_grouped['month_year_str'] = clarity_df_grouped['date'].dt.strftime('%B')\n",
    "clarity_df_grouped['day'] = clarity_df_grouped['date'].dt.day\n",
    "\n",
    "# Create a facet grid with month-year as the facet column\n",
    "fig = px.line(\n",
    "    clarity_df_grouped,\n",
    "    x=\"day\",\n",
    "    y=\"pm2_5_1h_mean\",\n",
    "    facet_col=\"month_year_str\",\n",
    "    facet_col_wrap=6,\n",
    "    title=\"PM2.5 Concentrations by Month (Clarity Monitors)\",\n",
    "    labels={\"pm2_5_1h_mean\": \"PM2.5 (1-hour mean)\", \"day\": \"Day of Month\", \"month_year_str\": \"Month\"},\n",
    "    height=400\n",
    ")\n",
    "\n",
    "# Update layout for better visualization\n",
    "fig.update_layout(\n",
    "    margin=dict(t=50, l=50, r=50, b=50),\n",
    "    title_x=0.5\n",
    ")\n",
    "\n",
    "# Show the plot\n",
    "fig.show()\n"
   ]
  },
  {
   "cell_type": "markdown",
   "id": "5fe9d448",
   "metadata": {},
   "source": [
    "## **Self-Prediction**"
   ]
  },
  {
   "cell_type": "markdown",
   "id": "2a90388e",
   "metadata": {},
   "source": [
    "### **Experiment: Clarity Monitors**"
   ]
  },
  {
   "cell_type": "code",
   "execution_count": 24,
   "id": "aa2f3b62",
   "metadata": {},
   "outputs": [
    {
     "data": {
      "text/html": [
       "<div>\n",
       "<style scoped>\n",
       "    .dataframe tbody tr th:only-of-type {\n",
       "        vertical-align: middle;\n",
       "    }\n",
       "\n",
       "    .dataframe tbody tr th {\n",
       "        vertical-align: top;\n",
       "    }\n",
       "\n",
       "    .dataframe thead th {\n",
       "        text-align: right;\n",
       "    }\n",
       "</style>\n",
       "<table border=\"1\" class=\"dataframe\">\n",
       "  <thead>\n",
       "    <tr style=\"text-align: right;\">\n",
       "      <th></th>\n",
       "      <th>location_id</th>\n",
       "      <th>location_name</th>\n",
       "      <th>date</th>\n",
       "      <th>time</th>\n",
       "      <th>pm2_5_24h_mean</th>\n",
       "    </tr>\n",
       "  </thead>\n",
       "  <tbody>\n",
       "    <tr>\n",
       "      <th>33</th>\n",
       "      <td>DRCAC7970</td>\n",
       "      <td>Belle Air School</td>\n",
       "      <td>2024-10-31</td>\n",
       "      <td>2024-10-31 11:00:00</td>\n",
       "      <td>3.942308</td>\n",
       "    </tr>\n",
       "    <tr>\n",
       "      <th>34</th>\n",
       "      <td>DRCAC7970</td>\n",
       "      <td>Belle Air School</td>\n",
       "      <td>2024-10-31</td>\n",
       "      <td>2024-10-31 12:00:00</td>\n",
       "      <td>3.942308</td>\n",
       "    </tr>\n",
       "    <tr>\n",
       "      <th>49</th>\n",
       "      <td>DRCAC7970</td>\n",
       "      <td>Belle Air School</td>\n",
       "      <td>2024-10-31</td>\n",
       "      <td>2024-10-31 13:00:00</td>\n",
       "      <td>3.942308</td>\n",
       "    </tr>\n",
       "    <tr>\n",
       "      <th>52</th>\n",
       "      <td>DRCAC7970</td>\n",
       "      <td>Belle Air School</td>\n",
       "      <td>2024-10-31</td>\n",
       "      <td>2024-10-31 14:00:00</td>\n",
       "      <td>3.942308</td>\n",
       "    </tr>\n",
       "    <tr>\n",
       "      <th>63</th>\n",
       "      <td>DRCAC7970</td>\n",
       "      <td>Belle Air School</td>\n",
       "      <td>2024-10-31</td>\n",
       "      <td>2024-10-31 15:00:00</td>\n",
       "      <td>3.942308</td>\n",
       "    </tr>\n",
       "  </tbody>\n",
       "</table>\n",
       "</div>"
      ],
      "text/plain": [
       "   location_id     location_name       date                time  \\\n",
       "33   DRCAC7970  Belle Air School 2024-10-31 2024-10-31 11:00:00   \n",
       "34   DRCAC7970  Belle Air School 2024-10-31 2024-10-31 12:00:00   \n",
       "49   DRCAC7970  Belle Air School 2024-10-31 2024-10-31 13:00:00   \n",
       "52   DRCAC7970  Belle Air School 2024-10-31 2024-10-31 14:00:00   \n",
       "63   DRCAC7970  Belle Air School 2024-10-31 2024-10-31 15:00:00   \n",
       "\n",
       "    pm2_5_24h_mean  \n",
       "33        3.942308  \n",
       "34        3.942308  \n",
       "49        3.942308  \n",
       "52        3.942308  \n",
       "63        3.942308  "
      ]
     },
     "execution_count": 24,
     "metadata": {},
     "output_type": "execute_result"
    }
   ],
   "source": [
    "# Filter the data\n",
    "filtered_df = clarity_df[['location_id', 'location_name', 'date', 'time', 'pm2_5_24h_mean']]\n",
    "filtered_df.head()"
   ]
  },
  {
   "cell_type": "code",
   "execution_count": 25,
   "id": "737077a5",
   "metadata": {},
   "outputs": [
    {
     "name": "stderr",
     "output_type": "stream",
     "text": [
      "/var/folders/tc/ygtvb05s0279mq2rg4cgkqp00000gn/T/ipykernel_16364/3412733926.py:2: SettingWithCopyWarning:\n",
      "\n",
      "\n",
      "A value is trying to be set on a copy of a slice from a DataFrame.\n",
      "Try using .loc[row_indexer,col_indexer] = value instead\n",
      "\n",
      "See the caveats in the documentation: https://pandas.pydata.org/pandas-docs/stable/user_guide/indexing.html#returning-a-view-versus-a-copy\n",
      "\n"
     ]
    },
    {
     "data": {
      "text/html": [
       "<div>\n",
       "<style scoped>\n",
       "    .dataframe tbody tr th:only-of-type {\n",
       "        vertical-align: middle;\n",
       "    }\n",
       "\n",
       "    .dataframe tbody tr th {\n",
       "        vertical-align: top;\n",
       "    }\n",
       "\n",
       "    .dataframe thead th {\n",
       "        text-align: right;\n",
       "    }\n",
       "</style>\n",
       "<table border=\"1\" class=\"dataframe\">\n",
       "  <thead>\n",
       "    <tr style=\"text-align: right;\">\n",
       "      <th></th>\n",
       "      <th>location_id</th>\n",
       "      <th>location_name</th>\n",
       "      <th>date</th>\n",
       "      <th>time</th>\n",
       "      <th>pm2_5_24h_mean</th>\n",
       "    </tr>\n",
       "  </thead>\n",
       "  <tbody>\n",
       "    <tr>\n",
       "      <th>33</th>\n",
       "      <td>DRCAC7970</td>\n",
       "      <td>Belle Air School</td>\n",
       "      <td>2024-10-31</td>\n",
       "      <td>2024-10-31 11:00:00</td>\n",
       "      <td>3.94</td>\n",
       "    </tr>\n",
       "    <tr>\n",
       "      <th>34</th>\n",
       "      <td>DRCAC7970</td>\n",
       "      <td>Belle Air School</td>\n",
       "      <td>2024-10-31</td>\n",
       "      <td>2024-10-31 12:00:00</td>\n",
       "      <td>3.94</td>\n",
       "    </tr>\n",
       "    <tr>\n",
       "      <th>49</th>\n",
       "      <td>DRCAC7970</td>\n",
       "      <td>Belle Air School</td>\n",
       "      <td>2024-10-31</td>\n",
       "      <td>2024-10-31 13:00:00</td>\n",
       "      <td>3.94</td>\n",
       "    </tr>\n",
       "    <tr>\n",
       "      <th>52</th>\n",
       "      <td>DRCAC7970</td>\n",
       "      <td>Belle Air School</td>\n",
       "      <td>2024-10-31</td>\n",
       "      <td>2024-10-31 14:00:00</td>\n",
       "      <td>3.94</td>\n",
       "    </tr>\n",
       "    <tr>\n",
       "      <th>63</th>\n",
       "      <td>DRCAC7970</td>\n",
       "      <td>Belle Air School</td>\n",
       "      <td>2024-10-31</td>\n",
       "      <td>2024-10-31 15:00:00</td>\n",
       "      <td>3.94</td>\n",
       "    </tr>\n",
       "  </tbody>\n",
       "</table>\n",
       "</div>"
      ],
      "text/plain": [
       "   location_id     location_name       date                time  \\\n",
       "33   DRCAC7970  Belle Air School 2024-10-31 2024-10-31 11:00:00   \n",
       "34   DRCAC7970  Belle Air School 2024-10-31 2024-10-31 12:00:00   \n",
       "49   DRCAC7970  Belle Air School 2024-10-31 2024-10-31 13:00:00   \n",
       "52   DRCAC7970  Belle Air School 2024-10-31 2024-10-31 14:00:00   \n",
       "63   DRCAC7970  Belle Air School 2024-10-31 2024-10-31 15:00:00   \n",
       "\n",
       "    pm2_5_24h_mean  \n",
       "33            3.94  \n",
       "34            3.94  \n",
       "49            3.94  \n",
       "52            3.94  \n",
       "63            3.94  "
      ]
     },
     "execution_count": 25,
     "metadata": {},
     "output_type": "execute_result"
    }
   ],
   "source": [
    "# Round the pm2_5_24h_mean values to 2 decimal places\n",
    "filtered_df['pm2_5_24h_mean'] = filtered_df['pm2_5_24h_mean'].round(2)\n",
    "filtered_df.head()"
   ]
  },
  {
   "cell_type": "code",
   "execution_count": 26,
   "id": "1b4c0533",
   "metadata": {},
   "outputs": [],
   "source": [
    "# Remove outliers from data (either removing, or just imputing)\n"
   ]
  },
  {
   "cell_type": "code",
   "execution_count": 27,
   "id": "8adb425f",
   "metadata": {},
   "outputs": [
    {
     "data": {
      "text/html": [
       "<div>\n",
       "<style scoped>\n",
       "    .dataframe tbody tr th:only-of-type {\n",
       "        vertical-align: middle;\n",
       "    }\n",
       "\n",
       "    .dataframe tbody tr th {\n",
       "        vertical-align: top;\n",
       "    }\n",
       "\n",
       "    .dataframe thead th {\n",
       "        text-align: right;\n",
       "    }\n",
       "</style>\n",
       "<table border=\"1\" class=\"dataframe\">\n",
       "  <thead>\n",
       "    <tr style=\"text-align: right;\">\n",
       "      <th></th>\n",
       "      <th>location_id</th>\n",
       "      <th>location_name</th>\n",
       "      <th>date</th>\n",
       "      <th>time</th>\n",
       "      <th>pm2_5_24h_mean</th>\n",
       "    </tr>\n",
       "  </thead>\n",
       "  <tbody>\n",
       "    <tr>\n",
       "      <th>33</th>\n",
       "      <td>DRCAC7970</td>\n",
       "      <td>Belle Air School</td>\n",
       "      <td>2024-10-31</td>\n",
       "      <td>2024-10-31 11:00:00</td>\n",
       "      <td>3.94</td>\n",
       "    </tr>\n",
       "    <tr>\n",
       "      <th>150</th>\n",
       "      <td>DRCAC7970</td>\n",
       "      <td>Belle Air School</td>\n",
       "      <td>2024-11-01</td>\n",
       "      <td>2024-11-01 00:00:00</td>\n",
       "      <td>4.89</td>\n",
       "    </tr>\n",
       "    <tr>\n",
       "      <th>361</th>\n",
       "      <td>DRCAC7970</td>\n",
       "      <td>Belle Air School</td>\n",
       "      <td>2024-11-02</td>\n",
       "      <td>2024-11-02 00:00:00</td>\n",
       "      <td>4.02</td>\n",
       "    </tr>\n",
       "    <tr>\n",
       "      <th>574</th>\n",
       "      <td>DRCAC7970</td>\n",
       "      <td>Belle Air School</td>\n",
       "      <td>2024-11-03</td>\n",
       "      <td>2024-11-03 00:00:00</td>\n",
       "      <td>4.34</td>\n",
       "    </tr>\n",
       "    <tr>\n",
       "      <th>803</th>\n",
       "      <td>DRCAC7970</td>\n",
       "      <td>Belle Air School</td>\n",
       "      <td>2024-11-04</td>\n",
       "      <td>2024-11-04 00:00:00</td>\n",
       "      <td>5.06</td>\n",
       "    </tr>\n",
       "  </tbody>\n",
       "</table>\n",
       "</div>"
      ],
      "text/plain": [
       "    location_id     location_name       date                time  \\\n",
       "33    DRCAC7970  Belle Air School 2024-10-31 2024-10-31 11:00:00   \n",
       "150   DRCAC7970  Belle Air School 2024-11-01 2024-11-01 00:00:00   \n",
       "361   DRCAC7970  Belle Air School 2024-11-02 2024-11-02 00:00:00   \n",
       "574   DRCAC7970  Belle Air School 2024-11-03 2024-11-03 00:00:00   \n",
       "803   DRCAC7970  Belle Air School 2024-11-04 2024-11-04 00:00:00   \n",
       "\n",
       "     pm2_5_24h_mean  \n",
       "33             3.94  \n",
       "150            4.89  \n",
       "361            4.02  \n",
       "574            4.34  \n",
       "803            5.06  "
      ]
     },
     "execution_count": 27,
     "metadata": {},
     "output_type": "execute_result"
    }
   ],
   "source": [
    "# Get the unique values by date\n",
    "unique_dates_filtered = filtered_df.drop_duplicates(subset=['location_name', 'date'], keep='first')\n",
    "unique_dates_filtered.head()"
   ]
  },
  {
   "cell_type": "code",
   "execution_count": 28,
   "id": "a8fcf1fd",
   "metadata": {},
   "outputs": [
    {
     "data": {
      "text/plain": [
       "(2069, 5)"
      ]
     },
     "execution_count": 28,
     "metadata": {},
     "output_type": "execute_result"
    }
   ],
   "source": [
    "unique_dates_filtered.shape"
   ]
  },
  {
   "cell_type": "code",
   "execution_count": 29,
   "id": "6e63b351",
   "metadata": {},
   "outputs": [
    {
     "data": {
      "application/vnd.plotly.v1+json": {
       "config": {
        "plotlyServerURL": "https://plot.ly"
       },
       "data": [
        {
         "alignmentgroup": "True",
         "bingroup": "x",
         "hovertemplate": "pm2_5_24h_mean=%{x}<br>count=%{y}<extra></extra>",
         "legendgroup": "",
         "marker": {
          "color": "#636efa",
          "pattern": {
           "shape": ""
          }
         },
         "name": "",
         "nbinsx": 50,
         "offsetgroup": "",
         "orientation": "v",
         "showlegend": false,
         "type": "histogram",
         "x": [
          3.94,
          4.89,
          4.02,
          4.34,
          5.06,
          5.73,
          4.21,
          5.44,
          9.18,
          12.68,
          9.59,
          3.04,
          4.31,
          3.46,
          3.98,
          5.79,
          5.65,
          4.6,
          4.29,
          4.72,
          2.89,
          1.9,
          1.88,
          2.91,
          5.03,
          2.52,
          3.05,
          4.54,
          5.93,
          7.75,
          10.82,
          10.93,
          8.12,
          10.14,
          18.68,
          13.24,
          10.95,
          25.08,
          23.59,
          6.06,
          16.75,
          23.03,
          4.86,
          3.65,
          3.94,
          6.69,
          7.39,
          12.67,
          10.99,
          17.3,
          23.09,
          9.42,
          13.34,
          11.1,
          2.98,
          4.45,
          3.16,
          6.12,
          3.48,
          2.92,
          3.63,
          4.47,
          10.08,
          8.62,
          7.3,
          5.6,
          6.04,
          8.36,
          3.84,
          4.8,
          5.99,
          6.05,
          4.92,
          4.89,
          4.59,
          5.2,
          9.8,
          14.94,
          10.78,
          13.18,
          9.59,
          8.22,
          5.58,
          10.43,
          9.45,
          15.21,
          6.99,
          4.93,
          5.58,
          5.64,
          5.82,
          5.11,
          6.07,
          3.89,
          2.41,
          2.76,
          2.09,
          3.41,
          3.12,
          2.85,
          3.27,
          3.66,
          3.87,
          3.9,
          5.36,
          3.44,
          5.37,
          5.78,
          4.47,
          3.99,
          4.53,
          3.98,
          4.19,
          4.5,
          6.06,
          4.52,
          3.24,
          6.5,
          5.56,
          6.4,
          11.56,
          3.79,
          3.61,
          3.32,
          3,
          3.88,
          4.04,
          6.56,
          5.46,
          4.78,
          5.61,
          3.85,
          3.04,
          2.75,
          4.04,
          9.49,
          4.82,
          3.74,
          4.3,
          3.66,
          3.72,
          4.57,
          4.12,
          4.57,
          4.68,
          6.97,
          4.51,
          3.7,
          4.06,
          3.93,
          3.77,
          3.71,
          4.31,
          3.87,
          4,
          5.58,
          5.92,
          4.67,
          4.17,
          4.68,
          2.91,
          1.86,
          1.83,
          2.74,
          2.87,
          2.56,
          2.86,
          4.07,
          4.8,
          7.3,
          12.18,
          10.74,
          8.5,
          10.94,
          21.14,
          13.06,
          11.86,
          27.38,
          30.73,
          6.07,
          17.97,
          24.93,
          5.14,
          4.22,
          4.28,
          6.55,
          7.69,
          12.14,
          12.78,
          20.19,
          24.97,
          10.11,
          14.28,
          11.76,
          3.36,
          4.92,
          3.72,
          6.41,
          3.61,
          2.91,
          3.64,
          4.56,
          10.89,
          9.15,
          6.89,
          5.58,
          6.34,
          7.1,
          3.51,
          4.12,
          5.77,
          5.93,
          5.25,
          4.78,
          4.68,
          4.71,
          10.51,
          19.18,
          12.96,
          13.49,
          9.58,
          9.04,
          5.59,
          12.44,
          10.06,
          16.48,
          7.27,
          4.85,
          5.12,
          5.13,
          5.46,
          5.03,
          6.5,
          3.94,
          2.2,
          2.69,
          2,
          3.32,
          3.28,
          2.99,
          3.08,
          3.9,
          3.93,
          4.1,
          6.26,
          3.76,
          5.76,
          6.19,
          4.28,
          3.99,
          5.04,
          3.99,
          3.87,
          4.4,
          6.18,
          4.2,
          3.15,
          6.37,
          5.48,
          6.68,
          12.14,
          3.93,
          3.68,
          3.27,
          3.15,
          3.69,
          4.11,
          6.72,
          4.99,
          4.69,
          5.86,
          4.02,
          2.95,
          2.7,
          3.92,
          9.86,
          5.29,
          3.72,
          4.16,
          3.55,
          3.57,
          4.74,
          4.02,
          4.42,
          4.77,
          6.91,
          4.77,
          3.49,
          4.03,
          3.84,
          3.71,
          3.6,
          5.97,
          4.18,
          4.65,
          5.78,
          6.58,
          4.71,
          4.46,
          5.16,
          3.02,
          2.1,
          1.99,
          3.2,
          3.25,
          3.07,
          3.18,
          4.36,
          5.74,
          7.32,
          11.8,
          9.84,
          8.35,
          10.52,
          20.29,
          12.54,
          11.5,
          24.3,
          31.15,
          6.43,
          17.08,
          23.76,
          5.97,
          4.25,
          5.07,
          6.62,
          8.32,
          12.59,
          12.23,
          18.73,
          23.45,
          10.23,
          13.51,
          10.84,
          3.73,
          5.57,
          3.53,
          8.42,
          4.25,
          3.27,
          4.17,
          5.51,
          9.89,
          8.31,
          6.72,
          6.03,
          7.06,
          7.06,
          3.57,
          4.57,
          6.32,
          5.89,
          5.23,
          4.82,
          4.56,
          5.19,
          10.73,
          18.84,
          12.67,
          12.05,
          8.66,
          8.17,
          6.1,
          12.42,
          9.35,
          15.41,
          7.56,
          4.91,
          5.58,
          4.99,
          5.27,
          4.72,
          6.53,
          3.86,
          2.33,
          2.71,
          2.2,
          3.33,
          3.32,
          3.12,
          3.54,
          4.24,
          4.28,
          4.26,
          5.54,
          4.18,
          7,
          6.51,
          4.58,
          4.24,
          5.52,
          4.28,
          4.36,
          4.89,
          7.03,
          5.19,
          3.29,
          6.88,
          5.74,
          6.21,
          11.55,
          4.37,
          3.93,
          3.49,
          2.88,
          3.83,
          4.26,
          7.23,
          5.4,
          5.14,
          5.81,
          4.34,
          3.02,
          2.92,
          4.34,
          11.01,
          5.07,
          4.19,
          4.36,
          3.99,
          3.88,
          5.12,
          4.29,
          4.87,
          4.7,
          6.51,
          4.77,
          3.54,
          4.63,
          3.88,
          3.64,
          3.78,
          7,
          3.37,
          4.39,
          5.49,
          5.73,
          3.85,
          3.99,
          4.45,
          2.88,
          1.97,
          1.88,
          2.55,
          2.6,
          2.68,
          2.19,
          3.41,
          5.72,
          7.24,
          13.08,
          10.44,
          7.46,
          9.23,
          18.28,
          11.56,
          10.11,
          25.11,
          26.9,
          6.52,
          17.29,
          19.41,
          2.59,
          2.5,
          2.51,
          2.58,
          2.38,
          2.77,
          3.03,
          5.42,
          5.59,
          4.41,
          18.41,
          2.68,
          3.62,
          2.77,
          2.18,
          7.21,
          4.9,
          3.44,
          3.69,
          4.37,
          9.35,
          9.4,
          5.58,
          5.81,
          6.26,
          6.15,
          3.4,
          4.07,
          5.78,
          5.85,
          4.98,
          4.39,
          4.35,
          4.6,
          9.94,
          17.46,
          12.58,
          11.55,
          8.54,
          8.43,
          5.27,
          10.73,
          9.59,
          14.93,
          7.07,
          4.51,
          4.61,
          4.19,
          4.76,
          4.42,
          7.57,
          3.81,
          2.11,
          2.67,
          2.07,
          2.86,
          3.42,
          2.42,
          2.66,
          3.48,
          3.94,
          4.03,
          5.78,
          4,
          6.24,
          6.26,
          4.22,
          3.93,
          5.04,
          3.92,
          3.9,
          4.46,
          6.9,
          4.61,
          3.03,
          6.08,
          5.31,
          6.38,
          11.46,
          4.35,
          4.02,
          3.44,
          2.63,
          3.65,
          4.59,
          6.84,
          5.17,
          5.66,
          5.42,
          5.83,
          2.91,
          2.81,
          3.94,
          10.36,
          4.91,
          4.18,
          4.28,
          3.64,
          4,
          5.17,
          4.18,
          4.95,
          4.28,
          7.15,
          4.89,
          3.85,
          5.3,
          4.16,
          3.73,
          3.53,
          8.1,
          7.04,
          7.72,
          8.26,
          8.35,
          7.16,
          6.87,
          7.58,
          4.77,
          3.5,
          3.75,
          5.56,
          5.28,
          4.65,
          5.35,
          8.09,
          10.32,
          10.38,
          14.17,
          14.69,
          11.31,
          13.38,
          23.35,
          16.41,
          16.27,
          31.96,
          34.2,
          9.49,
          21.66,
          26.58,
          9.77,
          6.78,
          7.54,
          11.71,
          10.72,
          17.4,
          15.78,
          21.49,
          25.78,
          12.54,
          15.76,
          12.98,
          6.25,
          8.6,
          5.58,
          12.47,
          6.8,
          5.97,
          7.25,
          9,
          15.95,
          11.25,
          11.47,
          10.95,
          10.65,
          12.35,
          4.95,
          6.64,
          9.67,
          9.12,
          6.69,
          6.58,
          6.79,
          7.61,
          16.19,
          21.98,
          15.87,
          15.14,
          12.04,
          11.1,
          9.01,
          15.03,
          14.42,
          20.26,
          11.07,
          6.73,
          7.94,
          7.49,
          7.86,
          8.18,
          8.57,
          5.61,
          3.84,
          4.18,
          4.01,
          5.14,
          5.63,
          5.21,
          5.7,
          5.99,
          6.74,
          7.25,
          7.57,
          6.95,
          9.73,
          9.74,
          7.26,
          7.19,
          7.22,
          7.91,
          7.93,
          7.65,
          8.96,
          7.29,
          5.46,
          10.85,
          9.27,
          9.77,
          14.38,
          6.54,
          6.15,
          5.95,
          4.85,
          6.2,
          7.18,
          11.17,
          9.2,
          7.96,
          7.67,
          6.71,
          5.02,
          5.12,
          7.23,
          16.44,
          8.78,
          6.93,
          7.48,
          6.88,
          6.2,
          7.92,
          7.37,
          7.8,
          7.67,
          8.28,
          6.82,
          6.19,
          7.67,
          6.6,
          6.31,
          6.36,
          4.71,
          5.34,
          4.44,
          4.31,
          6.06,
          6.09,
          4.36,
          5.9,
          8.23,
          13.27,
          10,
          3.04,
          4.83,
          4.03,
          4.6,
          5.78,
          5.87,
          4.96,
          4.4,
          5.01,
          2.93,
          1.93,
          3.57,
          3.05,
          3.65,
          2.83,
          2.95,
          4.72,
          7.06,
          8.45,
          11.82,
          12.68,
          8.86,
          10.84,
          19.74,
          13.08,
          12.45,
          25.28,
          26.22,
          6.92,
          18.49,
          22.96,
          5.55,
          3.73,
          4.74,
          7.87,
          7.11,
          13,
          12.52,
          18.18,
          22.53,
          9.06,
          12.54,
          9.26,
          3.69,
          5.35,
          3.23,
          7.12,
          3.72,
          3.28,
          3.9,
          5.52,
          10.96,
          9.45,
          7.2,
          6,
          5.99,
          7.04,
          3.4,
          4.72,
          7.32,
          6.45,
          4.89,
          4.68,
          4.72,
          5.61,
          12.65,
          18.1,
          12.93,
          11.64,
          8.6,
          8.38,
          6.88,
          12.19,
          11.38,
          15.39,
          7.34,
          4.83,
          5.41,
          5.31,
          5.47,
          5.05,
          6.36,
          3.4,
          2.26,
          2.75,
          2.02,
          3.35,
          3.38,
          3.17,
          3.97,
          4.95,
          4.56,
          4.21,
          5.34,
          3.95,
          5.74,
          5.82,
          4.78,
          4.18,
          4.69,
          4.14,
          4.48,
          4.98,
          6.9,
          5.2,
          3.35,
          6.84,
          6.33,
          7.36,
          11.7,
          4.01,
          3.7,
          3.56,
          2.98,
          3.99,
          4.25,
          6.78,
          5.25,
          5.4,
          5.59,
          4.63,
          2.96,
          2.76,
          4.11,
          10.72,
          5.19,
          4.07,
          4.53,
          4.06,
          3.91,
          4.87,
          4.33,
          4.94,
          6.17,
          6.83,
          4.71,
          3.77,
          4.46,
          4.02,
          3.91,
          3.76,
          4.69,
          4.12,
          4.07,
          5.56,
          5.38,
          4.49,
          4.17,
          4.96,
          2.95,
          1.87,
          1.98,
          3.02,
          3.26,
          2.79,
          3.66,
          4.58,
          6.03,
          7.74,
          11.58,
          13.61,
          12.24,
          12.79,
          20.5,
          14.21,
          14.09,
          30.63,
          27.28,
          6.66,
          18.89,
          23.31,
          5.45,
          3.69,
          3.9,
          7.71,
          7.52,
          12.89,
          12.02,
          18.36,
          22.05,
          9.58,
          11.37,
          9.19,
          3.12,
          4.96,
          3.28,
          6.66,
          3.34,
          2.95,
          3.41,
          4.84,
          10.32,
          8.79,
          7.05,
          5.96,
          6.61,
          9.04,
          4.32,
          5.61,
          9.7,
          6.15,
          4.94,
          4.28,
          4.38,
          6.47,
          13.63,
          18,
          11.71,
          11.63,
          8.62,
          7.66,
          7.11,
          12.38,
          11.35,
          16.56,
          7.35,
          5.39,
          5.48,
          5.37,
          5.31,
          5.13,
          5.98,
          3.49,
          2.24,
          2.75,
          2.01,
          3.16,
          3.4,
          2.67,
          3.76,
          4.24,
          4.47,
          4.38,
          5.23,
          3.66,
          5.23,
          6.37,
          4.53,
          4.28,
          4.18,
          4.21,
          5.82,
          5.12,
          6.01,
          4.63,
          3.33,
          6.58,
          5.95,
          7.52,
          12.8,
          3.99,
          3.66,
          3.37,
          3.06,
          3.85,
          3.89,
          6.33,
          5.65,
          6.1,
          5.19,
          4.47,
          3,
          2.83,
          4.12,
          10.3,
          5.56,
          4.6,
          4.27,
          3.66,
          3.7,
          4.5,
          4.1,
          4.59,
          5.1,
          6.38,
          4.67,
          3.69,
          4.27,
          3.92,
          3.85,
          3.74,
          4.27,
          5.69,
          4.7,
          4.01,
          5.94,
          6.32,
          4.32,
          5.61,
          8.98,
          14.1,
          10.62,
          3.21,
          5.03,
          4.32,
          4.6,
          5.67,
          6.74,
          5.03,
          4.31,
          5.27,
          3.1,
          1.97,
          2.03,
          3.48,
          3.36,
          3,
          3.29,
          6.04,
          7.33,
          8.87,
          13.27,
          13.4,
          9.7,
          11.74,
          21.48,
          14.18,
          13.96,
          29.71,
          30.62,
          7.28,
          20.24,
          25.17,
          5.74,
          3.93,
          4.21,
          8.27,
          8.32,
          14.35,
          13.46,
          19.81,
          24.4,
          10.48,
          12.94,
          9.82,
          5.63,
          5.37,
          3.7,
          7,
          4.05,
          3.37,
          4.82,
          6.66,
          12.91,
          9.54,
          8.08,
          8.27,
          7.04,
          8.94,
          3.79,
          5.09,
          7.82,
          6.49,
          5.17,
          4.46,
          4.88,
          5.84,
          14.11,
          19.61,
          14.21,
          12.41,
          9.46,
          8.88,
          7.4,
          13.04,
          12.6,
          17.33,
          7.87,
          5.19,
          6.73,
          7.07,
          6.07,
          5.61,
          6.63,
          3.92,
          2.41,
          2.85,
          2.12,
          3.38,
          3.5,
          3.23,
          4.09,
          4.35,
          4.62,
          4.51,
          5.79,
          3.91,
          6.26,
          6.59,
          5.37,
          4.15,
          4.65,
          4.44,
          5.1,
          5.08,
          6.57,
          5,
          3.49,
          7.12,
          6.48,
          8.17,
          12.62,
          4.33,
          3.69,
          3.54,
          2.99,
          4.2,
          4.25,
          6.81,
          5.5,
          5.99,
          5.81,
          4.77,
          3.29,
          2.88,
          4.28,
          10.7,
          5.35,
          4.17,
          4.57,
          4.21,
          3.97,
          4.96,
          4.47,
          5.01,
          5.69,
          7.01,
          5.04,
          3.96,
          4.42,
          4.46,
          4.1,
          4.09,
          4.17,
          5.29,
          4.52,
          3.88,
          6,
          5.79,
          4.15,
          5.28,
          8.68,
          13.13,
          10.44,
          3.13,
          4.95,
          4.22,
          4.21,
          5.58,
          5.87,
          4.78,
          4.2,
          4.86,
          3.01,
          2.06,
          3.39,
          3.37,
          3.22,
          2.88,
          3.13,
          4.35,
          6.47,
          8.66,
          12.78,
          13.19,
          9.04,
          11.23,
          21.1,
          14.04,
          13.33,
          29.85,
          31.98,
          7.75,
          19.51,
          23.5,
          5.71,
          3.85,
          4.12,
          8.39,
          8.8,
          14.3,
          14.52,
          19.51,
          23.33,
          9.73,
          12.81,
          9.26,
          3.65,
          5.49,
          3.36,
          6.91,
          3.54,
          3.3,
          4.27,
          5.42,
          12.56,
          9.83,
          8,
          6.56,
          6.92,
          8.86,
          3.51,
          4.7,
          7.31,
          6.11,
          4.85,
          4.6,
          4.59,
          5.48,
          14.02,
          19.47,
          13.28,
          11.89,
          9.85,
          9.37,
          6.52,
          12.91,
          11.77,
          16.49,
          7.49,
          4.79,
          5.57,
          5.47,
          5.91,
          5.63,
          6.66,
          3.69,
          2.4,
          2.79,
          2.16,
          3.41,
          3.46,
          2.84,
          3.33,
          4.05,
          4.24,
          4.72,
          5.68,
          3.78,
          5.78,
          6.74,
          5.24,
          4.26,
          4.71,
          4.19,
          5.07,
          5.09,
          6.36,
          5.06,
          3.66,
          6.93,
          6.15,
          7.6,
          12.32,
          4.3,
          3.63,
          3.56,
          3.07,
          3.94,
          4.07,
          7.44,
          5.55,
          7.02,
          5.76,
          4.69,
          3.1,
          3.11,
          4.23,
          10.58,
          5.55,
          3.88,
          4.44,
          4.12,
          3.86,
          4.92,
          4.42,
          5.08,
          7.59,
          6.95,
          5.1,
          3.99,
          4.66,
          4.46,
          4.24,
          3.7,
          4.51,
          5.86,
          4.91,
          4.84,
          5.67,
          5.25,
          4.45,
          5.21,
          9.63,
          12.26,
          8.98,
          3.36,
          4.89,
          4.03,
          4.54,
          6.44,
          5.81,
          5.06,
          5.1,
          4.93,
          3.28,
          2.21,
          2.22,
          2.88,
          3.14,
          2.89,
          2.87,
          3.79,
          4.43,
          5.98,
          9.21,
          9.53,
          7.89,
          9.76,
          17.62,
          12.39,
          9.65,
          24.15,
          23.54,
          5.3,
          16.42,
          24.02,
          5.83,
          3.97,
          3.81,
          5.44,
          5.4,
          9.76,
          8.05,
          16.28,
          21.66,
          6.95,
          12.46,
          9.96,
          3.32,
          4.34,
          3.12,
          6.5,
          3.31,
          3.2,
          3.51,
          4.21,
          7.4,
          6.9,
          5.52,
          4.55,
          4.84,
          7.43,
          3.75,
          3.98,
          5.07,
          6.09,
          4.95,
          4.14,
          4.5,
          4.25,
          7.91,
          12.04,
          8.33,
          10.76,
          7.38,
          6.72,
          4.82,
          8.62,
          7.96,
          13.66,
          6.45,
          4.52,
          4.91,
          4.77,
          4.8,
          4.45,
          5.11,
          2.93,
          2.66,
          3.14,
          2.14,
          3.29,
          2.98,
          2.96,
          3.23,
          3.8,
          3.81,
          3.89,
          4.57,
          4.48,
          5.49,
          5.31,
          3.95,
          4.03,
          4.2,
          3.56,
          3.66,
          3.94,
          5.35,
          3.65,
          3.23,
          5.94,
          5.01,
          5.56,
          9.8,
          3.57,
          3.95,
          3.42,
          3.31,
          4.15,
          4.64,
          5.98,
          5.14,
          4.67,
          4.86,
          3.8,
          3.06,
          3.24,
          4.84,
          9.61,
          4.9,
          4.29,
          4.28,
          3.71,
          4,
          4.54,
          4.15,
          4.42,
          5.34,
          6.53,
          4.24,
          4.25,
          4.2,
          3.99,
          4.02,
          4.13,
          3.93,
          5.14,
          4.95,
          4.36,
          5.51,
          5.05,
          4.28,
          4.99,
          10.14,
          11.54,
          8.69,
          2.96,
          4.94,
          3.33,
          5.11,
          6.53,
          5.32,
          3.97,
          4.39,
          4.46,
          2.77,
          1.82,
          2.07,
          4.21,
          2.45,
          4.25,
          2.79,
          3.64,
          4.61,
          6.79,
          10.57,
          10.56,
          8.12,
          9.56,
          19.49,
          13.08,
          9.51,
          26.27,
          24.03,
          5.76,
          18.11,
          23.55,
          5.78,
          4.3,
          4.72,
          6.42,
          4.81,
          11.84,
          7.58,
          17.96,
          22.72,
          5.65,
          11.55,
          8.59,
          3.48,
          4.12,
          2.88,
          8.12,
          2.96,
          2.96,
          3.66,
          3.79,
          8.2,
          9.2,
          4.27,
          4.75,
          4.56,
          3.9,
          3.44,
          4.37,
          5.33,
          5.8,
          5.47,
          4.42,
          4.3,
          4.11,
          11.1,
          18.64,
          11.4,
          12.3,
          8.65,
          8,
          5.8,
          11.28,
          10.2,
          17.3,
          7.46,
          4.59,
          4.62,
          4.19,
          4.8,
          4.32,
          4.19,
          4.06,
          2.02,
          2.56,
          1.96,
          2.85,
          3.26,
          2.54,
          3.37,
          3.28,
          3.73,
          3.56,
          5.98,
          3.65,
          5.88,
          5.78,
          3.59,
          4.14,
          4.26,
          3.42,
          3.38,
          4.05,
          5.95,
          3.66,
          2.98,
          6.22,
          5.37,
          6.51,
          11.55,
          4.99,
          3.78,
          3.37,
          2.61,
          3.84,
          4.06,
          6.54,
          4.89,
          4.94,
          5.2,
          3.68,
          2.85,
          2.65,
          4.08,
          10.96,
          5.25,
          3.91,
          4.36,
          3.4,
          3.68,
          5.04,
          4.14,
          4.63,
          4.09,
          6.43,
          4.74,
          3.53,
          4.41,
          3.86,
          3.66,
          3.54,
          12.27,
          7.25,
          8.52,
          8.01,
          6.19,
          10.66,
          9.91,
          5.96,
          7.71,
          11.1,
          16.91,
          12.77,
          6.14,
          7.59,
          7.04,
          7.57,
          9.16,
          10.07,
          6.53,
          7.62,
          6.87,
          4.35,
          2.39,
          4.75,
          6.76,
          4.72,
          4.82,
          6.88,
          6.08,
          7.64,
          9.71,
          13.79,
          14.06,
          10.59,
          13.5,
          22.41,
          16.4,
          15.78,
          30.6,
          33.26,
          9.33,
          21.04,
          26.4,
          9.8,
          5.11,
          7.89,
          10.55,
          11.94,
          17.25,
          15.79,
          20.9,
          25.88,
          11.94,
          15.41,
          11.99,
          6.88,
          6.69,
          4.79,
          15.87,
          6.97,
          5.58,
          6.82,
          7.97,
          14.61,
          10.85,
          10.49,
          10.35,
          9.05,
          12.14,
          3.99,
          9.52,
          10.34,
          9.52,
          6.07,
          6.5,
          7.55,
          8.34,
          15.87,
          22.19,
          18.51,
          15.4,
          11.87,
          10.92,
          8.92,
          16.09,
          15.82,
          20.72,
          10.57,
          6.6,
          8.15,
          9.13,
          11.63,
          7.83,
          7.85,
          5.55,
          3.56,
          3.29,
          3.21,
          5.64,
          5.08,
          5.45,
          6.32,
          5.44,
          7.65,
          9.02,
          8.29,
          6.46,
          10.72,
          9.06,
          6.95,
          7.18,
          8.47,
          10.07,
          8.8,
          7.26,
          10.28,
          7.36,
          10.24,
          13.1,
          8.75,
          8.6,
          15.98,
          7.62,
          5.69,
          5.63,
          4.01,
          6.05,
          7.61,
          11.14,
          8.82,
          8.3,
          7.37,
          7.87,
          4.73,
          4.23,
          6.56,
          17.83,
          6.78,
          9.94,
          7.26,
          9.54,
          6.19,
          8.11,
          8.18,
          7.02,
          8.93,
          8.28,
          10.85,
          5.06,
          8.15,
          6.83,
          4.84,
          17.45,
          4.11,
          4.92,
          4.25,
          3.96,
          5.13,
          4.73,
          4.09,
          4.58,
          9.19,
          10.82,
          8.82,
          2.34,
          4.18,
          3.41,
          4.19,
          5.49,
          5.13,
          4.27,
          4.33,
          4.46,
          2.65,
          1.7,
          1.81,
          2.3,
          2.71,
          2.66,
          2.44,
          3.74,
          5.01,
          6.43,
          10.15,
          9.63,
          7.96,
          9.4,
          18.23,
          11.96,
          9.71,
          25.65,
          25.79,
          5.57,
          17.31,
          22.45,
          4.61,
          3.77,
          4.61,
          6.3,
          5.72,
          10.23,
          8.43,
          17.78,
          22.29,
          5.58,
          12,
          9.97,
          3.19,
          4.04,
          2.7,
          6.37,
          2.79,
          3.04,
          3.31,
          4.15,
          8.23,
          7.85,
          4.25,
          5.1,
          5.24,
          5.96,
          3.33,
          4.16,
          5.38,
          5.64,
          4.94,
          4.26,
          4.17,
          4.31,
          9.89,
          17.45,
          11.01,
          11.68,
          7.89,
          7.64,
          5.47,
          10.91,
          9.43,
          16.47,
          6.95,
          4.57,
          4.68,
          4.34,
          4.73,
          4.32,
          5.26,
          3.99,
          2,
          2.45,
          1.96,
          3.3,
          3.14,
          2.53,
          2.8,
          3.49,
          3.79,
          3.84,
          5.7,
          3.44,
          5.85,
          5.61,
          3.87,
          4.23,
          4.25,
          3.67,
          3.55,
          4.02,
          5.6,
          3.78,
          2.79,
          6.06,
          5.21,
          6.13,
          10.88,
          4.02,
          3.9,
          3.28,
          2.62,
          3.77,
          4.06,
          6.56,
          4.68,
          4.55,
          5.01,
          3.68,
          2.66,
          2.65,
          4.06,
          10.77,
          5.04,
          3.95,
          4.03,
          3.4,
          3.77,
          4.72,
          4.2,
          4.43,
          4.27,
          6.16,
          4.37,
          3.33,
          4.29,
          3.78,
          3.4,
          3.45,
          4.56,
          5.87,
          4.76,
          4.79,
          5.72,
          6.05,
          4.73,
          5.84,
          10.37,
          13.03,
          10.5,
          3.52,
          5.03,
          4.32,
          5.19,
          6.77,
          7.21,
          5.78,
          5.18,
          5.64,
          3.33,
          2.25,
          2.23,
          3.63,
          3.85,
          3.28,
          4.21,
          5.33,
          6.86,
          8.77,
          12.1,
          11.67,
          9.51,
          11.07,
          21.08,
          14.51,
          12.31,
          28.22,
          29.16,
          7.29,
          19.41,
          26.63,
          6.01,
          4.68,
          4.91,
          8.02,
          9.35,
          14.65,
          12.81,
          21.25,
          26.95,
          10.08,
          16.42,
          13.69,
          3.81,
          6.07,
          3.76,
          7.61,
          4.26,
          3.68,
          4.61,
          5.43,
          10.27,
          10.43,
          7.76,
          6.98,
          7.15,
          9.66,
          4.01,
          5.35,
          6.83,
          6.99,
          5.65,
          5.78,
          4.94,
          6.38,
          11.91,
          19.19,
          12.85,
          14.72,
          10.58,
          9.19,
          7.5,
          13.56,
          12,
          18.23,
          8.34,
          5.71,
          6.29,
          6.46,
          7.19,
          5.59,
          7.25,
          4.31,
          2.72,
          3.06,
          2.43,
          4.9,
          3.92,
          3.67,
          4.38,
          4.63,
          5.09,
          4.72,
          6.42,
          4.73,
          6.83,
          7.49,
          4.9,
          5.03,
          5.62,
          4.5,
          4.97,
          4.93,
          6.65,
          4.86,
          4.13,
          7.69,
          6.8,
          6.89,
          12.69,
          4.52,
          4.27,
          4.07,
          3.34,
          4.71,
          5.46,
          8.43,
          6.39,
          5.35,
          6.43,
          4.4,
          3.62,
          3.51,
          5.11,
          12.12,
          6.2,
          4.69,
          5,
          4.14,
          4.52,
          5.49,
          4.81,
          5.43,
          5.06,
          7.53,
          4.92,
          4.25,
          4.84,
          4.66,
          4.35,
          4.27
         ],
         "xaxis": "x",
         "yaxis": "y"
        }
       ],
       "layout": {
        "barmode": "relative",
        "legend": {
         "tracegroupgap": 0
        },
        "template": {
         "data": {
          "bar": [
           {
            "error_x": {
             "color": "#2a3f5f"
            },
            "error_y": {
             "color": "#2a3f5f"
            },
            "marker": {
             "line": {
              "color": "#E5ECF6",
              "width": 0.5
             },
             "pattern": {
              "fillmode": "overlay",
              "size": 10,
              "solidity": 0.2
             }
            },
            "type": "bar"
           }
          ],
          "barpolar": [
           {
            "marker": {
             "line": {
              "color": "#E5ECF6",
              "width": 0.5
             },
             "pattern": {
              "fillmode": "overlay",
              "size": 10,
              "solidity": 0.2
             }
            },
            "type": "barpolar"
           }
          ],
          "carpet": [
           {
            "aaxis": {
             "endlinecolor": "#2a3f5f",
             "gridcolor": "white",
             "linecolor": "white",
             "minorgridcolor": "white",
             "startlinecolor": "#2a3f5f"
            },
            "baxis": {
             "endlinecolor": "#2a3f5f",
             "gridcolor": "white",
             "linecolor": "white",
             "minorgridcolor": "white",
             "startlinecolor": "#2a3f5f"
            },
            "type": "carpet"
           }
          ],
          "choropleth": [
           {
            "colorbar": {
             "outlinewidth": 0,
             "ticks": ""
            },
            "type": "choropleth"
           }
          ],
          "contour": [
           {
            "colorbar": {
             "outlinewidth": 0,
             "ticks": ""
            },
            "colorscale": [
             [
              0,
              "#0d0887"
             ],
             [
              0.1111111111111111,
              "#46039f"
             ],
             [
              0.2222222222222222,
              "#7201a8"
             ],
             [
              0.3333333333333333,
              "#9c179e"
             ],
             [
              0.4444444444444444,
              "#bd3786"
             ],
             [
              0.5555555555555556,
              "#d8576b"
             ],
             [
              0.6666666666666666,
              "#ed7953"
             ],
             [
              0.7777777777777778,
              "#fb9f3a"
             ],
             [
              0.8888888888888888,
              "#fdca26"
             ],
             [
              1,
              "#f0f921"
             ]
            ],
            "type": "contour"
           }
          ],
          "contourcarpet": [
           {
            "colorbar": {
             "outlinewidth": 0,
             "ticks": ""
            },
            "type": "contourcarpet"
           }
          ],
          "heatmap": [
           {
            "colorbar": {
             "outlinewidth": 0,
             "ticks": ""
            },
            "colorscale": [
             [
              0,
              "#0d0887"
             ],
             [
              0.1111111111111111,
              "#46039f"
             ],
             [
              0.2222222222222222,
              "#7201a8"
             ],
             [
              0.3333333333333333,
              "#9c179e"
             ],
             [
              0.4444444444444444,
              "#bd3786"
             ],
             [
              0.5555555555555556,
              "#d8576b"
             ],
             [
              0.6666666666666666,
              "#ed7953"
             ],
             [
              0.7777777777777778,
              "#fb9f3a"
             ],
             [
              0.8888888888888888,
              "#fdca26"
             ],
             [
              1,
              "#f0f921"
             ]
            ],
            "type": "heatmap"
           }
          ],
          "heatmapgl": [
           {
            "colorbar": {
             "outlinewidth": 0,
             "ticks": ""
            },
            "colorscale": [
             [
              0,
              "#0d0887"
             ],
             [
              0.1111111111111111,
              "#46039f"
             ],
             [
              0.2222222222222222,
              "#7201a8"
             ],
             [
              0.3333333333333333,
              "#9c179e"
             ],
             [
              0.4444444444444444,
              "#bd3786"
             ],
             [
              0.5555555555555556,
              "#d8576b"
             ],
             [
              0.6666666666666666,
              "#ed7953"
             ],
             [
              0.7777777777777778,
              "#fb9f3a"
             ],
             [
              0.8888888888888888,
              "#fdca26"
             ],
             [
              1,
              "#f0f921"
             ]
            ],
            "type": "heatmapgl"
           }
          ],
          "histogram": [
           {
            "marker": {
             "pattern": {
              "fillmode": "overlay",
              "size": 10,
              "solidity": 0.2
             }
            },
            "type": "histogram"
           }
          ],
          "histogram2d": [
           {
            "colorbar": {
             "outlinewidth": 0,
             "ticks": ""
            },
            "colorscale": [
             [
              0,
              "#0d0887"
             ],
             [
              0.1111111111111111,
              "#46039f"
             ],
             [
              0.2222222222222222,
              "#7201a8"
             ],
             [
              0.3333333333333333,
              "#9c179e"
             ],
             [
              0.4444444444444444,
              "#bd3786"
             ],
             [
              0.5555555555555556,
              "#d8576b"
             ],
             [
              0.6666666666666666,
              "#ed7953"
             ],
             [
              0.7777777777777778,
              "#fb9f3a"
             ],
             [
              0.8888888888888888,
              "#fdca26"
             ],
             [
              1,
              "#f0f921"
             ]
            ],
            "type": "histogram2d"
           }
          ],
          "histogram2dcontour": [
           {
            "colorbar": {
             "outlinewidth": 0,
             "ticks": ""
            },
            "colorscale": [
             [
              0,
              "#0d0887"
             ],
             [
              0.1111111111111111,
              "#46039f"
             ],
             [
              0.2222222222222222,
              "#7201a8"
             ],
             [
              0.3333333333333333,
              "#9c179e"
             ],
             [
              0.4444444444444444,
              "#bd3786"
             ],
             [
              0.5555555555555556,
              "#d8576b"
             ],
             [
              0.6666666666666666,
              "#ed7953"
             ],
             [
              0.7777777777777778,
              "#fb9f3a"
             ],
             [
              0.8888888888888888,
              "#fdca26"
             ],
             [
              1,
              "#f0f921"
             ]
            ],
            "type": "histogram2dcontour"
           }
          ],
          "mesh3d": [
           {
            "colorbar": {
             "outlinewidth": 0,
             "ticks": ""
            },
            "type": "mesh3d"
           }
          ],
          "parcoords": [
           {
            "line": {
             "colorbar": {
              "outlinewidth": 0,
              "ticks": ""
             }
            },
            "type": "parcoords"
           }
          ],
          "pie": [
           {
            "automargin": true,
            "type": "pie"
           }
          ],
          "scatter": [
           {
            "fillpattern": {
             "fillmode": "overlay",
             "size": 10,
             "solidity": 0.2
            },
            "type": "scatter"
           }
          ],
          "scatter3d": [
           {
            "line": {
             "colorbar": {
              "outlinewidth": 0,
              "ticks": ""
             }
            },
            "marker": {
             "colorbar": {
              "outlinewidth": 0,
              "ticks": ""
             }
            },
            "type": "scatter3d"
           }
          ],
          "scattercarpet": [
           {
            "marker": {
             "colorbar": {
              "outlinewidth": 0,
              "ticks": ""
             }
            },
            "type": "scattercarpet"
           }
          ],
          "scattergeo": [
           {
            "marker": {
             "colorbar": {
              "outlinewidth": 0,
              "ticks": ""
             }
            },
            "type": "scattergeo"
           }
          ],
          "scattergl": [
           {
            "marker": {
             "colorbar": {
              "outlinewidth": 0,
              "ticks": ""
             }
            },
            "type": "scattergl"
           }
          ],
          "scattermapbox": [
           {
            "marker": {
             "colorbar": {
              "outlinewidth": 0,
              "ticks": ""
             }
            },
            "type": "scattermapbox"
           }
          ],
          "scatterpolar": [
           {
            "marker": {
             "colorbar": {
              "outlinewidth": 0,
              "ticks": ""
             }
            },
            "type": "scatterpolar"
           }
          ],
          "scatterpolargl": [
           {
            "marker": {
             "colorbar": {
              "outlinewidth": 0,
              "ticks": ""
             }
            },
            "type": "scatterpolargl"
           }
          ],
          "scatterternary": [
           {
            "marker": {
             "colorbar": {
              "outlinewidth": 0,
              "ticks": ""
             }
            },
            "type": "scatterternary"
           }
          ],
          "surface": [
           {
            "colorbar": {
             "outlinewidth": 0,
             "ticks": ""
            },
            "colorscale": [
             [
              0,
              "#0d0887"
             ],
             [
              0.1111111111111111,
              "#46039f"
             ],
             [
              0.2222222222222222,
              "#7201a8"
             ],
             [
              0.3333333333333333,
              "#9c179e"
             ],
             [
              0.4444444444444444,
              "#bd3786"
             ],
             [
              0.5555555555555556,
              "#d8576b"
             ],
             [
              0.6666666666666666,
              "#ed7953"
             ],
             [
              0.7777777777777778,
              "#fb9f3a"
             ],
             [
              0.8888888888888888,
              "#fdca26"
             ],
             [
              1,
              "#f0f921"
             ]
            ],
            "type": "surface"
           }
          ],
          "table": [
           {
            "cells": {
             "fill": {
              "color": "#EBF0F8"
             },
             "line": {
              "color": "white"
             }
            },
            "header": {
             "fill": {
              "color": "#C8D4E3"
             },
             "line": {
              "color": "white"
             }
            },
            "type": "table"
           }
          ]
         },
         "layout": {
          "annotationdefaults": {
           "arrowcolor": "#2a3f5f",
           "arrowhead": 0,
           "arrowwidth": 1
          },
          "autotypenumbers": "strict",
          "coloraxis": {
           "colorbar": {
            "outlinewidth": 0,
            "ticks": ""
           }
          },
          "colorscale": {
           "diverging": [
            [
             0,
             "#8e0152"
            ],
            [
             0.1,
             "#c51b7d"
            ],
            [
             0.2,
             "#de77ae"
            ],
            [
             0.3,
             "#f1b6da"
            ],
            [
             0.4,
             "#fde0ef"
            ],
            [
             0.5,
             "#f7f7f7"
            ],
            [
             0.6,
             "#e6f5d0"
            ],
            [
             0.7,
             "#b8e186"
            ],
            [
             0.8,
             "#7fbc41"
            ],
            [
             0.9,
             "#4d9221"
            ],
            [
             1,
             "#276419"
            ]
           ],
           "sequential": [
            [
             0,
             "#0d0887"
            ],
            [
             0.1111111111111111,
             "#46039f"
            ],
            [
             0.2222222222222222,
             "#7201a8"
            ],
            [
             0.3333333333333333,
             "#9c179e"
            ],
            [
             0.4444444444444444,
             "#bd3786"
            ],
            [
             0.5555555555555556,
             "#d8576b"
            ],
            [
             0.6666666666666666,
             "#ed7953"
            ],
            [
             0.7777777777777778,
             "#fb9f3a"
            ],
            [
             0.8888888888888888,
             "#fdca26"
            ],
            [
             1,
             "#f0f921"
            ]
           ],
           "sequentialminus": [
            [
             0,
             "#0d0887"
            ],
            [
             0.1111111111111111,
             "#46039f"
            ],
            [
             0.2222222222222222,
             "#7201a8"
            ],
            [
             0.3333333333333333,
             "#9c179e"
            ],
            [
             0.4444444444444444,
             "#bd3786"
            ],
            [
             0.5555555555555556,
             "#d8576b"
            ],
            [
             0.6666666666666666,
             "#ed7953"
            ],
            [
             0.7777777777777778,
             "#fb9f3a"
            ],
            [
             0.8888888888888888,
             "#fdca26"
            ],
            [
             1,
             "#f0f921"
            ]
           ]
          },
          "colorway": [
           "#636efa",
           "#EF553B",
           "#00cc96",
           "#ab63fa",
           "#FFA15A",
           "#19d3f3",
           "#FF6692",
           "#B6E880",
           "#FF97FF",
           "#FECB52"
          ],
          "font": {
           "color": "#2a3f5f"
          },
          "geo": {
           "bgcolor": "white",
           "lakecolor": "white",
           "landcolor": "#E5ECF6",
           "showlakes": true,
           "showland": true,
           "subunitcolor": "white"
          },
          "hoverlabel": {
           "align": "left"
          },
          "hovermode": "closest",
          "mapbox": {
           "style": "light"
          },
          "paper_bgcolor": "white",
          "plot_bgcolor": "#E5ECF6",
          "polar": {
           "angularaxis": {
            "gridcolor": "white",
            "linecolor": "white",
            "ticks": ""
           },
           "bgcolor": "#E5ECF6",
           "radialaxis": {
            "gridcolor": "white",
            "linecolor": "white",
            "ticks": ""
           }
          },
          "scene": {
           "xaxis": {
            "backgroundcolor": "#E5ECF6",
            "gridcolor": "white",
            "gridwidth": 2,
            "linecolor": "white",
            "showbackground": true,
            "ticks": "",
            "zerolinecolor": "white"
           },
           "yaxis": {
            "backgroundcolor": "#E5ECF6",
            "gridcolor": "white",
            "gridwidth": 2,
            "linecolor": "white",
            "showbackground": true,
            "ticks": "",
            "zerolinecolor": "white"
           },
           "zaxis": {
            "backgroundcolor": "#E5ECF6",
            "gridcolor": "white",
            "gridwidth": 2,
            "linecolor": "white",
            "showbackground": true,
            "ticks": "",
            "zerolinecolor": "white"
           }
          },
          "shapedefaults": {
           "line": {
            "color": "#2a3f5f"
           }
          },
          "ternary": {
           "aaxis": {
            "gridcolor": "white",
            "linecolor": "white",
            "ticks": ""
           },
           "baxis": {
            "gridcolor": "white",
            "linecolor": "white",
            "ticks": ""
           },
           "bgcolor": "#E5ECF6",
           "caxis": {
            "gridcolor": "white",
            "linecolor": "white",
            "ticks": ""
           }
          },
          "title": {
           "x": 0.05
          },
          "xaxis": {
           "automargin": true,
           "gridcolor": "white",
           "linecolor": "white",
           "ticks": "",
           "title": {
            "standoff": 15
           },
           "zerolinecolor": "white",
           "zerolinewidth": 2
          },
          "yaxis": {
           "automargin": true,
           "gridcolor": "white",
           "linecolor": "white",
           "ticks": "",
           "title": {
            "standoff": 15
           },
           "zerolinecolor": "white",
           "zerolinewidth": 2
          }
         }
        },
        "title": {
         "text": "Distribution of PM2.5 24hr Mean Values"
        },
        "xaxis": {
         "anchor": "y",
         "domain": [
          0,
          1
         ],
         "title": {
          "text": "pm2_5_24h_mean"
         }
        },
        "yaxis": {
         "anchor": "x",
         "domain": [
          0,
          1
         ],
         "title": {
          "text": "count"
         }
        }
       }
      }
     },
     "metadata": {},
     "output_type": "display_data"
    }
   ],
   "source": [
    "# Distribution of PM2.5 values for PurpleAir monitors\n",
    "px.histogram(unique_dates_filtered[unique_dates_filtered['pm2_5_24h_mean'] <= 200], \n",
    "             x='pm2_5_24h_mean', title='Distribution of PM2.5 24hr Mean Values', nbins=50).show()"
   ]
  },
  {
   "cell_type": "code",
   "execution_count": 30,
   "id": "092afeba",
   "metadata": {},
   "outputs": [
    {
     "name": "stderr",
     "output_type": "stream",
     "text": [
      "/var/folders/tc/ygtvb05s0279mq2rg4cgkqp00000gn/T/ipykernel_16364/2184446324.py:5: SettingWithCopyWarning:\n",
      "\n",
      "\n",
      "A value is trying to be set on a copy of a slice from a DataFrame.\n",
      "Try using .loc[row_indexer,col_indexer] = value instead\n",
      "\n",
      "See the caveats in the documentation: https://pandas.pydata.org/pandas-docs/stable/user_guide/indexing.html#returning-a-view-versus-a-copy\n",
      "\n"
     ]
    },
    {
     "data": {
      "application/vnd.plotly.v1+json": {
       "config": {
        "plotlyServerURL": "https://plot.ly"
       },
       "data": [
        {
         "alignmentgroup": "True",
         "bingroup": "x",
         "hovertemplate": "pm2_5_24h_mean_log=%{x}<br>count=%{y}<extra></extra>",
         "legendgroup": "",
         "marker": {
          "color": "#636efa",
          "pattern": {
           "shape": ""
          }
         },
         "name": "",
         "nbinsx": 25,
         "offsetgroup": "",
         "orientation": "v",
         "showlegend": false,
         "type": "histogram",
         "x": [
          1.597365331199831,
          1.7732559976634952,
          1.6134299337036377,
          1.6752256529721035,
          1.801709800081223,
          1.9065751436566365,
          1.6505798557652755,
          1.8625285401162623,
          2.3204250111223765,
          2.615934912194404,
          2.359910159613315,
          1.3962446919730587,
          1.6695918352538475,
          1.4951487660319727,
          1.6054298910365616,
          1.9154509415706047,
          1.8946168546677629,
          1.7227665977411035,
          1.665818245870208,
          1.7439688053917064,
          1.358409157630355,
          1.0647107369924282,
          1.0577902941478545,
          1.3635373739972745,
          1.7967470107390942,
          1.2584609896100056,
          1.3987168811184478,
          1.7119945007591924,
          1.9358598132018119,
          2.169053700369523,
          2.469793011977952,
          2.4790562361098245,
          2.21046980408624,
          2.410542234499138,
          2.9796028916241073,
          2.65605490598383,
          2.4807312783775197,
          3.261168737058452,
          3.202339856228101,
          1.9544450515051506,
          2.8763855159214247,
          3.1793030497483774,
          1.7681496035889213,
          1.536867219599265,
          1.597365331199831,
          2.0399207835175526,
          2.127040520479115,
          2.6152036507358583,
          2.4840729690394228,
          2.9069010598473755,
          3.18179681662678,
          2.343727036325221,
          2.663052835171474,
          2.4932054526026954,
          1.3812818192963463,
          1.6956156086751528,
          1.425515074273172,
          1.9629077254238845,
          1.4996230464268938,
          1.366091653802371,
          1.5325568680981427,
          1.6992786164338898,
          2.405141681319138,
          2.263844264677615,
          2.1162555148025524,
          1.8870696490323797,
          1.951608170169951,
          2.2364452904895007,
          1.5769147207285403,
          1.7578579175523736,
          1.944480556245719,
          1.9530276168241774,
          1.7783364488959144,
          1.7732559976634952,
          1.7209792871670078,
          1.824549292051046,
          2.379546134130174,
          2.768831673362069,
          2.4664031782234406,
          2.6518325211039815,
          2.359910159613315,
          2.2213750375685026,
          1.884034745337226,
          2.4362414778067194,
          2.34660197841082,
          2.785628335747585,
          2.0781907597781832,
          1.780024213009634,
          1.884034745337226,
          1.8931119634883424,
          1.9198594718553708,
          1.809926773183504,
          1.9558604799084813,
          1.5871923034867808,
          1.2267122912954254,
          1.324418957401803,
          1.128171090909654,
          1.4838746894587547,
          1.415853163361435,
          1.3480731482996928,
          1.451613827240533,
          1.5390154481375546,
          1.5830939370944985,
          1.589235205116581,
          1.8500283773520307,
          1.4906543764441333,
          1.851599469584072,
          1.9139771019523042,
          1.6992786164338898,
          1.6074359097634274,
          1.7101878155342434,
          1.6054298910365616,
          1.6467336971777973,
          1.7047480922384253,
          1.9544450515051506,
          1.7083778602890038,
          1.4445632692438664,
          2.0149030205422647,
          1.8809906029559975,
          2.0014800002101243,
          2.5305171610400525,
          1.5665304114228238,
          1.528227857008557,
          1.463255402256019,
          1.3862943611198906,
          1.5851452198650557,
          1.6174060820832772,
          2.0228711901914416,
          1.8656293177945105,
          1.7544036826842861,
          1.888583653863595,
          1.5789787049493917,
          1.3962446919730587,
          1.3217558399823195,
          1.6174060820832772,
          2.3504224224082058,
          1.7613002617433464,
          1.556037135706985,
          1.667706820558076,
          1.5390154481375546,
          1.551808799597464,
          1.7173950539391927,
          1.6331544390514163,
          1.7173950539391927,
          1.7369512327330598,
          2.075684492802124,
          1.706564623164823,
          1.547562508716013,
          1.6213664832993742,
          1.5953389880545987,
          1.5623463049002497,
          1.5496879080283263,
          1.6695918352538475,
          1.5830939370944985,
          1.6094379124341003,
          1.884034745337226,
          1.9344157696295783,
          1.7351891177396608,
          1.6428726885203377,
          1.7369512327330598,
          1.3635373739972745,
          1.0508216248317612,
          1.0402767116551463,
          1.3190856114264407,
          1.3532545070416904,
          1.269760544863939,
          1.3506671834767394,
          1.623340817603092,
          1.7578579175523736,
          2.1162555148025524,
          2.578700529074361,
          2.4630018143999504,
          2.2512917986064953,
          2.479894107964456,
          3.0973859272804907,
          2.643333886382519,
          2.554121718809473,
          3.3456846717318967,
          3.4572626055951043,
          1.9558604799084813,
          2.9428587839469227,
          3.255400599550573,
          1.814824742159051,
          1.6524974018945473,
          1.6639260977181702,
          2.0215475632609334,
          2.162172939277301,
          2.5756610130564646,
          2.6232182655855123,
          3.0535293722802077,
          3.256942025674657,
          2.4078456036515385,
          2.7265447837383743,
          2.546315277916644,
          1.4724720573609429,
          1.7783364488959144,
          1.551808799597464,
          2.0028304393079956,
          1.528227857008557,
          1.3635373739972745,
          1.534714366238164,
          1.715598108262491,
          2.4756977107026903,
          2.3174737054877963,
          2.065596134857783,
          1.884034745337226,
          1.9933388426264242,
          2.0918640616783932,
          1.506297153514587,
          1.6331544390514163,
          1.9125010869241836,
          1.9358598132018119,
          1.8325814637483102,
          1.7544036826842861,
          1.7369512327330598,
          1.742219023667919,
          2.4432162227337915,
          3.004692014925463,
          2.6361960973342264,
          2.673458756332591,
          2.3589654264301534,
          2.306577114263583,
          1.8855533485144158,
          2.5982353350950036,
          2.403334996094189,
          2.8610573702273894,
          2.1126345090356,
          1.766441661243765,
          1.8115620965242347,
          1.81319474994812,
          1.8656293177945105,
          1.7967470107390942,
          2.0149030205422647,
          1.597365331199831,
          1.1631508098056809,
          1.3056264580524357,
          1.0986122886681098,
          1.463255402256019,
          1.4539530095937052,
          1.3837912309017721,
          1.4060969884160703,
          1.589235205116581,
          1.5953389880545987,
          1.62924053973028,
          1.9823798288367047,
          1.5602476682433286,
          1.9110228900548727,
          1.9726911717329554,
          1.6639260977181702,
          1.6074359097634274,
          1.7984040119467235,
          1.6074359097634274,
          1.5830939370944985,
          1.6863989535702288,
          1.9712993830601329,
          1.6486586255873816,
          1.423108334242607,
          1.9974177062012453,
          1.8687205103641833,
          2.038619547159581,
          2.5756610130564646,
          1.5953389880545987,
          1.5432981099295553,
          1.451613827240533,
          1.423108334242607,
          1.5454325824581878,
          1.631199404215613,
          2.0438143640366846,
          1.7900914121273581,
          1.7387102481382397,
          1.925707441737794,
          1.6134299337036377,
          1.3737155789130306,
          1.308332819650179,
          1.5933085305042167,
          2.3850863145057892,
          1.8389610707123492,
          1.551808799597464,
          1.6409365794934714,
          1.5151272329628591,
          1.5195132049061133,
          1.747459210331475,
          1.6134299337036377,
          1.6900958154515549,
          1.7526720805200082,
          2.0681277817795625,
          1.7526720805200082,
          1.501852701754163,
          1.6154199841116479,
          1.5769147207285403,
          1.5496879080283263,
          1.5260563034950492,
          1.9416152247724325,
          1.6448050562713916,
          1.7316555451583497,
          1.9139771019523042,
          2.0255131996542803,
          1.742219023667919,
          1.6974487897568136,
          1.8180767775454285,
          1.3912819026309295,
          1.1314021114911006,
          1.095273387402595,
          1.4350845252893227,
          1.4469189829363254,
          1.4036429994545037,
          1.430311246536665,
          1.6789639750827108,
          1.9080599249242156,
          2.1186622548331173,
          2.5494451709255714,
          2.3832429960115,
          2.2353763433005955,
          2.444084655267745,
          3.058237478905388,
          2.605648267484129,
          2.5257286443082556,
          3.2308043957334744,
          3.4704124506836282,
          2.005525858729668,
          2.89480635496403,
          3.2092294478163956,
          1.9416152247724325,
          1.6582280766035324,
          1.803358605071407,
          2.030776369698555,
          2.2321626286975,
          2.6093342281630525,
          2.5824869781268642,
          2.982140320034524,
          3.196630215920881,
          2.418588768750352,
          2.6748380668960965,
          2.4714836294558595,
          1.5539252025038417,
          1.8825138324965192,
          1.5107219394949425,
          2.2428350885882717,
          1.6582280766035324,
          1.451613827240533,
          1.6428726885203377,
          1.873339456220478,
          2.387844936944869,
          2.231089091288976,
          2.0438143640366846,
          1.9501867058225735,
          2.0869135565185366,
          2.0869135565185366,
          1.5195132049061133,
          1.7173950539391927,
          1.9906103279732201,
          1.9300710850255671,
          1.8293763327993617,
          1.7613002617433464,
          1.715598108262491,
          1.8229350866965048,
          2.462149662665384,
          2.987700101856727,
          2.6152036507358583,
          2.5687881337687024,
          2.2679936482244267,
          2.2159372862683733,
          1.9600947840472698,
          2.5967461315435356,
          2.336986519711378,
          2.7978909051019993,
          2.1471001901536506,
          1.776645831418007,
          1.884034745337226,
          1.7900914121273581,
          1.8357763546448294,
          1.7439688053917064,
          2.018895041811802,
          1.5810384379124023,
          1.2029723039923526,
          1.3110318766193438,
          1.1631508098056809,
          1.4655675420143985,
          1.463255402256019,
          1.415853163361435,
          1.5129270120532565,
          1.6563214983329508,
          1.6639260977181702,
          1.6601310267496185,
          1.8779371654691073,
          1.6448050562713916,
          2.0794415416798357,
          2.0162354657760435,
          1.7191887763932197,
          1.6563214983329508,
          1.8748743759385615,
          1.6639260977181702,
          1.6789639750827108,
          1.7732559976634952,
          2.0831845279586703,
          1.8229350866965048,
          1.4562867329399256,
          2.064327903869788,
          1.9080599249242156,
          1.9754689512968577,
          2.529720665577793,
          1.6808279085207734,
          1.5953389880545987,
          1.501852701754163,
          1.355835153635182,
          1.5748464676644813,
          1.6601310267496185,
          2.1077860146889784,
          1.8562979903656263,
          1.814824742159051,
          1.918392120161421,
          1.6752256529721035,
          1.3912819026309295,
          1.366091653802371,
          1.6752256529721035,
          2.485739636091892,
          1.803358605071407,
          1.6467336971777973,
          1.6789639750827108,
          1.6074359097634274,
          1.5851452198650557,
          1.8115620965242347,
          1.665818245870208,
          1.7698546338400052,
          1.7404661748405046,
          2.0162354657760435,
          1.7526720805200082,
          1.5129270120532565,
          1.728109442151599,
          1.5851452198650557,
          1.534714366238164,
          1.5644405465033644,
          2.0794415416798357,
          1.4747630091074988,
          1.6845453849209058,
          1.8702625307159986,
          1.9065751436566365,
          1.5789787049493917,
          1.6074359097634274,
          1.6956156086751528,
          1.355835153635182,
          1.0885619528146082,
          1.0577902941478545,
          1.2669476034873244,
          1.2809338454620642,
          1.3029127521808397,
          1.1600209167967532,
          1.4838746894587547,
          1.9050881545350582,
          2.1090003439213802,
          2.644755350729896,
          2.437115985951652,
          2.135349173618132,
          2.325324579963535,
          2.9590682891823996,
          2.5305171610400525,
          2.4078456036515385,
          3.2623183827110376,
          3.32862668882732,
          2.017566137961748,
          2.906354462402774,
          3.0160249768217535,
          1.2781522025001875,
          1.252762968495368,
          1.2556160374777743,
          1.275362800412609,
          1.2178757094949273,
          1.3270750014599193,
          1.3937663759585914,
          1.8594181177018698,
          1.8855533485144158,
          1.6882490928583902,
          2.9657883971809187,
          1.3029127521808397,
          1.5303947050936475,
          1.3270750014599193,
          1.1568811967920856,
          2.105352923464337,
          1.7749523509116738,
          1.4906543764441333,
          1.5454325824581878,
          1.6808279085207734,
          2.336986519711378,
          2.341805806147327,
          1.884034745337226,
          1.918392120161421,
          1.9823798288367047,
          1.9671123567059163,
          1.4816045409242156,
          1.623340817603092,
          1.9139771019523042,
          1.9242486522741338,
          1.7884205679625405,
          1.6845453849209058,
          1.6770965609079151,
          1.7227665977411035,
          2.392425796993835,
          2.9156062290747062,
          2.60859812213055,
          2.529720665577793,
          2.255493485460195,
          2.2438960966453663,
          1.8357763546448294,
          2.462149662665384,
          2.359910159613315,
          2.768204123921957,
          2.0881534822818573,
          1.706564623164823,
          1.724550719534605,
          1.6467336971777973,
          1.7509374747078,
          1.6900958154515549,
          2.1482677326096886,
          1.57069708411767,
          1.1346227261911428,
          1.3001916620664788,
          1.1216775615991057,
          1.3506671834767394,
          1.4861396960896067,
          1.2296405510745139,
          1.297463147413275,
          1.4996230464268938,
          1.597365331199831,
          1.6154199841116479,
          1.9139771019523042,
          1.6094379124341003,
          1.979621206397625,
          1.9823798288367047,
          1.6524974018945473,
          1.5953389880545987,
          1.7984040119467235,
          1.5933085305042167,
          1.589235205116581,
          1.6974487897568136,
          2.066862759472976,
          1.724550719534605,
          1.3937663759585914,
          1.9572739077056285,
          1.8421356765531218,
          1.998773638612381,
          2.522523513359307,
          1.6770965609079151,
          1.6134299337036377,
          1.4906543764441333,
          1.2892326482767593,
          1.536867219599265,
          1.7209792871670078,
          2.0592388343623163,
          1.8196988379172965,
          1.8961194845522977,
          1.8594181177018698,
          1.9213246735826988,
          1.3635373739972745,
          1.3376291891386096,
          1.597365331199831,
          2.4300984132930052,
          1.776645831418007,
          1.6448050562713916,
          1.6639260977181702,
          1.534714366238164,
          1.6094379124341003,
          1.8196988379172965,
          1.6448050562713916,
          1.7833912195575383,
          1.6639260977181702,
          2.0980179272527715,
          1.7732559976634952,
          1.5789787049493917,
          1.840549633397487,
          1.6409365794934714,
          1.5539252025038417,
          1.5107219394949425,
          2.2082744135228043,
          2.0844290831908747,
          2.1656192379208883,
          2.225704048658088,
          2.2353763433005955,
          2.0992441689760155,
          2.063058062429312,
          2.149433913499871,
          1.7526720805200082,
          1.5040773967762742,
          1.55814461804655,
          1.8809906029559975,
          1.8373699804801074,
          1.7316555451583497,
          1.8484548129046001,
          2.2071749081893874,
          2.4265710727750367,
          2.431857428698185,
          2.719319793360441,
          2.753023566744941,
          2.510411940196362,
          2.6658383522929006,
          3.192531849528599,
          2.8570447537800976,
          2.848970892158587,
          3.495294705041271,
          3.5610460826040513,
          2.3504224224082058,
          3.12060125559986,
          3.3170908723651555,
          2.3767644911682972,
          2.0515563381903004,
          2.1447610078004784,
          2.542389085201363,
          2.4612967841488667,
          2.91235066461494,
          2.8201877010390604,
          3.1130707659712242,
          3.2876553402630266,
          2.605648267484129,
          2.818995095053937,
          2.637627736805664,
          1.9810014688665833,
          2.2617630984737906,
          1.884034745337226,
          2.6004649904222727,
          2.0541237336955462,
          1.9416152247724325,
          2.1102132003465894,
          2.302585092994046,
          2.830267833826459,
          2.505525936990736,
          2.523325759691945,
          2.4807312783775197,
          2.4553061800117097,
          2.5915163848462583,
          1.7833912195575383,
          2.033397603178429,
          2.367436065313662,
          2.3145136638593193,
          2.0399207835175526,
          2.0255131996542803,
          2.052840859882657,
          2.152924318439639,
          2.844327819394758,
          3.1346242724206097,
          2.825536896557877,
          2.7813006628418027,
          2.5680215564985067,
          2.4932054526026954,
          2.303584593327129,
          2.7744619666214616,
          2.7356653681351832,
          3.056827372913802,
          2.4907230351094403,
          2.0451088625993306,
          2.190535589185423,
          2.138889000323256,
          2.1815467646169897,
          2.217027204632399,
          2.258633205464863,
          1.888583653863595,
          1.5769147207285403,
          1.6448050562713916,
          1.6114359150967734,
          1.814824742159051,
          1.891604804197771,
          1.8261608959453874,
          1.9021075263969205,
          1.944480556245719,
          2.046401687601636,
          2.1102132003465894,
          2.1482677326096886,
          2.0731719286662407,
          2.373043556642607,
          2.3739750890807185,
          2.1114245875328868,
          2.1029138978649784,
          2.1065702090680882,
          2.187174241482718,
          2.189416394888408,
          2.157559320943788,
          2.298577071596507,
          2.1150499691472033,
          1.8656293177945105,
          2.47232786758114,
          2.329227023940467,
          2.3767644911682972,
          2.733067964077498,
          2.020222182019865,
          1.9671123567059163,
          1.9387416595767009,
          1.766441661243765,
          1.9740810260220096,
          2.1016921506146558,
          2.498973906999436,
          2.322387720290225,
          2.192770226986839,
          2.1598687907924505,
          2.0425181875752383,
          1.7950872593207297,
          1.8115620965242347,
          2.1077860146889784,
          2.8587664184808337,
          2.280339484046726,
          2.0706530356467567,
          2.1377104498038118,
          2.064327903869788,
          1.9740810260220096,
          2.188295946591918,
          2.124653884501384,
          2.174751721484161,
          2.1598687907924505,
          2.2278615467981093,
          2.05668455455722,
          1.9726911717329554,
          2.1598687907924505,
          2.028148247292285,
          1.9892432737616872,
          1.9960599327407849,
          1.742219023667919,
          1.8468787684491346,
          1.6937790608678513,
          1.6695918352538475,
          1.9544450515051506,
          1.958685340544036,
          1.6789639750827108,
          1.9315214116032138,
          2.222459048514761,
          2.658159431488745,
          2.3978952727983707,
          1.3962446919730587,
          1.763017000362401,
          1.6154199841116479,
          1.7227665977411035,
          1.9139771019523042,
          1.927164106234258,
          1.7850704810772584,
          1.6863989535702288,
          1.7934247485471162,
          1.3686394258811698,
          1.0750024230289759,
          1.5195132049061133,
          1.3987168811184478,
          1.536867219599265,
          1.3428648031925547,
          1.3737155789130306,
          1.7439688053917064,
          2.0869135565185366,
          2.2460147415056513,
          2.551006451492524,
          2.615934912194404,
          2.288486168614544,
          2.4714836294558595,
          3.032064202801381,
          2.644755350729896,
          2.598979106047848,
          3.26880819361641,
          3.30395199722332,
          2.0693912058263346,
          2.9699015135194693,
          3.1763857732472487,
          1.8794650496471605,
          1.5539252025038417,
          1.747459210331475,
          2.1826747963214883,
          2.0930978681273213,
          2.6390573296152584,
          2.604170070614818,
          2.953868069455292,
          3.158276202739271,
          2.3085671646715933,
          2.605648267484129,
          2.3282528397426234,
          1.5454325824581878,
          1.8484548129046001,
          1.4422019930581866,
          2.0943301541735866,
          1.551808799597464,
          1.4539530095937052,
          1.589235205116581,
          1.8748743759385615,
          2.481567748522486,
          2.34660197841082,
          2.1041341542702074,
          1.9459101490553132,
          1.944480556245719,
          2.0844290831908747,
          1.4816045409242156,
          1.7439688053917064,
          2.1186622548331173,
          2.0082140323914683,
          1.7732559976634952,
          1.7369512327330598,
          1.7439688053917064,
          1.888583653863595,
          2.613739521630969,
          2.9496883350525844,
          2.6340447877917144,
          2.5368663887187113,
          2.2617630984737906,
          2.238579763018133,
          2.064327903869788,
          2.579458966729223,
          2.5160822672564502,
          2.7966713927557385,
          2.1210632163706555,
          1.763017000362401,
          1.8578592709325787,
          1.8421356765531218,
          1.8671761085128091,
          1.80005827204275,
          1.9960599327407849,
          1.4816045409242156,
          1.1817271953786161,
          1.3217558399823195,
          1.1052568313867783,
          1.4701758451005926,
          1.4770487243883548,
          1.4279160358107101,
          1.6034198401085376,
          1.7833912195575383,
          1.715598108262491,
          1.6505798557652755,
          1.8468787684491346,
          1.599387576580599,
          1.9080599249242156,
          1.9198594718553708,
          1.7544036826842861,
          1.6448050562713916,
          1.7387102481382397,
          1.6370530794670737,
          1.7011051009599243,
          1.7884205679625405,
          2.066862759472976,
          1.824549292051046,
          1.4701758451005926,
          2.0592388343623163,
          1.9919755158985601,
          2.1234584270966104,
          2.5416019934645457,
          1.6114359150967734,
          1.547562508716013,
          1.5173226235262949,
          1.3812818192963463,
          1.6074359097634274,
          1.6582280766035324,
          2.0515563381903004,
          1.8325814637483102,
          1.8562979903656263,
          1.8855533485144158,
          1.728109442151599,
          1.3762440252663892,
          1.324418957401803,
          1.631199404215613,
          2.4612967841488667,
          1.8229350866965048,
          1.623340817603092,
          1.7101878155342434,
          1.6213664832993742,
          1.5912739418064292,
          1.7698546338400052,
          1.673351238177753,
          1.7817091333745536,
          1.969905654611529,
          2.057962510002712,
          1.742219023667919,
          1.5623463049002497,
          1.6974487897568136,
          1.6134299337036377,
          1.5912739418064292,
          1.5602476682433286,
          1.7387102481382397,
          1.6331544390514163,
          1.623340817603092,
          1.8809906029559975,
          1.8531680973566984,
          1.7029282555214393,
          1.6428726885203377,
          1.7850704810772584,
          1.3737155789130306,
          1.0543120297715298,
          1.091923300517313,
          1.3912819026309295,
          1.449269160281279,
          1.332366019094335,
          1.5390154481375546,
          1.7191887763932197,
          1.9501867058225735,
          2.167910189667444,
          2.5321082512722946,
          2.681706225762608,
          2.5832425505088623,
          2.6239436918052106,
          3.068052935133617,
          2.7219531062712017,
          2.7140322727797574,
          3.4541060373175574,
          3.342154841028372,
          2.0360119837525,
          2.9902170928658807,
          3.1908877883280318,
          1.864080130807681,
          1.5454325824581878,
          1.589235205116581,
          2.1644717908644115,
          2.1424163408412245,
          2.6311691567662523,
          2.5664866367804233,
          2.963209081848431,
          3.1376657694426577,
          2.3589654264301534,
          2.5152741864043966,
          2.321406847234633,
          1.415853163361435,
          1.7850704810772584,
          1.4539530095937052,
          2.0360119837525,
          1.4678743481123135,
          1.3737155789130306,
          1.4838746894587547,
          1.7647307968401356,
          2.4265710727750367,
          2.281361456542419,
          2.0856720914304723,
          1.9401794743463283,
          2.0294631718735947,
          2.306577114263583,
          1.6714733033535532,
          1.888583653863595,
          2.3702437414678603,
          1.9671123567059163,
          1.7817091333745536,
          1.6639260977181702,
          1.682688374173693,
          2.010894999144726,
          2.683074215032033,
          2.9444389791664403,
          2.542389085201363,
          2.5360749363624,
          2.263844264677615,
          2.1587147225743437,
          2.0930978681273213,
          2.5937610547000824,
          2.513656063073986,
          2.8656235882069705,
          2.122261538862764,
          1.8547342683894434,
          1.8687205103641833,
          1.851599469584072,
          1.8421356765531218,
          1.81319474994812,
          1.9430489167742813,
          1.501852701754163,
          1.1755733298042381,
          1.3217558399823195,
          1.1019400787607843,
          1.425515074273172,
          1.4816045409242156,
          1.3001916620664788,
          1.5602476682433286,
          1.6563214983329508,
          1.6992786164338898,
          1.682688374173693,
          1.8293763327993617,
          1.5390154481375546,
          1.8293763327993617,
          1.9974177062012453,
          1.7101878155342434,
          1.6639260977181702,
          1.6448050562713916,
          1.6505798557652755,
          1.9198594718553708,
          1.8115620965242347,
          1.9473377010464987,
          1.728109442151599,
          1.4655675420143985,
          2.0255131996542803,
          1.9387416595767009,
          2.1424163408412245,
          2.624668592163159,
          1.6074359097634274,
          1.5390154481375546,
          1.4747630091074988,
          1.4011829736136414,
          1.5789787049493917,
          1.5871923034867808,
          1.9919755158985601,
          1.8946168546677629,
          1.9600947840472698,
          1.8229350866965048,
          1.6992786164338898,
          1.3862943611198906,
          1.3428648031925547,
          1.6331544390514163,
          2.424802725718295,
          1.8809906029559975,
          1.7227665977411035,
          1.6620303625532709,
          1.5390154481375546,
          1.547562508716013,
          1.7047480922384253,
          1.62924053973028,
          1.7209792871670078,
          1.8082887711792655,
          1.998773638612381,
          1.7351891177396608,
          1.5454325824581878,
          1.6620303625532709,
          1.5933085305042167,
          1.5789787049493917,
          1.556037135706985,
          1.6620303625532709,
          1.900613874140137,
          1.7404661748405046,
          1.6114359150967734,
          1.937301774518713,
          1.9906103279732201,
          1.6714733033535532,
          1.888583653863595,
          2.300583090323373,
          2.714694743820879,
          2.4527277514237653,
          1.43746264769429,
          1.7967470107390942,
          1.6714733033535532,
          1.7227665977411035,
          1.8976198599275322,
          2.046401687601636,
          1.7967470107390942,
          1.6695918352538475,
          1.8357763546448294,
          1.410986973710262,
          1.0885619528146082,
          1.1085626195212777,
          1.4996230464268938,
          1.4724720573609429,
          1.3862943611198906,
          1.4562867329399256,
          1.951608170169951,
          2.1198634561787513,
          2.28949985344539,
          2.658159431488745,
          2.667228206581955,
          2.3702437414678603,
          2.5447466501440172,
          3.1126260250254902,
          2.719978771967484,
          2.7053799725463312,
          3.424588334452731,
          3.453789831781326,
          2.1138429683971687,
          3.055886196373738,
          3.2646137165420543,
          1.9080599249242156,
          1.5953389880545987,
          1.6505798557652755,
          2.2267833795777636,
          2.2321626286975,
          2.731115474033206,
          2.671386216730619,
          3.035433640405543,
          3.2347491740244907,
          2.4406063908914204,
          2.6347624053323777,
          2.3813962734183356,
          1.891604804197771,
          1.851599469584072,
          1.547562508716013,
          2.0794415416798357,
          1.6193882432872684,
          1.4747630091074988,
          1.7613002617433464,
          2.0360119837525,
          2.6326080059353516,
          2.355177543113216,
          2.206074192613202,
          2.2267833795777636,
          2.0844290831908747,
          2.2965670206684825,
          1.5665304114228238,
          1.8066480817218056,
          2.1770218700187,
          2.0135687975291283,
          1.8196988379172965,
          1.6974487897568136,
          1.7715567619105355,
          1.922787731634459,
          2.715356776284648,
          3.0257763949023677,
          2.7219531062712017,
          2.596000697293587,
          2.347558458636777,
          2.2905125117597764,
          2.128231705849268,
          2.641910398597665,
          2.6100697927420065,
          2.9085390618516134,
          2.1826747963214883,
          1.8229350866965048,
          2.0451088625993306,
          2.0881534822818573,
          1.9558604799084813,
          1.888583653863595,
          2.0320878452963655,
          1.5933085305042167,
          1.2267122912954254,
          1.3480731482996928,
          1.1378330018213911,
          1.4770487243883548,
          1.5040773967762742,
          1.4422019930581866,
          1.6272778305624314,
          1.6770965609079151,
          1.7263316639055997,
          1.706564623164823,
          1.9154509415706047,
          1.5912739418064292,
          1.9823798288367047,
          2.0268315914075385,
          1.851599469584072,
          1.6389967146756448,
          1.7316555451583497,
          1.6937790608678513,
          1.8082887711792655,
          1.8050046959780757,
          2.0241930674493576,
          1.791759469228055,
          1.501852701754163,
          2.0943301541735866,
          2.012232791986386,
          2.2159372862683733,
          2.611539300721366,
          1.673351238177753,
          1.5454325824581878,
          1.5129270120532565,
          1.3837912309017721,
          1.6486586255873816,
          1.6582280766035324,
          2.0554049638515948,
          1.8718021769015913,
          1.944480556245719,
          1.918392120161421,
          1.7526720805200082,
          1.4562867329399256,
          1.355835153635182,
          1.6639260977181702,
          2.4595888418037104,
          1.8484548129046001,
          1.6428726885203377,
          1.7173950539391927,
          1.6505798557652755,
          1.6034198401085376,
          1.7850704810772584,
          1.6992786164338898,
          1.7934247485471162,
          1.900613874140137,
          2.080690761080268,
          1.7984040119467235,
          1.601405740736836,
          1.6900958154515549,
          1.6974487897568136,
          1.62924053973028,
          1.6272778305624314,
          1.6428726885203377,
          1.8389610707123492,
          1.7083778602890038,
          1.5851452198650557,
          1.9459101490553132,
          1.9154509415706047,
          1.6389967146756448,
          1.8373699804801074,
          2.2700619012884857,
          2.6483001966964363,
          2.437115985951652,
          1.4182774069729414,
          1.7833912195575383,
          1.6524974018945473,
          1.6505798557652755,
          1.884034745337226,
          1.927164106234258,
          1.7544036826842861,
          1.6486586255873816,
          1.7681496035889213,
          1.3887912413184778,
          1.1184149159642893,
          1.4793292270870801,
          1.4747630091074988,
          1.4398351280479207,
          1.355835153635182,
          1.4182774069729414,
          1.6770965609079151,
          2.010894999144726,
          2.2679936482244267,
          2.6232182655855123,
          2.6525374911719513,
          2.306577114263583,
          2.503891949699081,
          3.095577608523707,
          2.7107133185216936,
          2.6623552418400807,
          3.4291367503513968,
          3.495901317131453,
          2.169053700369523,
          3.0209125720842893,
          3.1986731175506815,
          1.9035989509835904,
          1.5789787049493917,
          1.6331544390514163,
          2.2396452932201716,
          2.2823823856765264,
          2.72785282839839,
          2.7421295147550726,
          3.0209125720842893,
          3.1917101567954314,
          2.373043556642607,
          2.6253929674212007,
          2.3282528397426234,
          1.536867219599265,
          1.8702625307159986,
          1.4724720573609429,
          2.0681277817795625,
          1.5129270120532565,
          1.4586150226995167,
          1.6620303625532709,
          1.8594181177018698,
          2.6071242825122494,
          2.382320061012899,
          2.1972245773362196,
          2.0228711901914416,
          2.0693912058263346,
          2.288486168614544,
          1.506297153514587,
          1.7404661748405046,
          2.1174596088673567,
          1.9615022438151495,
          1.766441661243765,
          1.7227665977411035,
          1.7209792871670078,
          1.8687205103641833,
          2.7093826463359885,
          3.018960399673198,
          2.658859956911438,
          2.556451816951096,
          2.3841650799864684,
          2.3389170222414357,
          2.017566137961748,
          2.6326080059353516,
          2.547098670044448,
          2.8616292890305104,
          2.138889000323256,
          1.7561322915849038,
          1.8825138324965192,
          1.8671761085128091,
          1.9329696377795786,
          1.891604804197771,
          2.0360119837525,
          1.5454325824581878,
          1.2237754316221157,
          1.332366019094335,
          1.1505720275988207,
          1.4838746894587547,
          1.4951487660319727,
          1.3454723665996355,
          1.4655675420143985,
          1.6193882432872684,
          1.6563214983329508,
          1.7439688053917064,
          1.8991179875485542,
          1.5644405465033644,
          1.9139771019523042,
          2.046401687601636,
          1.8309801823813363,
          1.6601310267496185,
          1.742219023667919,
          1.6467336971777973,
          1.803358605071407,
          1.8066480817218056,
          1.9960599327407849,
          1.801709800081223,
          1.5390154481375546,
          2.0706530356467567,
          1.9671123567059163,
          2.151762203259462,
          2.589266665112243,
          1.667706820558076,
          1.5325568680981427,
          1.5173226235262949,
          1.4036429994545037,
          1.597365331199831,
          1.623340817603092,
          2.132982308607866,
          1.8794650496471605,
          2.081938421878423,
          1.9110228900548727,
          1.7387102481382397,
          1.410986973710262,
          1.413423028508143,
          1.6544112780768316,
          2.449279472144849,
          1.8794650496471605,
          1.5851452198650557,
          1.6937790608678513,
          1.6331544390514163,
          1.5810384379124023,
          1.7783364488959144,
          1.6900958154515549,
          1.8050046959780757,
          2.150598735996164,
          2.0731719286662407,
          1.8082887711792655,
          1.6074359097634274,
          1.7334238922150915,
          1.6974487897568136,
          1.6563214983329508,
          1.547562508716013,
          1.706564623164823,
          1.925707441737794,
          1.776645831418007,
          1.7647307968401356,
          1.8976198599275322,
          1.8325814637483102,
          1.6956156086751528,
          1.8261608959453874,
          2.363680192353857,
          2.5847519847577165,
          2.300583090323373,
          1.4724720573609429,
          1.7732559976634952,
          1.6154199841116479,
          1.7119945007591924,
          2.0068708488450007,
          1.918392120161421,
          1.801709800081223,
          1.8082887711792655,
          1.780024213009634,
          1.4539530095937052,
          1.1662709371419244,
          1.169381359556317,
          1.355835153635182,
          1.420695787837223,
          1.358409157630355,
          1.3532545070416904,
          1.5665304114228238,
          1.691939133945844,
          1.9430489167742813,
          2.3233676321765744,
          2.354228326145884,
          2.1849270495258133,
          2.3758355547336385,
          2.924236271848921,
          2.5945081597030812,
          2.365559892155434,
          3.224857896545748,
          3.2003044392827653,
          1.840549633397487,
          2.857618971424357,
          3.219675505038765,
          1.9213246735826988,
          1.6034198401085376,
          1.57069708411767,
          1.8625285401162623,
          1.8562979903656263,
          2.3758355547336385,
          2.2027647577118348,
          2.8495497633759097,
          3.12060125559986,
          2.0731719286662407,
          2.599722324216582,
          2.3942522815198695,
          1.463255402256019,
          1.6752256529721035,
          1.415853163361435,
          2.0149030205422647,
          1.4609379041156565,
          1.4350845252893227,
          1.506297153514587,
          1.6505798557652755,
          2.128231705849268,
          2.066862759472976,
          1.8748743759385615,
          1.713797927758343,
          1.7647307968401356,
          2.131796772013764,
          1.55814461804655,
          1.6054298910365616,
          1.803358605071407,
          1.958685340544036,
          1.7833912195575383,
          1.6370530794670737,
          1.7047480922384253,
          1.6582280766035324,
          2.187174241482718,
          2.5680215564985067,
          2.2332350148592526,
          2.464703942470481,
          2.1258479144939915,
          2.0438143640366846,
          1.7613002617433464,
          2.263844264677615,
          2.192770226986839,
          2.6851226964585053,
          2.0082140323914683,
          1.7083778602890038,
          1.776645831418007,
          1.7526720805200082,
          1.7578579175523736,
          1.6956156086751528,
          1.809926773183504,
          1.3686394258811698,
          1.297463147413275,
          1.420695787837223,
          1.144222799920162,
          1.4562867329399256,
          1.3812818192963463,
          1.3762440252663892,
          1.4422019930581866,
          1.5686159179138452,
          1.57069708411767,
          1.5871923034867808,
          1.7173950539391927,
          1.7011051009599243,
          1.8702625307159986,
          1.8421356765531218,
          1.599387576580599,
          1.6154199841116479,
          1.6486586255873816,
          1.5173226235262949,
          1.5390154481375546,
          1.597365331199831,
          1.8484548129046001,
          1.536867219599265,
          1.4422019930581866,
          1.937301774518713,
          1.7934247485471162,
          1.8809906029559975,
          2.379546134130174,
          1.5195132049061133,
          1.599387576580599,
          1.4861396960896067,
          1.4609379041156565,
          1.6389967146756448,
          1.7298840655099674,
          1.9430489167742813,
          1.814824742159051,
          1.7351891177396608,
          1.7681496035889213,
          1.5686159179138452,
          1.4011829736136414,
          1.4445632692438664,
          1.7647307968401356,
          2.3617969526258915,
          1.7749523509116738,
          1.665818245870208,
          1.6639260977181702,
          1.5496879080283263,
          1.6094379124341003,
          1.7119945007591924,
          1.6389967146756448,
          1.6900958154515549,
          1.8468787684491346,
          2.018895041811802,
          1.6563214983329508,
          1.6582280766035324,
          1.6486586255873816,
          1.6074359097634274,
          1.6134299337036377,
          1.6351056591826783,
          1.5953389880545987,
          1.814824742159051,
          1.7833912195575383,
          1.6789639750827108,
          1.873339456220478,
          1.80005827204275,
          1.6639260977181702,
          1.7900914121273581,
          2.410542234499138,
          2.5289235352047745,
          2.2710944259026746,
          1.3762440252663892,
          1.7817091333745536,
          1.4655675420143985,
          1.809926773183504,
          2.018895041811802,
          1.843719208158766,
          1.6034198401085376,
          1.6845453849209058,
          1.6974487897568136,
          1.3270750014599193,
          1.0367368849500223,
          1.1216775615991057,
          1.6505798557652755,
          1.2383742310432684,
          1.6582280766035324,
          1.332366019094335,
          1.534714366238164,
          1.724550719534605,
          2.052840859882657,
          2.448415541205585,
          2.4475508632442313,
          2.21046980408624,
          2.3570732782781154,
          3.0199369622508083,
          2.644755350729896,
          2.3523271848888596,
          3.305787196857497,
          3.2200751054436827,
          1.9110228900548727,
          2.950211758252182,
          3.2007118542405295,
          1.9139771019523042,
          1.667706820558076,
          1.7439688053917064,
          2.004179057179289,
          1.7595805708638197,
          2.552565298261815,
          2.149433913499871,
          2.942331496826876,
          3.1663185741295248,
          1.8946168546677629,
          2.529720665577793,
          2.2607208888953467,
          1.4996230464268938,
          1.6331544390514163,
          1.355835153635182,
          2.21046980408624,
          1.3762440252663892,
          1.3762440252663892,
          1.5390154481375546,
          1.5665304114228238,
          2.2192034840549946,
          2.322387720290225,
          1.6620303625532709,
          1.749199854809259,
          1.715598108262491,
          1.589235205116581,
          1.4906543764441333,
          1.6808279085207734,
          1.8453002361560848,
          1.916922612182061,
          1.8671761085128091,
          1.6900958154515549,
          1.667706820558076,
          1.631199404215613,
          2.4932054526026954,
          2.97756830292632,
          2.517696472610991,
          2.5877640352277083,
          2.2669579153508947,
          2.1972245773362196,
          1.916922612182061,
          2.5079719227189963,
          2.4159137783010487,
          2.9069010598473755,
          2.135349173618132,
          1.7209792871670078,
          1.7263316639055997,
          1.6467336971777973,
          1.7578579175523736,
          1.6714733033535532,
          1.6467336971777973,
          1.6213664832993742,
          1.1052568313867783,
          1.269760544863939,
          1.085189268335969,
          1.3480731482996928,
          1.449269160281279,
          1.264126727145683,
          1.4747630091074988,
          1.4539530095937052,
          1.5539252025038417,
          1.5173226235262949,
          1.9430489167742813,
          1.536867219599265,
          1.9286186519452522,
          1.9139771019523042,
          1.5238800240724537,
          1.6370530794670737,
          1.6601310267496185,
          1.4861396960896067,
          1.4770487243883548,
          1.6193882432872684,
          1.9387416595767009,
          1.5390154481375546,
          1.3812818192963463,
          1.9768549529047348,
          1.851599469584072,
          2.0162354657760435,
          2.529720665577793,
          1.7900914121273581,
          1.5644405465033644,
          1.4747630091074988,
          1.2837077723447896,
          1.5769147207285403,
          1.6213664832993742,
          2.020222182019865,
          1.7732559976634952,
          1.7817091333745536,
          1.824549292051046,
          1.5432981099295553,
          1.3480731482996928,
          1.2947271675944,
          1.6253112615903906,
          2.481567748522486,
          1.8325814637483102,
          1.5912739418064292,
          1.6789639750827108,
          1.4816045409242156,
          1.5432981099295553,
          1.7984040119467235,
          1.6370530794670737,
          1.728109442151599,
          1.6272778305624314,
          2.005525858729668,
          1.747459210331475,
          1.5107219394949425,
          1.6882490928583902,
          1.5810384379124023,
          1.5390154481375546,
          1.5129270120532565,
          2.5855058483441162,
          2.1102132003465894,
          2.253394848803274,
          2.1983350716202463,
          1.9726911717329554,
          2.4561641809223462,
          2.3896797998449792,
          1.9401794743463283,
          2.1644717908644115,
          2.4932054526026954,
          2.8853592160726205,
          2.6224923127405635,
          1.965712776351493,
          2.150598735996164,
          2.0844290831908747,
          2.1482677326096886,
          2.318458442150336,
          2.4042387467205457,
          2.018895041811802,
          2.154085084675602,
          2.063058062429312,
          1.6770965609079151,
          1.220829921392359,
          1.749199854809259,
          2.048982334195127,
          1.7439688053917064,
          1.7613002617433464,
          2.064327903869788,
          1.9572739077056285,
          2.1564025828159643,
          2.3711778844596574,
          2.6939512767227085,
          2.7120422223717475,
          2.4501426573516603,
          2.6741486494265287,
          3.1531632815028194,
          2.856470206220483,
          2.8201877010390604,
          3.4531571205928664,
          3.5339784928959737,
          2.3350522831315472,
          3.092858984284714,
          3.3105430133940246,
          2.379546134130174,
          1.809926773183504,
          2.1849270495258133,
          2.446685436967803,
          2.5603232890727545,
          2.9041650800285006,
          2.8207834710894493,
          3.086486636822455,
          3.2913825156549485,
          2.5603232890727545,
          2.7978909051019993,
          2.5641798306825083,
          2.064327903869788,
          2.0399207835175526,
          1.7561322915849038,
          2.825536896557877,
          2.075684492802124,
          1.884034745337226,
          2.05668455455722,
          2.1938856760707046,
          2.7479117345273405,
          2.47232786758114,
          2.4414770918606643,
          2.4292177439274116,
          2.307572634505085,
          2.5756610130564646,
          1.6074359097634274,
          2.3532782073095637,
          2.428336298299606,
          2.3532782073095637,
          1.9558604799084813,
          2.0149030205422647,
          2.145931282948669,
          2.234306252240751,
          2.825536896557877,
          3.1437211512674406,
          2.97092715463502,
          2.797281334830153,
          2.554899021608035,
          2.4782176616372036,
          2.2945529212967815,
          2.8384934971274993,
          2.822568654544802,
          3.0782334950657346,
          2.448415541205585,
          2.028148247292285,
          2.21375387928743,
          2.315501318260592,
          2.5360749363624,
          2.178155014615869,
          2.180417459019838,
          1.8794650496471605,
          1.5173226235262949,
          1.4562867329399256,
          1.43746264769429,
          1.8931119634883424,
          1.8050046959780757,
          1.864080130807681,
          1.9906103279732201,
          1.8625285401162623,
          2.157559320943788,
          2.3045830956567186,
          2.2289385528257473,
          2.0095554142156695,
          2.4612967841488667,
          2.3085671646715933,
          2.0731719286662407,
          2.1016921506146558,
          2.248128907197987,
          2.4042387467205457,
          2.2823823856765264,
          2.1114245875328868,
          2.423031246069913,
          2.1234584270966104,
          2.419478844465545,
          2.6461747973841225,
          2.277267285009756,
          2.2617630984737906,
          2.8320361808832013,
          2.154085084675602,
          1.900613874140137,
          1.891604804197771,
          1.6114359150967734,
          1.9530276168241774,
          2.152924318439639,
          2.4965057856313524,
          2.2844211223663744,
          2.2300144001592104,
          2.124653884501384,
          2.1826747963214883,
          1.7457155307266483,
          1.6544112780768316,
          2.0228711901914416,
          2.935451342669061,
          2.0515563381903004,
          2.392425796993835,
          2.1114245875328868,
          2.355177543113216,
          1.9726911717329554,
          2.209372711271867,
          2.217027204632399,
          2.081938421878423,
          2.295560478057081,
          2.2278615467981093,
          2.47232786758114,
          1.801709800081223,
          2.21375387928743,
          2.057962510002712,
          1.7647307968401356,
          2.915064370486536,
          1.631199404215613,
          1.7783364488959144,
          1.6582280766035324,
          1.601405740736836,
          1.81319474994812,
          1.7457155307266483,
          1.6272778305624314,
          1.7191887763932197,
          2.321406847234633,
          2.469793011977952,
          2.2844211223663744,
          1.205970806988609,
          1.6448050562713916,
          1.4838746894587547,
          1.6467336971777973,
          1.8702625307159986,
          1.81319474994812,
          1.6620303625532709,
          1.673351238177753,
          1.6974487897568136,
          1.2947271675944,
          0.9932517730102834,
          1.0331844833456545,
          1.1939224684724346,
          1.3110318766193438,
          1.297463147413275,
          1.235471471385307,
          1.556037135706985,
          1.7934247485471162,
          2.005525858729668,
          2.411439497906128,
          2.363680192353857,
          2.192770226986839,
          2.341805806147327,
          2.9564715596006885,
          2.561867690924129,
          2.3711778844596574,
          3.2827891506118534,
          3.2880286835565173,
          1.8825138324965192,
          2.907447358686419,
          3.1548704948922883,
          1.724550719534605,
          1.5623463049002497,
          1.724550719534605,
          1.9878743481543455,
          1.9050881545350582,
          2.418588768750352,
          2.2438960966453663,
          2.932792473780117,
          3.1480240838962494,
          1.884034745337226,
          2.5649493574615367,
          2.395164274287139,
          1.4327007339340463,
          1.6174060820832772,
          1.308332819650179,
          1.9974177062012453,
          1.332366019094335,
          1.3962446919730587,
          1.4609379041156565,
          1.6389967146756448,
          2.222459048514761,
          2.180417459019838,
          1.6582280766035324,
          1.8082887711792655,
          1.8309801823813363,
          1.9401794743463283,
          1.4655675420143985,
          1.6409365794934714,
          1.8531680973566984,
          1.8931119634883424,
          1.7817091333745536,
          1.6601310267496185,
          1.6428726885203377,
          1.6695918352538475,
          2.387844936944869,
          2.915064370486536,
          2.485739636091892,
          2.5400259490090797,
          2.1849270495258133,
          2.1564025828159643,
          1.8671761085128091,
          2.477378383367209,
          2.344686269012681,
          2.8604851241459652,
          2.0731719286662407,
          1.7173950539391927,
          1.7369512327330598,
          1.6752256529721035,
          1.7457155307266483,
          1.6714733033535532,
          1.8341801851120072,
          1.6074359097634274,
          1.0986122886681098,
          1.2383742310432684,
          1.085189268335969,
          1.4586150226995167,
          1.420695787837223,
          1.2612978709452054,
          1.33500106673234,
          1.501852701754163,
          1.5665304114228238,
          1.5769147207285403,
          1.9021075263969205,
          1.4906543764441333,
          1.9242486522741338,
          1.888583653863595,
          1.5830939370944985,
          1.6544112780768316,
          1.6582280766035324,
          1.541159071680806,
          1.5151272329628591,
          1.6134299337036377,
          1.8870696490323797,
          1.5644405465033644,
          1.332366019094335,
          1.9544450515051506,
          1.8261608959453874,
          1.9643112344262046,
          2.474856313934499,
          1.6134299337036377,
          1.589235205116581,
          1.4539530095937052,
          1.2864740258376797,
          1.5623463049002497,
          1.6213664832993742,
          2.0228711901914416,
          1.7369512327330598,
          1.713797927758343,
          1.7934247485471162,
          1.5432981099295553,
          1.297463147413275,
          1.2947271675944,
          1.6213664832993742,
          2.4655539212721855,
          1.7984040119467235,
          1.599387576580599,
          1.6154199841116479,
          1.4816045409242156,
          1.5623463049002497,
          1.7439688053917064,
          1.6486586255873816,
          1.691939133945844,
          1.6620303625532709,
          1.9685099809725544,
          1.6808279085207734,
          1.4655675420143985,
          1.665818245870208,
          1.5644405465033644,
          1.4816045409242156,
          1.4929040961781488,
          1.715598108262491,
          1.927164106234258,
          1.7509374747078,
          1.7561322915849038,
          1.9050881545350582,
          1.9530276168241774,
          1.7457155307266483,
          1.922787731634459,
          2.4309783077624445,
          2.6411978941143697,
          2.4423470353692043,
          1.5085119938441398,
          1.7967470107390942,
          1.6714733033535532,
          1.8229350866965048,
          2.050270164379556,
          2.105352923464337,
          1.9139771019523042,
          1.8213182714695995,
          1.8931119634883424,
          1.4655675420143985,
          1.1786549963416462,
          1.172482137234565,
          1.5325568680981427,
          1.5789787049493917,
          1.4539530095937052,
          1.6505798557652755,
          1.8453002361560848,
          2.061786606441115,
          2.2793164660546914,
          2.5726122302071057,
          2.5392369943330477,
          2.3523271848888596,
          2.4907230351094403,
          3.0946722214088944,
          2.7414849771884473,
          2.58851563240702,
          3.3748534063225533,
          3.4065165431397553,
          2.1150499691472033,
          3.0160249768217535,
          3.318902138935325,
          1.9473377010464987,
          1.7369512327330598,
          1.776645831418007,
          2.199444334074532,
          2.336986519711378,
          2.750470916986162,
          2.6253929674212007,
          3.1023420086122493,
          3.3304171996011083,
          2.405141681319138,
          2.857618971424357,
          2.6871669901857858,
          1.57069708411767,
          1.9558604799084813,
          1.5602476682433286,
          2.152924318439639,
          1.6601310267496185,
          1.5432981099295553,
          1.724550719534605,
          1.860974538249528,
          2.422144328051685,
          2.4362414778067194,
          2.1701959049483,
          2.0769384114617173,
          2.0980179272527715,
          2.3664984187376983,
          1.6114359150967734,
          1.8484548129046001,
          2.057962510002712,
          2.0781907597781832,
          1.8946168546677629,
          1.9139771019523042,
          1.7817091333745536,
          1.998773638612381,
          2.558002204858551,
          3.005187432324746,
          2.6282852326333477,
          2.7549337870010606,
          2.449279472144849,
          2.321406847234633,
          2.1400661634962708,
          2.67827804276854,
          2.5649493574615367,
          2.9564715596006885,
          2.234306252240751,
          1.9035989509835904,
          1.986503546020567,
          2.0095554142156695,
          2.1029138978649784,
          1.8855533485144158,
          2.1102132003465894,
          1.6695918352538475,
          1.3137236682850553,
          1.4011829736136414,
          1.2325602611778486,
          1.7749523509116738,
          1.5933085305042167,
          1.541159071680806,
          1.682688374173693,
          1.728109442151599,
          1.8066480817218056,
          1.7439688053917064,
          2.004179057179289,
          1.7457155307266483,
          2.057962510002712,
          2.138889000323256,
          1.7749523509116738,
          1.7967470107390942,
          1.890095369948917,
          1.7047480922384253,
          1.7867469274045107,
          1.780024213009634,
          2.0347056478384444,
          1.7681496035889213,
          1.6351056591826783,
          2.162172939277301,
          2.0541237336955462,
          2.065596134857783,
          2.6166656393003573,
          1.7083778602890038,
          1.6620303625532709,
          1.623340817603092,
          1.4678743481123135,
          1.742219023667919,
          1.8656293177945105,
          2.2438960966453663,
          2.0001277349601105,
          1.8484548129046001,
          2.005525858729668,
          1.6863989535702288,
          1.5303947050936475,
          1.506297153514587,
          1.809926773183504,
          2.574137783515943,
          1.9740810260220096,
          1.7387102481382397,
          1.791759469228055,
          1.6370530794670737,
          1.7083778602890038,
          1.8702625307159986,
          1.7595805708638197,
          1.860974538249528,
          1.801709800081223,
          2.143589361503588,
          1.7783364488959144,
          1.6582280766035324,
          1.7647307968401356,
          1.7334238922150915,
          1.6770965609079151,
          1.6620303625532709
         ],
         "xaxis": "x",
         "yaxis": "y"
        }
       ],
       "layout": {
        "barmode": "relative",
        "legend": {
         "tracegroupgap": 0
        },
        "template": {
         "data": {
          "bar": [
           {
            "error_x": {
             "color": "#2a3f5f"
            },
            "error_y": {
             "color": "#2a3f5f"
            },
            "marker": {
             "line": {
              "color": "#E5ECF6",
              "width": 0.5
             },
             "pattern": {
              "fillmode": "overlay",
              "size": 10,
              "solidity": 0.2
             }
            },
            "type": "bar"
           }
          ],
          "barpolar": [
           {
            "marker": {
             "line": {
              "color": "#E5ECF6",
              "width": 0.5
             },
             "pattern": {
              "fillmode": "overlay",
              "size": 10,
              "solidity": 0.2
             }
            },
            "type": "barpolar"
           }
          ],
          "carpet": [
           {
            "aaxis": {
             "endlinecolor": "#2a3f5f",
             "gridcolor": "white",
             "linecolor": "white",
             "minorgridcolor": "white",
             "startlinecolor": "#2a3f5f"
            },
            "baxis": {
             "endlinecolor": "#2a3f5f",
             "gridcolor": "white",
             "linecolor": "white",
             "minorgridcolor": "white",
             "startlinecolor": "#2a3f5f"
            },
            "type": "carpet"
           }
          ],
          "choropleth": [
           {
            "colorbar": {
             "outlinewidth": 0,
             "ticks": ""
            },
            "type": "choropleth"
           }
          ],
          "contour": [
           {
            "colorbar": {
             "outlinewidth": 0,
             "ticks": ""
            },
            "colorscale": [
             [
              0,
              "#0d0887"
             ],
             [
              0.1111111111111111,
              "#46039f"
             ],
             [
              0.2222222222222222,
              "#7201a8"
             ],
             [
              0.3333333333333333,
              "#9c179e"
             ],
             [
              0.4444444444444444,
              "#bd3786"
             ],
             [
              0.5555555555555556,
              "#d8576b"
             ],
             [
              0.6666666666666666,
              "#ed7953"
             ],
             [
              0.7777777777777778,
              "#fb9f3a"
             ],
             [
              0.8888888888888888,
              "#fdca26"
             ],
             [
              1,
              "#f0f921"
             ]
            ],
            "type": "contour"
           }
          ],
          "contourcarpet": [
           {
            "colorbar": {
             "outlinewidth": 0,
             "ticks": ""
            },
            "type": "contourcarpet"
           }
          ],
          "heatmap": [
           {
            "colorbar": {
             "outlinewidth": 0,
             "ticks": ""
            },
            "colorscale": [
             [
              0,
              "#0d0887"
             ],
             [
              0.1111111111111111,
              "#46039f"
             ],
             [
              0.2222222222222222,
              "#7201a8"
             ],
             [
              0.3333333333333333,
              "#9c179e"
             ],
             [
              0.4444444444444444,
              "#bd3786"
             ],
             [
              0.5555555555555556,
              "#d8576b"
             ],
             [
              0.6666666666666666,
              "#ed7953"
             ],
             [
              0.7777777777777778,
              "#fb9f3a"
             ],
             [
              0.8888888888888888,
              "#fdca26"
             ],
             [
              1,
              "#f0f921"
             ]
            ],
            "type": "heatmap"
           }
          ],
          "heatmapgl": [
           {
            "colorbar": {
             "outlinewidth": 0,
             "ticks": ""
            },
            "colorscale": [
             [
              0,
              "#0d0887"
             ],
             [
              0.1111111111111111,
              "#46039f"
             ],
             [
              0.2222222222222222,
              "#7201a8"
             ],
             [
              0.3333333333333333,
              "#9c179e"
             ],
             [
              0.4444444444444444,
              "#bd3786"
             ],
             [
              0.5555555555555556,
              "#d8576b"
             ],
             [
              0.6666666666666666,
              "#ed7953"
             ],
             [
              0.7777777777777778,
              "#fb9f3a"
             ],
             [
              0.8888888888888888,
              "#fdca26"
             ],
             [
              1,
              "#f0f921"
             ]
            ],
            "type": "heatmapgl"
           }
          ],
          "histogram": [
           {
            "marker": {
             "pattern": {
              "fillmode": "overlay",
              "size": 10,
              "solidity": 0.2
             }
            },
            "type": "histogram"
           }
          ],
          "histogram2d": [
           {
            "colorbar": {
             "outlinewidth": 0,
             "ticks": ""
            },
            "colorscale": [
             [
              0,
              "#0d0887"
             ],
             [
              0.1111111111111111,
              "#46039f"
             ],
             [
              0.2222222222222222,
              "#7201a8"
             ],
             [
              0.3333333333333333,
              "#9c179e"
             ],
             [
              0.4444444444444444,
              "#bd3786"
             ],
             [
              0.5555555555555556,
              "#d8576b"
             ],
             [
              0.6666666666666666,
              "#ed7953"
             ],
             [
              0.7777777777777778,
              "#fb9f3a"
             ],
             [
              0.8888888888888888,
              "#fdca26"
             ],
             [
              1,
              "#f0f921"
             ]
            ],
            "type": "histogram2d"
           }
          ],
          "histogram2dcontour": [
           {
            "colorbar": {
             "outlinewidth": 0,
             "ticks": ""
            },
            "colorscale": [
             [
              0,
              "#0d0887"
             ],
             [
              0.1111111111111111,
              "#46039f"
             ],
             [
              0.2222222222222222,
              "#7201a8"
             ],
             [
              0.3333333333333333,
              "#9c179e"
             ],
             [
              0.4444444444444444,
              "#bd3786"
             ],
             [
              0.5555555555555556,
              "#d8576b"
             ],
             [
              0.6666666666666666,
              "#ed7953"
             ],
             [
              0.7777777777777778,
              "#fb9f3a"
             ],
             [
              0.8888888888888888,
              "#fdca26"
             ],
             [
              1,
              "#f0f921"
             ]
            ],
            "type": "histogram2dcontour"
           }
          ],
          "mesh3d": [
           {
            "colorbar": {
             "outlinewidth": 0,
             "ticks": ""
            },
            "type": "mesh3d"
           }
          ],
          "parcoords": [
           {
            "line": {
             "colorbar": {
              "outlinewidth": 0,
              "ticks": ""
             }
            },
            "type": "parcoords"
           }
          ],
          "pie": [
           {
            "automargin": true,
            "type": "pie"
           }
          ],
          "scatter": [
           {
            "fillpattern": {
             "fillmode": "overlay",
             "size": 10,
             "solidity": 0.2
            },
            "type": "scatter"
           }
          ],
          "scatter3d": [
           {
            "line": {
             "colorbar": {
              "outlinewidth": 0,
              "ticks": ""
             }
            },
            "marker": {
             "colorbar": {
              "outlinewidth": 0,
              "ticks": ""
             }
            },
            "type": "scatter3d"
           }
          ],
          "scattercarpet": [
           {
            "marker": {
             "colorbar": {
              "outlinewidth": 0,
              "ticks": ""
             }
            },
            "type": "scattercarpet"
           }
          ],
          "scattergeo": [
           {
            "marker": {
             "colorbar": {
              "outlinewidth": 0,
              "ticks": ""
             }
            },
            "type": "scattergeo"
           }
          ],
          "scattergl": [
           {
            "marker": {
             "colorbar": {
              "outlinewidth": 0,
              "ticks": ""
             }
            },
            "type": "scattergl"
           }
          ],
          "scattermapbox": [
           {
            "marker": {
             "colorbar": {
              "outlinewidth": 0,
              "ticks": ""
             }
            },
            "type": "scattermapbox"
           }
          ],
          "scatterpolar": [
           {
            "marker": {
             "colorbar": {
              "outlinewidth": 0,
              "ticks": ""
             }
            },
            "type": "scatterpolar"
           }
          ],
          "scatterpolargl": [
           {
            "marker": {
             "colorbar": {
              "outlinewidth": 0,
              "ticks": ""
             }
            },
            "type": "scatterpolargl"
           }
          ],
          "scatterternary": [
           {
            "marker": {
             "colorbar": {
              "outlinewidth": 0,
              "ticks": ""
             }
            },
            "type": "scatterternary"
           }
          ],
          "surface": [
           {
            "colorbar": {
             "outlinewidth": 0,
             "ticks": ""
            },
            "colorscale": [
             [
              0,
              "#0d0887"
             ],
             [
              0.1111111111111111,
              "#46039f"
             ],
             [
              0.2222222222222222,
              "#7201a8"
             ],
             [
              0.3333333333333333,
              "#9c179e"
             ],
             [
              0.4444444444444444,
              "#bd3786"
             ],
             [
              0.5555555555555556,
              "#d8576b"
             ],
             [
              0.6666666666666666,
              "#ed7953"
             ],
             [
              0.7777777777777778,
              "#fb9f3a"
             ],
             [
              0.8888888888888888,
              "#fdca26"
             ],
             [
              1,
              "#f0f921"
             ]
            ],
            "type": "surface"
           }
          ],
          "table": [
           {
            "cells": {
             "fill": {
              "color": "#EBF0F8"
             },
             "line": {
              "color": "white"
             }
            },
            "header": {
             "fill": {
              "color": "#C8D4E3"
             },
             "line": {
              "color": "white"
             }
            },
            "type": "table"
           }
          ]
         },
         "layout": {
          "annotationdefaults": {
           "arrowcolor": "#2a3f5f",
           "arrowhead": 0,
           "arrowwidth": 1
          },
          "autotypenumbers": "strict",
          "coloraxis": {
           "colorbar": {
            "outlinewidth": 0,
            "ticks": ""
           }
          },
          "colorscale": {
           "diverging": [
            [
             0,
             "#8e0152"
            ],
            [
             0.1,
             "#c51b7d"
            ],
            [
             0.2,
             "#de77ae"
            ],
            [
             0.3,
             "#f1b6da"
            ],
            [
             0.4,
             "#fde0ef"
            ],
            [
             0.5,
             "#f7f7f7"
            ],
            [
             0.6,
             "#e6f5d0"
            ],
            [
             0.7,
             "#b8e186"
            ],
            [
             0.8,
             "#7fbc41"
            ],
            [
             0.9,
             "#4d9221"
            ],
            [
             1,
             "#276419"
            ]
           ],
           "sequential": [
            [
             0,
             "#0d0887"
            ],
            [
             0.1111111111111111,
             "#46039f"
            ],
            [
             0.2222222222222222,
             "#7201a8"
            ],
            [
             0.3333333333333333,
             "#9c179e"
            ],
            [
             0.4444444444444444,
             "#bd3786"
            ],
            [
             0.5555555555555556,
             "#d8576b"
            ],
            [
             0.6666666666666666,
             "#ed7953"
            ],
            [
             0.7777777777777778,
             "#fb9f3a"
            ],
            [
             0.8888888888888888,
             "#fdca26"
            ],
            [
             1,
             "#f0f921"
            ]
           ],
           "sequentialminus": [
            [
             0,
             "#0d0887"
            ],
            [
             0.1111111111111111,
             "#46039f"
            ],
            [
             0.2222222222222222,
             "#7201a8"
            ],
            [
             0.3333333333333333,
             "#9c179e"
            ],
            [
             0.4444444444444444,
             "#bd3786"
            ],
            [
             0.5555555555555556,
             "#d8576b"
            ],
            [
             0.6666666666666666,
             "#ed7953"
            ],
            [
             0.7777777777777778,
             "#fb9f3a"
            ],
            [
             0.8888888888888888,
             "#fdca26"
            ],
            [
             1,
             "#f0f921"
            ]
           ]
          },
          "colorway": [
           "#636efa",
           "#EF553B",
           "#00cc96",
           "#ab63fa",
           "#FFA15A",
           "#19d3f3",
           "#FF6692",
           "#B6E880",
           "#FF97FF",
           "#FECB52"
          ],
          "font": {
           "color": "#2a3f5f"
          },
          "geo": {
           "bgcolor": "white",
           "lakecolor": "white",
           "landcolor": "#E5ECF6",
           "showlakes": true,
           "showland": true,
           "subunitcolor": "white"
          },
          "hoverlabel": {
           "align": "left"
          },
          "hovermode": "closest",
          "mapbox": {
           "style": "light"
          },
          "paper_bgcolor": "white",
          "plot_bgcolor": "#E5ECF6",
          "polar": {
           "angularaxis": {
            "gridcolor": "white",
            "linecolor": "white",
            "ticks": ""
           },
           "bgcolor": "#E5ECF6",
           "radialaxis": {
            "gridcolor": "white",
            "linecolor": "white",
            "ticks": ""
           }
          },
          "scene": {
           "xaxis": {
            "backgroundcolor": "#E5ECF6",
            "gridcolor": "white",
            "gridwidth": 2,
            "linecolor": "white",
            "showbackground": true,
            "ticks": "",
            "zerolinecolor": "white"
           },
           "yaxis": {
            "backgroundcolor": "#E5ECF6",
            "gridcolor": "white",
            "gridwidth": 2,
            "linecolor": "white",
            "showbackground": true,
            "ticks": "",
            "zerolinecolor": "white"
           },
           "zaxis": {
            "backgroundcolor": "#E5ECF6",
            "gridcolor": "white",
            "gridwidth": 2,
            "linecolor": "white",
            "showbackground": true,
            "ticks": "",
            "zerolinecolor": "white"
           }
          },
          "shapedefaults": {
           "line": {
            "color": "#2a3f5f"
           }
          },
          "ternary": {
           "aaxis": {
            "gridcolor": "white",
            "linecolor": "white",
            "ticks": ""
           },
           "baxis": {
            "gridcolor": "white",
            "linecolor": "white",
            "ticks": ""
           },
           "bgcolor": "#E5ECF6",
           "caxis": {
            "gridcolor": "white",
            "linecolor": "white",
            "ticks": ""
           }
          },
          "title": {
           "x": 0.05
          },
          "xaxis": {
           "automargin": true,
           "gridcolor": "white",
           "linecolor": "white",
           "ticks": "",
           "title": {
            "standoff": 15
           },
           "zerolinecolor": "white",
           "zerolinewidth": 2
          },
          "yaxis": {
           "automargin": true,
           "gridcolor": "white",
           "linecolor": "white",
           "ticks": "",
           "title": {
            "standoff": 15
           },
           "zerolinecolor": "white",
           "zerolinewidth": 2
          }
         }
        },
        "title": {
         "text": "Distribution of Log PM2.5 24hr Mean Values"
        },
        "xaxis": {
         "anchor": "y",
         "domain": [
          0,
          1
         ],
         "title": {
          "text": "pm2_5_24h_mean_log"
         }
        },
        "yaxis": {
         "anchor": "x",
         "domain": [
          0,
          1
         ],
         "title": {
          "text": "count"
         }
        }
       }
      }
     },
     "metadata": {},
     "output_type": "display_data"
    }
   ],
   "source": [
    "import numpy as np\n",
    "\n",
    "# Distribution of the pm2_5_24h_mean values\n",
    "# Apply log transformation to the pm2_5_24h_mean values\n",
    "unique_dates_filtered['pm2_5_24h_mean_log'] = unique_dates_filtered['pm2_5_24h_mean'].apply(lambda x: np.log(x + 1))\n",
    "px.histogram(unique_dates_filtered, x='pm2_5_24h_mean_log', title='Distribution of Log PM2.5 24hr Mean Values', nbins=25).show()"
   ]
  },
  {
   "cell_type": "code",
   "execution_count": 31,
   "id": "b250b838",
   "metadata": {},
   "outputs": [
    {
     "data": {
      "text/plain": [
       "[(1.691234472349262, 3.3059595283452063),\n",
       " (3.3059595283452063, 3.854955811237434),\n",
       " (3.854955811237434, 4.259310844446898),\n",
       " (4.259310844446898, 4.754602676005731),\n",
       " (4.754602676005731, 5.359819522601832),\n",
       " (5.359819522601832, 6.170676488346613),\n",
       " (6.170676488346613, 7.331137487687693),\n",
       " (7.331137487687693, 9.59095145243378),\n",
       " (9.59095145243378, 12.873769902129904),\n",
       " (12.873769902129904, 34.163197145106615)]"
      ]
     },
     "execution_count": 31,
     "metadata": {},
     "output_type": "execute_result"
    }
   ],
   "source": [
    "# Create bins for the log pm2_5_24h_mean values and get edges of the bins\n",
    "bins = pd.qcut(unique_dates_filtered['pm2_5_24h_mean_log'], q=10)\n",
    "\n",
    "# Get the edges of the bins\n",
    "edges = bins.cat.categories\n",
    "edges = [(edges[i].left, edges[i].right) for i in range(len(edges))]\n",
    "edges = [(edges[i][0].round(2), edges[i][1].round(2)) for i in range(len(edges))]\n",
    "edges = [(np.exp(edges[i][0]) - 1, np.exp(edges[i][1]) - 1) for i in range(len(edges))]\n",
    "\n",
    "edges"
   ]
  },
  {
   "cell_type": "code",
   "execution_count": 32,
   "id": "71553bf1",
   "metadata": {},
   "outputs": [
    {
     "name": "stderr",
     "output_type": "stream",
     "text": [
      "/var/folders/tc/ygtvb05s0279mq2rg4cgkqp00000gn/T/ipykernel_16364/3381559572.py:5: SettingWithCopyWarning:\n",
      "\n",
      "\n",
      "A value is trying to be set on a copy of a slice from a DataFrame.\n",
      "Try using .loc[row_indexer,col_indexer] = value instead\n",
      "\n",
      "See the caveats in the documentation: https://pandas.pydata.org/pandas-docs/stable/user_guide/indexing.html#returning-a-view-versus-a-copy\n",
      "\n"
     ]
    },
    {
     "data": {
      "text/html": [
       "<div>\n",
       "<style scoped>\n",
       "    .dataframe tbody tr th:only-of-type {\n",
       "        vertical-align: middle;\n",
       "    }\n",
       "\n",
       "    .dataframe tbody tr th {\n",
       "        vertical-align: top;\n",
       "    }\n",
       "\n",
       "    .dataframe thead th {\n",
       "        text-align: right;\n",
       "    }\n",
       "</style>\n",
       "<table border=\"1\" class=\"dataframe\">\n",
       "  <thead>\n",
       "    <tr style=\"text-align: right;\">\n",
       "      <th></th>\n",
       "      <th>location_id</th>\n",
       "      <th>location_name</th>\n",
       "      <th>date</th>\n",
       "      <th>time</th>\n",
       "      <th>pm2_5_24h_mean</th>\n",
       "      <th>pm2_5_24h_mean_log</th>\n",
       "      <th>pm2_5_24h_mean_bins</th>\n",
       "    </tr>\n",
       "  </thead>\n",
       "  <tbody>\n",
       "    <tr>\n",
       "      <th>33</th>\n",
       "      <td>DRCAC7970</td>\n",
       "      <td>Belle Air School</td>\n",
       "      <td>2024-10-31</td>\n",
       "      <td>2024-10-31 11:00:00</td>\n",
       "      <td>3.94</td>\n",
       "      <td>1.597365</td>\n",
       "      <td>1</td>\n",
       "    </tr>\n",
       "    <tr>\n",
       "      <th>150</th>\n",
       "      <td>DRCAC7970</td>\n",
       "      <td>Belle Air School</td>\n",
       "      <td>2024-11-01</td>\n",
       "      <td>2024-11-01 00:00:00</td>\n",
       "      <td>4.89</td>\n",
       "      <td>1.773256</td>\n",
       "      <td>2</td>\n",
       "    </tr>\n",
       "    <tr>\n",
       "      <th>361</th>\n",
       "      <td>DRCAC7970</td>\n",
       "      <td>Belle Air School</td>\n",
       "      <td>2024-11-02</td>\n",
       "      <td>2024-11-02 00:00:00</td>\n",
       "      <td>4.02</td>\n",
       "      <td>1.613430</td>\n",
       "      <td>1</td>\n",
       "    </tr>\n",
       "    <tr>\n",
       "      <th>574</th>\n",
       "      <td>DRCAC7970</td>\n",
       "      <td>Belle Air School</td>\n",
       "      <td>2024-11-03</td>\n",
       "      <td>2024-11-03 00:00:00</td>\n",
       "      <td>4.34</td>\n",
       "      <td>1.675226</td>\n",
       "      <td>1</td>\n",
       "    </tr>\n",
       "    <tr>\n",
       "      <th>803</th>\n",
       "      <td>DRCAC7970</td>\n",
       "      <td>Belle Air School</td>\n",
       "      <td>2024-11-04</td>\n",
       "      <td>2024-11-04 00:00:00</td>\n",
       "      <td>5.06</td>\n",
       "      <td>1.801710</td>\n",
       "      <td>2</td>\n",
       "    </tr>\n",
       "  </tbody>\n",
       "</table>\n",
       "</div>"
      ],
      "text/plain": [
       "    location_id     location_name       date                time  \\\n",
       "33    DRCAC7970  Belle Air School 2024-10-31 2024-10-31 11:00:00   \n",
       "150   DRCAC7970  Belle Air School 2024-11-01 2024-11-01 00:00:00   \n",
       "361   DRCAC7970  Belle Air School 2024-11-02 2024-11-02 00:00:00   \n",
       "574   DRCAC7970  Belle Air School 2024-11-03 2024-11-03 00:00:00   \n",
       "803   DRCAC7970  Belle Air School 2024-11-04 2024-11-04 00:00:00   \n",
       "\n",
       "     pm2_5_24h_mean  pm2_5_24h_mean_log pm2_5_24h_mean_bins  \n",
       "33             3.94            1.597365                   1  \n",
       "150            4.89            1.773256                   2  \n",
       "361            4.02            1.613430                   1  \n",
       "574            4.34            1.675226                   1  \n",
       "803            5.06            1.801710                   2  "
      ]
     },
     "execution_count": 32,
     "metadata": {},
     "output_type": "execute_result"
    }
   ],
   "source": [
    "# Create final edges for the bins\n",
    "final_edges = [(0, 3.50), (3.51, 4.50), (4.51, 5.50), (5.51, 7.01), (7.01, 10.50), (10.51, 15.00), (15.01, 35.00)]\n",
    "\n",
    "# Create a new column for the bins\n",
    "unique_dates_filtered['pm2_5_24h_mean_bins'] = pd.cut(unique_dates_filtered['pm2_5_24h_mean'], \n",
    "                                                      bins=[x[0] for x in final_edges] + [final_edges[-1][1]], labels=[f\"{i}\" for i in range(len(final_edges))], \n",
    "                                                      include_lowest=True)\n",
    "\n",
    "unique_dates_filtered.head()"
   ]
  },
  {
   "cell_type": "code",
   "execution_count": 33,
   "id": "0566ea9d",
   "metadata": {},
   "outputs": [
    {
     "data": {
      "application/vnd.plotly.v1+json": {
       "config": {
        "plotlyServerURL": "https://plot.ly"
       },
       "data": [
        {
         "alignmentgroup": "True",
         "hovertemplate": "PM2.5 24hr Mean Bins=%{x}<br>Proportion=%{marker.color}<extra></extra>",
         "legendgroup": "",
         "marker": {
          "color": [
           0.13726437892701787,
           0.21556307394876753,
           0.16674722087965202,
           0.15611406476558723,
           0.15514741420976316,
           0.09763170613823104,
           0.07153214113098115
          ],
          "coloraxis": "coloraxis",
          "pattern": {
           "shape": ""
          }
         },
         "name": "",
         "offsetgroup": "",
         "orientation": "v",
         "showlegend": false,
         "textposition": "auto",
         "type": "bar",
         "x": [
          "0",
          "1",
          "2",
          "3",
          "4",
          "5",
          "6"
         ],
         "xaxis": "x",
         "y": [
          0.13726437892701787,
          0.21556307394876753,
          0.16674722087965202,
          0.15611406476558723,
          0.15514741420976316,
          0.09763170613823104,
          0.07153214113098115
         ],
         "yaxis": "y"
        }
       ],
       "layout": {
        "barmode": "relative",
        "coloraxis": {
         "colorbar": {
          "title": {
           "text": "Proportion"
          }
         },
         "colorscale": [
          [
           0,
           "#0d0887"
          ],
          [
           0.1111111111111111,
           "#46039f"
          ],
          [
           0.2222222222222222,
           "#7201a8"
          ],
          [
           0.3333333333333333,
           "#9c179e"
          ],
          [
           0.4444444444444444,
           "#bd3786"
          ],
          [
           0.5555555555555556,
           "#d8576b"
          ],
          [
           0.6666666666666666,
           "#ed7953"
          ],
          [
           0.7777777777777778,
           "#fb9f3a"
          ],
          [
           0.8888888888888888,
           "#fdca26"
          ],
          [
           1,
           "#f0f921"
          ]
         ]
        },
        "legend": {
         "tracegroupgap": 0
        },
        "template": {
         "data": {
          "bar": [
           {
            "error_x": {
             "color": "#2a3f5f"
            },
            "error_y": {
             "color": "#2a3f5f"
            },
            "marker": {
             "line": {
              "color": "#E5ECF6",
              "width": 0.5
             },
             "pattern": {
              "fillmode": "overlay",
              "size": 10,
              "solidity": 0.2
             }
            },
            "type": "bar"
           }
          ],
          "barpolar": [
           {
            "marker": {
             "line": {
              "color": "#E5ECF6",
              "width": 0.5
             },
             "pattern": {
              "fillmode": "overlay",
              "size": 10,
              "solidity": 0.2
             }
            },
            "type": "barpolar"
           }
          ],
          "carpet": [
           {
            "aaxis": {
             "endlinecolor": "#2a3f5f",
             "gridcolor": "white",
             "linecolor": "white",
             "minorgridcolor": "white",
             "startlinecolor": "#2a3f5f"
            },
            "baxis": {
             "endlinecolor": "#2a3f5f",
             "gridcolor": "white",
             "linecolor": "white",
             "minorgridcolor": "white",
             "startlinecolor": "#2a3f5f"
            },
            "type": "carpet"
           }
          ],
          "choropleth": [
           {
            "colorbar": {
             "outlinewidth": 0,
             "ticks": ""
            },
            "type": "choropleth"
           }
          ],
          "contour": [
           {
            "colorbar": {
             "outlinewidth": 0,
             "ticks": ""
            },
            "colorscale": [
             [
              0,
              "#0d0887"
             ],
             [
              0.1111111111111111,
              "#46039f"
             ],
             [
              0.2222222222222222,
              "#7201a8"
             ],
             [
              0.3333333333333333,
              "#9c179e"
             ],
             [
              0.4444444444444444,
              "#bd3786"
             ],
             [
              0.5555555555555556,
              "#d8576b"
             ],
             [
              0.6666666666666666,
              "#ed7953"
             ],
             [
              0.7777777777777778,
              "#fb9f3a"
             ],
             [
              0.8888888888888888,
              "#fdca26"
             ],
             [
              1,
              "#f0f921"
             ]
            ],
            "type": "contour"
           }
          ],
          "contourcarpet": [
           {
            "colorbar": {
             "outlinewidth": 0,
             "ticks": ""
            },
            "type": "contourcarpet"
           }
          ],
          "heatmap": [
           {
            "colorbar": {
             "outlinewidth": 0,
             "ticks": ""
            },
            "colorscale": [
             [
              0,
              "#0d0887"
             ],
             [
              0.1111111111111111,
              "#46039f"
             ],
             [
              0.2222222222222222,
              "#7201a8"
             ],
             [
              0.3333333333333333,
              "#9c179e"
             ],
             [
              0.4444444444444444,
              "#bd3786"
             ],
             [
              0.5555555555555556,
              "#d8576b"
             ],
             [
              0.6666666666666666,
              "#ed7953"
             ],
             [
              0.7777777777777778,
              "#fb9f3a"
             ],
             [
              0.8888888888888888,
              "#fdca26"
             ],
             [
              1,
              "#f0f921"
             ]
            ],
            "type": "heatmap"
           }
          ],
          "heatmapgl": [
           {
            "colorbar": {
             "outlinewidth": 0,
             "ticks": ""
            },
            "colorscale": [
             [
              0,
              "#0d0887"
             ],
             [
              0.1111111111111111,
              "#46039f"
             ],
             [
              0.2222222222222222,
              "#7201a8"
             ],
             [
              0.3333333333333333,
              "#9c179e"
             ],
             [
              0.4444444444444444,
              "#bd3786"
             ],
             [
              0.5555555555555556,
              "#d8576b"
             ],
             [
              0.6666666666666666,
              "#ed7953"
             ],
             [
              0.7777777777777778,
              "#fb9f3a"
             ],
             [
              0.8888888888888888,
              "#fdca26"
             ],
             [
              1,
              "#f0f921"
             ]
            ],
            "type": "heatmapgl"
           }
          ],
          "histogram": [
           {
            "marker": {
             "pattern": {
              "fillmode": "overlay",
              "size": 10,
              "solidity": 0.2
             }
            },
            "type": "histogram"
           }
          ],
          "histogram2d": [
           {
            "colorbar": {
             "outlinewidth": 0,
             "ticks": ""
            },
            "colorscale": [
             [
              0,
              "#0d0887"
             ],
             [
              0.1111111111111111,
              "#46039f"
             ],
             [
              0.2222222222222222,
              "#7201a8"
             ],
             [
              0.3333333333333333,
              "#9c179e"
             ],
             [
              0.4444444444444444,
              "#bd3786"
             ],
             [
              0.5555555555555556,
              "#d8576b"
             ],
             [
              0.6666666666666666,
              "#ed7953"
             ],
             [
              0.7777777777777778,
              "#fb9f3a"
             ],
             [
              0.8888888888888888,
              "#fdca26"
             ],
             [
              1,
              "#f0f921"
             ]
            ],
            "type": "histogram2d"
           }
          ],
          "histogram2dcontour": [
           {
            "colorbar": {
             "outlinewidth": 0,
             "ticks": ""
            },
            "colorscale": [
             [
              0,
              "#0d0887"
             ],
             [
              0.1111111111111111,
              "#46039f"
             ],
             [
              0.2222222222222222,
              "#7201a8"
             ],
             [
              0.3333333333333333,
              "#9c179e"
             ],
             [
              0.4444444444444444,
              "#bd3786"
             ],
             [
              0.5555555555555556,
              "#d8576b"
             ],
             [
              0.6666666666666666,
              "#ed7953"
             ],
             [
              0.7777777777777778,
              "#fb9f3a"
             ],
             [
              0.8888888888888888,
              "#fdca26"
             ],
             [
              1,
              "#f0f921"
             ]
            ],
            "type": "histogram2dcontour"
           }
          ],
          "mesh3d": [
           {
            "colorbar": {
             "outlinewidth": 0,
             "ticks": ""
            },
            "type": "mesh3d"
           }
          ],
          "parcoords": [
           {
            "line": {
             "colorbar": {
              "outlinewidth": 0,
              "ticks": ""
             }
            },
            "type": "parcoords"
           }
          ],
          "pie": [
           {
            "automargin": true,
            "type": "pie"
           }
          ],
          "scatter": [
           {
            "fillpattern": {
             "fillmode": "overlay",
             "size": 10,
             "solidity": 0.2
            },
            "type": "scatter"
           }
          ],
          "scatter3d": [
           {
            "line": {
             "colorbar": {
              "outlinewidth": 0,
              "ticks": ""
             }
            },
            "marker": {
             "colorbar": {
              "outlinewidth": 0,
              "ticks": ""
             }
            },
            "type": "scatter3d"
           }
          ],
          "scattercarpet": [
           {
            "marker": {
             "colorbar": {
              "outlinewidth": 0,
              "ticks": ""
             }
            },
            "type": "scattercarpet"
           }
          ],
          "scattergeo": [
           {
            "marker": {
             "colorbar": {
              "outlinewidth": 0,
              "ticks": ""
             }
            },
            "type": "scattergeo"
           }
          ],
          "scattergl": [
           {
            "marker": {
             "colorbar": {
              "outlinewidth": 0,
              "ticks": ""
             }
            },
            "type": "scattergl"
           }
          ],
          "scattermapbox": [
           {
            "marker": {
             "colorbar": {
              "outlinewidth": 0,
              "ticks": ""
             }
            },
            "type": "scattermapbox"
           }
          ],
          "scatterpolar": [
           {
            "marker": {
             "colorbar": {
              "outlinewidth": 0,
              "ticks": ""
             }
            },
            "type": "scatterpolar"
           }
          ],
          "scatterpolargl": [
           {
            "marker": {
             "colorbar": {
              "outlinewidth": 0,
              "ticks": ""
             }
            },
            "type": "scatterpolargl"
           }
          ],
          "scatterternary": [
           {
            "marker": {
             "colorbar": {
              "outlinewidth": 0,
              "ticks": ""
             }
            },
            "type": "scatterternary"
           }
          ],
          "surface": [
           {
            "colorbar": {
             "outlinewidth": 0,
             "ticks": ""
            },
            "colorscale": [
             [
              0,
              "#0d0887"
             ],
             [
              0.1111111111111111,
              "#46039f"
             ],
             [
              0.2222222222222222,
              "#7201a8"
             ],
             [
              0.3333333333333333,
              "#9c179e"
             ],
             [
              0.4444444444444444,
              "#bd3786"
             ],
             [
              0.5555555555555556,
              "#d8576b"
             ],
             [
              0.6666666666666666,
              "#ed7953"
             ],
             [
              0.7777777777777778,
              "#fb9f3a"
             ],
             [
              0.8888888888888888,
              "#fdca26"
             ],
             [
              1,
              "#f0f921"
             ]
            ],
            "type": "surface"
           }
          ],
          "table": [
           {
            "cells": {
             "fill": {
              "color": "#EBF0F8"
             },
             "line": {
              "color": "white"
             }
            },
            "header": {
             "fill": {
              "color": "#C8D4E3"
             },
             "line": {
              "color": "white"
             }
            },
            "type": "table"
           }
          ]
         },
         "layout": {
          "annotationdefaults": {
           "arrowcolor": "#2a3f5f",
           "arrowhead": 0,
           "arrowwidth": 1
          },
          "autotypenumbers": "strict",
          "coloraxis": {
           "colorbar": {
            "outlinewidth": 0,
            "ticks": ""
           }
          },
          "colorscale": {
           "diverging": [
            [
             0,
             "#8e0152"
            ],
            [
             0.1,
             "#c51b7d"
            ],
            [
             0.2,
             "#de77ae"
            ],
            [
             0.3,
             "#f1b6da"
            ],
            [
             0.4,
             "#fde0ef"
            ],
            [
             0.5,
             "#f7f7f7"
            ],
            [
             0.6,
             "#e6f5d0"
            ],
            [
             0.7,
             "#b8e186"
            ],
            [
             0.8,
             "#7fbc41"
            ],
            [
             0.9,
             "#4d9221"
            ],
            [
             1,
             "#276419"
            ]
           ],
           "sequential": [
            [
             0,
             "#0d0887"
            ],
            [
             0.1111111111111111,
             "#46039f"
            ],
            [
             0.2222222222222222,
             "#7201a8"
            ],
            [
             0.3333333333333333,
             "#9c179e"
            ],
            [
             0.4444444444444444,
             "#bd3786"
            ],
            [
             0.5555555555555556,
             "#d8576b"
            ],
            [
             0.6666666666666666,
             "#ed7953"
            ],
            [
             0.7777777777777778,
             "#fb9f3a"
            ],
            [
             0.8888888888888888,
             "#fdca26"
            ],
            [
             1,
             "#f0f921"
            ]
           ],
           "sequentialminus": [
            [
             0,
             "#0d0887"
            ],
            [
             0.1111111111111111,
             "#46039f"
            ],
            [
             0.2222222222222222,
             "#7201a8"
            ],
            [
             0.3333333333333333,
             "#9c179e"
            ],
            [
             0.4444444444444444,
             "#bd3786"
            ],
            [
             0.5555555555555556,
             "#d8576b"
            ],
            [
             0.6666666666666666,
             "#ed7953"
            ],
            [
             0.7777777777777778,
             "#fb9f3a"
            ],
            [
             0.8888888888888888,
             "#fdca26"
            ],
            [
             1,
             "#f0f921"
            ]
           ]
          },
          "colorway": [
           "#636efa",
           "#EF553B",
           "#00cc96",
           "#ab63fa",
           "#FFA15A",
           "#19d3f3",
           "#FF6692",
           "#B6E880",
           "#FF97FF",
           "#FECB52"
          ],
          "font": {
           "color": "#2a3f5f"
          },
          "geo": {
           "bgcolor": "white",
           "lakecolor": "white",
           "landcolor": "#E5ECF6",
           "showlakes": true,
           "showland": true,
           "subunitcolor": "white"
          },
          "hoverlabel": {
           "align": "left"
          },
          "hovermode": "closest",
          "mapbox": {
           "style": "light"
          },
          "paper_bgcolor": "white",
          "plot_bgcolor": "#E5ECF6",
          "polar": {
           "angularaxis": {
            "gridcolor": "white",
            "linecolor": "white",
            "ticks": ""
           },
           "bgcolor": "#E5ECF6",
           "radialaxis": {
            "gridcolor": "white",
            "linecolor": "white",
            "ticks": ""
           }
          },
          "scene": {
           "xaxis": {
            "backgroundcolor": "#E5ECF6",
            "gridcolor": "white",
            "gridwidth": 2,
            "linecolor": "white",
            "showbackground": true,
            "ticks": "",
            "zerolinecolor": "white"
           },
           "yaxis": {
            "backgroundcolor": "#E5ECF6",
            "gridcolor": "white",
            "gridwidth": 2,
            "linecolor": "white",
            "showbackground": true,
            "ticks": "",
            "zerolinecolor": "white"
           },
           "zaxis": {
            "backgroundcolor": "#E5ECF6",
            "gridcolor": "white",
            "gridwidth": 2,
            "linecolor": "white",
            "showbackground": true,
            "ticks": "",
            "zerolinecolor": "white"
           }
          },
          "shapedefaults": {
           "line": {
            "color": "#2a3f5f"
           }
          },
          "ternary": {
           "aaxis": {
            "gridcolor": "white",
            "linecolor": "white",
            "ticks": ""
           },
           "baxis": {
            "gridcolor": "white",
            "linecolor": "white",
            "ticks": ""
           },
           "bgcolor": "#E5ECF6",
           "caxis": {
            "gridcolor": "white",
            "linecolor": "white",
            "ticks": ""
           }
          },
          "title": {
           "x": 0.05
          },
          "xaxis": {
           "automargin": true,
           "gridcolor": "white",
           "linecolor": "white",
           "ticks": "",
           "title": {
            "standoff": 15
           },
           "zerolinecolor": "white",
           "zerolinewidth": 2
          },
          "yaxis": {
           "automargin": true,
           "gridcolor": "white",
           "linecolor": "white",
           "ticks": "",
           "title": {
            "standoff": 15
           },
           "zerolinecolor": "white",
           "zerolinewidth": 2
          }
         }
        },
        "title": {
         "text": "Distribution of PM2.5 24hr Mean Values by Bins"
        },
        "xaxis": {
         "anchor": "y",
         "domain": [
          0,
          1
         ],
         "title": {
          "text": "PM2.5 24hr Mean Bins"
         }
        },
        "yaxis": {
         "anchor": "x",
         "domain": [
          0,
          1
         ],
         "title": {
          "text": "Proportion"
         }
        }
       }
      }
     },
     "metadata": {},
     "output_type": "display_data"
    }
   ],
   "source": [
    "# Get distribution of the bins using proportions\n",
    "bins_distribution = unique_dates_filtered['pm2_5_24h_mean_bins'].value_counts(normalize=True).sort_index()\n",
    "bins_distribution = bins_distribution.reset_index()\n",
    "bins_distribution.columns = ['pm2_5_24h_mean_bins', 'proportion']\n",
    "\n",
    "# Create bar plot for the bins distribution\n",
    "fig = px.bar(bins_distribution, x='pm2_5_24h_mean_bins', y='proportion', \n",
    "             title='Distribution of PM2.5 24hr Mean Values by Bins', \n",
    "             labels={'pm2_5_24h_mean_bins': 'PM2.5 24hr Mean Bins', 'proportion': 'Proportion'},\n",
    "             color='proportion', color_continuous_scale=px.colors.sequential.Plasma)\n",
    "\n",
    "fig.show()"
   ]
  },
  {
   "cell_type": "code",
   "execution_count": 34,
   "id": "5edbdaf7",
   "metadata": {},
   "outputs": [
    {
     "data": {
      "text/html": [
       "<div>\n",
       "<style scoped>\n",
       "    .dataframe tbody tr th:only-of-type {\n",
       "        vertical-align: middle;\n",
       "    }\n",
       "\n",
       "    .dataframe tbody tr th {\n",
       "        vertical-align: top;\n",
       "    }\n",
       "\n",
       "    .dataframe thead th {\n",
       "        text-align: right;\n",
       "    }\n",
       "</style>\n",
       "<table border=\"1\" class=\"dataframe\">\n",
       "  <thead>\n",
       "    <tr style=\"text-align: right;\">\n",
       "      <th></th>\n",
       "      <th>location_id</th>\n",
       "      <th>location_name</th>\n",
       "      <th>feature_day_1</th>\n",
       "      <th>feature_day_2</th>\n",
       "      <th>feature_day_3</th>\n",
       "      <th>feature_day_4</th>\n",
       "      <th>feature_day_5</th>\n",
       "      <th>feature_day_6</th>\n",
       "      <th>feature_day_7</th>\n",
       "      <th>label</th>\n",
       "    </tr>\n",
       "  </thead>\n",
       "  <tbody>\n",
       "    <tr>\n",
       "      <th>0</th>\n",
       "      <td>DCVIM2201</td>\n",
       "      <td>Brentwood Park</td>\n",
       "      <td>4.31</td>\n",
       "      <td>3.87</td>\n",
       "      <td>4.00</td>\n",
       "      <td>5.58</td>\n",
       "      <td>5.92</td>\n",
       "      <td>4.67</td>\n",
       "      <td>4.17</td>\n",
       "      <td>2</td>\n",
       "    </tr>\n",
       "    <tr>\n",
       "      <th>1</th>\n",
       "      <td>DCVIM2201</td>\n",
       "      <td>Brentwood Park</td>\n",
       "      <td>3.87</td>\n",
       "      <td>4.00</td>\n",
       "      <td>5.58</td>\n",
       "      <td>5.92</td>\n",
       "      <td>4.67</td>\n",
       "      <td>4.17</td>\n",
       "      <td>4.68</td>\n",
       "      <td>0</td>\n",
       "    </tr>\n",
       "    <tr>\n",
       "      <th>2</th>\n",
       "      <td>DCVIM2201</td>\n",
       "      <td>Brentwood Park</td>\n",
       "      <td>4.00</td>\n",
       "      <td>5.58</td>\n",
       "      <td>5.92</td>\n",
       "      <td>4.67</td>\n",
       "      <td>4.17</td>\n",
       "      <td>4.68</td>\n",
       "      <td>2.91</td>\n",
       "      <td>0</td>\n",
       "    </tr>\n",
       "    <tr>\n",
       "      <th>3</th>\n",
       "      <td>DCVIM2201</td>\n",
       "      <td>Brentwood Park</td>\n",
       "      <td>5.58</td>\n",
       "      <td>5.92</td>\n",
       "      <td>4.67</td>\n",
       "      <td>4.17</td>\n",
       "      <td>4.68</td>\n",
       "      <td>2.91</td>\n",
       "      <td>1.86</td>\n",
       "      <td>0</td>\n",
       "    </tr>\n",
       "    <tr>\n",
       "      <th>4</th>\n",
       "      <td>DCVIM2201</td>\n",
       "      <td>Brentwood Park</td>\n",
       "      <td>5.92</td>\n",
       "      <td>4.67</td>\n",
       "      <td>4.17</td>\n",
       "      <td>4.68</td>\n",
       "      <td>2.91</td>\n",
       "      <td>1.86</td>\n",
       "      <td>1.83</td>\n",
       "      <td>0</td>\n",
       "    </tr>\n",
       "  </tbody>\n",
       "</table>\n",
       "</div>"
      ],
      "text/plain": [
       "  location_id   location_name  feature_day_1  feature_day_2  feature_day_3  \\\n",
       "0   DCVIM2201  Brentwood Park           4.31           3.87           4.00   \n",
       "1   DCVIM2201  Brentwood Park           3.87           4.00           5.58   \n",
       "2   DCVIM2201  Brentwood Park           4.00           5.58           5.92   \n",
       "3   DCVIM2201  Brentwood Park           5.58           5.92           4.67   \n",
       "4   DCVIM2201  Brentwood Park           5.92           4.67           4.17   \n",
       "\n",
       "   feature_day_4  feature_day_5  feature_day_6  feature_day_7 label  \n",
       "0           5.58           5.92           4.67           4.17     2  \n",
       "1           5.92           4.67           4.17           4.68     0  \n",
       "2           4.67           4.17           4.68           2.91     0  \n",
       "3           4.17           4.68           2.91           1.86     0  \n",
       "4           4.68           2.91           1.86           1.83     0  "
      ]
     },
     "execution_count": 34,
     "metadata": {},
     "output_type": "execute_result"
    }
   ],
   "source": [
    "# Create a new dataframe with rolling window of 7 days and the next day's bin as label\n",
    "window_size = 7\n",
    "\n",
    "# Group by location_id to ensure the rolling window is applied per location\n",
    "data = []\n",
    "for location_id, group in unique_dates_filtered.groupby('location_id'):\n",
    "    group = group.sort_values('date').reset_index(drop=True)\n",
    "    \n",
    "    for i in range(len(group) - window_size):\n",
    "        # Extract the 7-day window of pm2_5_24h_mean\n",
    "        features = group.loc[i:i+window_size-1, 'pm2_5_24h_mean'].values.tolist()\n",
    "        # Extract the next day's bin as the label\n",
    "        label = group.loc[i+window_size, 'pm2_5_24h_mean_bins']\n",
    "        # Include location_id and location_name\n",
    "        location_id_value = group.loc[i, 'location_id']\n",
    "        location_name_value = group.loc[i, 'location_name']\n",
    "        data.append([location_id_value, location_name_value] + features + [label])\n",
    "\n",
    "# Create the final dataframe\n",
    "columns = ['location_id', 'location_name'] + [f'feature_day_{i+1}' for i in range(window_size)] + ['label']\n",
    "rolling_window_df = pd.DataFrame(data, columns=columns)\n",
    "\n",
    "rolling_window_df.head()"
   ]
  },
  {
   "cell_type": "code",
   "execution_count": 35,
   "id": "6429f4f8",
   "metadata": {},
   "outputs": [],
   "source": [
    "# Tranform all feature_day columns with a log transformation\n",
    "# rolling_window_df.iloc[:, 2:-1] = rolling_window_df.iloc[:, 2:-1].apply(lambda x: np.log(x + 1))\n",
    "# rolling_window_df.head()"
   ]
  },
  {
   "cell_type": "code",
   "execution_count": 36,
   "id": "d37ad133",
   "metadata": {},
   "outputs": [
    {
     "data": {
      "text/plain": [
       "(1971, 10)"
      ]
     },
     "execution_count": 36,
     "metadata": {},
     "output_type": "execute_result"
    }
   ],
   "source": [
    "rolling_window_df.shape"
   ]
  },
  {
   "cell_type": "code",
   "execution_count": 37,
   "id": "32cadb42",
   "metadata": {},
   "outputs": [],
   "source": [
    "# Build LSTM model and dataset\n",
    "\n",
    "import torch\n",
    "import torch.nn as nn\n",
    "from torch.utils.data import Dataset, DataLoader\n",
    "\n",
    "class TimeSeriesDataset(Dataset):\n",
    "    def __init__(self, X, y):\n",
    "        self.X = torch.tensor(X, dtype=torch.float32).unsqueeze(-1)  # Add a channel dimension\n",
    "        self.y = torch.tensor(y, dtype=torch.float32)\n",
    "\n",
    "    def __len__(self):\n",
    "        return len(self.X)\n",
    "\n",
    "    def __getitem__(self, idx):\n",
    "        return self.X[idx], self.y[idx]\n",
    "\n",
    "class AirForecastClassifier(nn.Module):\n",
    "    def __init__(self, input_dim=1, hidden_dim=64, num_layers=2, num_classes=7):\n",
    "        super().__init__()\n",
    "        self.lstm = nn.LSTM(input_dim, hidden_dim, num_layers, batch_first=True)\n",
    "        self.fc = nn.Linear(hidden_dim, num_classes)\n",
    "\n",
    "    def forward(self, x):\n",
    "        lstm_out, _ = self.lstm(x)  # lstm_out: (batch, seq_len, hidden_dim)\n",
    "        final_hidden = lstm_out[:, -1, :]  # take last timestep\n",
    "        logits = self.fc(final_hidden)\n",
    "        return logits"
   ]
  },
  {
   "cell_type": "code",
   "execution_count": 38,
   "id": "7234c21a",
   "metadata": {},
   "outputs": [],
   "source": [
    "def train_model(model, dataloader, epochs=10, lr=1e-3):\n",
    "    \"\"\"\n",
    "    AirForecast LSTM Classifier model training function.\n",
    "    Args:\n",
    "        model (nn.Module): The LSTM model to train.\n",
    "        dataloader (DataLoader): DataLoader for the training data.\n",
    "        epochs (int): Number of training epochs.\n",
    "        lr (float): Learning rate for the optimizer.\n",
    "    Returns:\n",
    "        model (nn.Module): The trained LSTM model.\n",
    "    \"\"\"\n",
    "    # Use available device\n",
    "    device = torch.device(\"mps\" if torch.backends.mps.is_available()\n",
    "                          else \"cuda\" if torch.cuda.is_available()\n",
    "                          else \"cpu\")\n",
    "    model.to(device)\n",
    "\n",
    "    # Loss and optimizer\n",
    "    criterion = torch.nn.CrossEntropyLoss()\n",
    "    optimizer = torch.optim.Adam(model.parameters(), lr=lr)\n",
    "\n",
    "    # Training loop\n",
    "    for epoch in range(epochs):\n",
    "        model.train()\n",
    "        epoch_loss = 0\n",
    "        correct = 0\n",
    "        total = 0\n",
    "\n",
    "        for X_batch, y_batch in dataloader:\n",
    "            X_batch, y_batch = X_batch.to(device), y_batch.to(device)\n",
    "\n",
    "            # Forward pass\n",
    "            logits = model(X_batch)               # (batch_size, num_classes)\n",
    "            loss = criterion(logits, y_batch)     # y_batch: (batch_size,)\n",
    "\n",
    "            # Backward and optimize\n",
    "            optimizer.zero_grad()\n",
    "            loss.backward()\n",
    "            optimizer.step()\n",
    "\n",
    "            # Metrics\n",
    "            epoch_loss += loss.item()\n",
    "            preds = logits.argmax(dim=1)\n",
    "            correct += (preds == y_batch).sum().item()\n",
    "            total += y_batch.size(0)\n",
    "\n",
    "        avg_loss = epoch_loss / len(dataloader)\n",
    "        accuracy = correct / total\n",
    "        print(f\"Epoch {epoch+1}/{epochs}, Loss: {avg_loss:.4f}, Accuracy: {accuracy:.2%}\")\n",
    "\n",
    "    return model\n",
    "\n",
    "def evaluate(model, dataloader):\n",
    "    \"\"\"\n",
    "    AirForecast LSTM model evaluation function.\n",
    "    Args:\n",
    "        model (nn.Module): The LSTM model to evaluate.\n",
    "        dataloader (DataLoader): DataLoader for the validation data.\n",
    "    Returns:\n",
    "        preds (np.ndarray): Predicted class labels.\n",
    "        truths (np.ndarray): True labels.\n",
    "    \"\"\"\n",
    "    model.eval()\n",
    "    preds, truths = [], []\n",
    "\n",
    "    with torch.no_grad():\n",
    "        for X_batch, y_batch in dataloader:\n",
    "            logits = model(X_batch)\n",
    "            batch_preds = logits.argmax(dim=1)\n",
    "\n",
    "            preds.append(batch_preds.cpu().numpy())\n",
    "            truths.append(y_batch.cpu().numpy())\n",
    "\n",
    "    preds = np.concatenate(preds)\n",
    "    truths = np.concatenate(truths)\n",
    "    accuracy = np.mean(preds == truths)\n",
    "\n",
    "    print(f\"Validation Accuracy: {accuracy:.2%}\")\n",
    "    return preds, truths"
   ]
  },
  {
   "cell_type": "code",
   "execution_count": 39,
   "id": "670f4cb7",
   "metadata": {},
   "outputs": [
    {
     "name": "stdout",
     "output_type": "stream",
     "text": [
      "Epoch 1/20, Loss: 1.9052, Accuracy: 21.09%\n",
      "Epoch 2/20, Loss: 1.7998, Accuracy: 27.00%\n",
      "Epoch 3/20, Loss: 1.7190, Accuracy: 28.59%\n",
      "Epoch 4/20, Loss: 1.6310, Accuracy: 31.96%\n",
      "Epoch 5/20, Loss: 1.5816, Accuracy: 35.26%\n",
      "Epoch 6/20, Loss: 1.5501, Accuracy: 35.71%\n",
      "Epoch 7/20, Loss: 1.5327, Accuracy: 36.85%\n",
      "Epoch 8/20, Loss: 1.5142, Accuracy: 37.04%\n",
      "Epoch 9/20, Loss: 1.4982, Accuracy: 38.95%\n",
      "Epoch 10/20, Loss: 1.4953, Accuracy: 37.80%\n",
      "Epoch 11/20, Loss: 1.4933, Accuracy: 37.93%\n",
      "Epoch 12/20, Loss: 1.4757, Accuracy: 39.90%\n",
      "Epoch 13/20, Loss: 1.4548, Accuracy: 40.28%\n",
      "Epoch 14/20, Loss: 1.4433, Accuracy: 41.23%\n",
      "Epoch 15/20, Loss: 1.4410, Accuracy: 40.15%\n",
      "Epoch 16/20, Loss: 1.4165, Accuracy: 41.04%\n",
      "Epoch 17/20, Loss: 1.4049, Accuracy: 43.52%\n",
      "Epoch 18/20, Loss: 1.3947, Accuracy: 43.01%\n",
      "Epoch 19/20, Loss: 1.3736, Accuracy: 44.85%\n",
      "Epoch 20/20, Loss: 1.3622, Accuracy: 46.51%\n"
     ]
    }
   ],
   "source": [
    "# Ensure all monitors are included in the validation set using location_index_map\n",
    "val_indices = []\n",
    "\n",
    "for location, group in rolling_window_df.groupby('location_id'):\n",
    "    split_index = int(len(group) * 0.8)\n",
    "    if split_index < len(group):  # Ensure split_index is within bounds\n",
    "        val_indices.extend(group.index[split_index:])\n",
    "\n",
    "val_indices = np.array(val_indices)\n",
    "train_indices = np.setdiff1d(rolling_window_df.index, val_indices)\n",
    "\n",
    "train_df = rolling_window_df.loc[train_indices]\n",
    "val_df = rolling_window_df.loc[val_indices]\n",
    "\n",
    "# Create TimeSeriesDataset instances for training and validation sets\n",
    "train_dataset = TimeSeriesDataset(train_df.iloc[:, 2:-1].values, train_df['label'].astype(int).values)\n",
    "val_dataset = TimeSeriesDataset(val_df.iloc[:, 2:-1].values, val_df['label'].astype(int).values)\n",
    "\n",
    "# Create DataLoader for training and validation sets\n",
    "train_loader = DataLoader(train_dataset, batch_size=64, shuffle=True)\n",
    "val_loader = DataLoader(val_dataset, batch_size=64)\n",
    "\n",
    "# Train the model\n",
    "model = AirForecastClassifier(input_dim=1, num_classes=7)\n",
    "trained_model = train_model(model, train_loader, epochs=20)"
   ]
  },
  {
   "cell_type": "code",
   "execution_count": 40,
   "id": "ff553b17",
   "metadata": {},
   "outputs": [
    {
     "name": "stdout",
     "output_type": "stream",
     "text": [
      "Validation Accuracy: 26.45%\n"
     ]
    }
   ],
   "source": [
    "# Evaluate the model by monitor location\n",
    "# Move the trained model back to CPU\n",
    "trained_model = trained_model.to('cpu')\n",
    "\n",
    "# Evaluate the model by monitor location\n",
    "predictions, truths = evaluate(trained_model, val_loader)"
   ]
  },
  {
   "cell_type": "code",
   "execution_count": 41,
   "id": "90379a1f",
   "metadata": {},
   "outputs": [
    {
     "name": "stdout",
     "output_type": "stream",
     "text": [
      "Location DCVIM2201: Accuracy = 18.52%\n",
      "Location DETMG3939: Accuracy = 17.24%\n",
      "Location DEVPF7186: Accuracy = 20.69%\n",
      "Location DHPSP8686: Accuracy = 33.33%\n",
      "Location DHSHV3008: Accuracy = 40.00%\n",
      "Location DJGNN5114: Accuracy = 31.03%\n",
      "Location DJTYV8538: Accuracy = 31.03%\n",
      "Location DMEYT2138: Accuracy = 22.22%\n",
      "Location DNSEJ7404: Accuracy = 22.22%\n",
      "Location DRCAC7970: Accuracy = 27.59%\n",
      "Location DRYLF3821: Accuracy = 17.24%\n",
      "Location DTMSK2119: Accuracy = 37.93%\n",
      "Location DUBTA4581: Accuracy = 31.03%\n",
      "Location DVRGV9737: Accuracy = 18.52%\n"
     ]
    }
   ],
   "source": [
    "# Find the accuracy by monitor location\n",
    "location_accuracy = {}\n",
    "for location_id in rolling_window_df['location_id'].unique():\n",
    "    location_indices = rolling_window_df[rolling_window_df['location_id'] == location_id].index\n",
    "    location_preds = predictions[np.isin(val_indices, location_indices)]\n",
    "    location_truths = truths[np.isin(val_indices, location_indices)]\n",
    "    accuracy = np.mean(location_preds == location_truths)\n",
    "    location_accuracy[location_id] = accuracy\n",
    "    print(f\"Location {location_id}: Accuracy = {accuracy:.2%}\")\n"
   ]
  },
  {
   "cell_type": "code",
   "execution_count": null,
   "id": "aa34990f",
   "metadata": {},
   "outputs": [
    {
     "data": {
      "text/plain": [
       "5"
      ]
     },
     "execution_count": 47,
     "metadata": {},
     "output_type": "execute_result"
    }
   ],
   "source": [
    "from sklearn.model_selection import KFold\n",
    "\n",
    "# Create k-fold cross-validation sets\n",
    "kf = KFold(n_splits=5, shuffle=True, random_state=42)\n",
    "\n",
    "# Split the rolling_window_df into k folds\n",
    "folds = []\n",
    "for train_index, val_index in kf.split(rolling_window_df):\n",
    "    train_set = rolling_window_df.iloc[train_index].reset_index(drop=True)\n",
    "    val_set = rolling_window_df.iloc[val_index].reset_index(drop=True)\n",
    "    \n",
    "    # Ensure each training and validation set includes all monitors\n",
    "    if (set(train_set['location_id'].unique()) == set(rolling_window_df['location_id'].unique()) and\n",
    "        set(val_set['location_id'].unique()) == set(rolling_window_df['location_id'].unique())):\n",
    "        folds.append((train_set, val_set))\n",
    "\n",
    "len(folds)"
   ]
  },
  {
   "cell_type": "code",
   "execution_count": 61,
   "id": "b2eebf5f",
   "metadata": {},
   "outputs": [
    {
     "data": {
      "text/html": [
       "<div>\n",
       "<style scoped>\n",
       "    .dataframe tbody tr th:only-of-type {\n",
       "        vertical-align: middle;\n",
       "    }\n",
       "\n",
       "    .dataframe tbody tr th {\n",
       "        vertical-align: top;\n",
       "    }\n",
       "\n",
       "    .dataframe thead th {\n",
       "        text-align: right;\n",
       "    }\n",
       "</style>\n",
       "<table border=\"1\" class=\"dataframe\">\n",
       "  <thead>\n",
       "    <tr style=\"text-align: right;\">\n",
       "      <th></th>\n",
       "      <th>fold</th>\n",
       "      <th>location_id</th>\n",
       "      <th>accuracy</th>\n",
       "    </tr>\n",
       "  </thead>\n",
       "  <tbody>\n",
       "    <tr>\n",
       "      <th>0</th>\n",
       "      <td>1</td>\n",
       "      <td>DCVIM2201</td>\n",
       "      <td>0.714286</td>\n",
       "    </tr>\n",
       "    <tr>\n",
       "      <th>1</th>\n",
       "      <td>1</td>\n",
       "      <td>DETMG3939</td>\n",
       "      <td>0.793103</td>\n",
       "    </tr>\n",
       "    <tr>\n",
       "      <th>2</th>\n",
       "      <td>1</td>\n",
       "      <td>DEVPF7186</td>\n",
       "      <td>0.812500</td>\n",
       "    </tr>\n",
       "    <tr>\n",
       "      <th>3</th>\n",
       "      <td>1</td>\n",
       "      <td>DHPSP8686</td>\n",
       "      <td>0.518519</td>\n",
       "    </tr>\n",
       "    <tr>\n",
       "      <th>4</th>\n",
       "      <td>1</td>\n",
       "      <td>DHSHV3008</td>\n",
       "      <td>0.500000</td>\n",
       "    </tr>\n",
       "  </tbody>\n",
       "</table>\n",
       "</div>"
      ],
      "text/plain": [
       "   fold location_id  accuracy\n",
       "0     1   DCVIM2201  0.714286\n",
       "1     1   DETMG3939  0.793103\n",
       "2     1   DEVPF7186  0.812500\n",
       "3     1   DHPSP8686  0.518519\n",
       "4     1   DHSHV3008  0.500000"
      ]
     },
     "execution_count": 61,
     "metadata": {},
     "output_type": "execute_result"
    }
   ],
   "source": [
    "# Create RandomForestClassifier\n",
    "from sklearn.ensemble import RandomForestClassifier\n",
    "from sklearn.metrics import accuracy_score\n",
    "\n",
    "# Create a list to store fold accuracy for each monitor\n",
    "monitor_fold_accuracies = []\n",
    "\n",
    "# Train and evaluate the Decision Tree Classifier for each fold\n",
    "for i, (train_set, val_set) in enumerate(folds):\n",
    "    # Extract features and labels\n",
    "    X_train = train_set.iloc[:, 2:-1].values\n",
    "    y_train = train_set['label'].astype(int).values\n",
    "    X_val = val_set.iloc[:, 2:-1].values\n",
    "    y_val = val_set['label'].astype(int).values\n",
    "\n",
    "    # Create and train the Decision Tree Classifier\n",
    "    clf = RandomForestClassifier(random_state=42, criterion='entropy')\n",
    "    clf.fit(X_train, y_train)\n",
    "\n",
    "    # Make predictions\n",
    "    y_pred = clf.predict(X_val)\n",
    "\n",
    "    # Calculate accuracy for each monitor\n",
    "    for location_id in val_set['location_id'].unique():\n",
    "        location_indices = val_set[val_set['location_id'] == location_id].index\n",
    "        location_y_val = y_val[np.isin(val_set.index, location_indices)]\n",
    "        location_y_pred = y_pred[np.isin(val_set.index, location_indices)]\n",
    "        location_accuracy = accuracy_score(location_y_val, location_y_pred)\n",
    "\n",
    "        # Store the results\n",
    "        monitor_fold_accuracies.append({\n",
    "            'fold': i + 1,\n",
    "            'location_id': location_id,\n",
    "            'accuracy': location_accuracy\n",
    "        })\n",
    "\n",
    "# Convert the results to a DataFrame\n",
    "monitor_fold_accuracies_df = pd.DataFrame(monitor_fold_accuracies)\n",
    "\n",
    "# Display the DataFrame\n",
    "monitor_fold_accuracies_df.head()\n"
   ]
  },
  {
   "cell_type": "code",
   "execution_count": 66,
   "id": "68b10bdf",
   "metadata": {},
   "outputs": [
    {
     "data": {
      "text/html": [
       "<div>\n",
       "<style scoped>\n",
       "    .dataframe tbody tr th:only-of-type {\n",
       "        vertical-align: middle;\n",
       "    }\n",
       "\n",
       "    .dataframe tbody tr th {\n",
       "        vertical-align: top;\n",
       "    }\n",
       "\n",
       "    .dataframe thead th {\n",
       "        text-align: right;\n",
       "    }\n",
       "</style>\n",
       "<table border=\"1\" class=\"dataframe\">\n",
       "  <thead>\n",
       "    <tr style=\"text-align: right;\">\n",
       "      <th></th>\n",
       "      <th>location_id</th>\n",
       "      <th>accuracy</th>\n",
       "    </tr>\n",
       "  </thead>\n",
       "  <tbody>\n",
       "    <tr>\n",
       "      <th>1</th>\n",
       "      <td>DETMG3939</td>\n",
       "      <td>0.789522</td>\n",
       "    </tr>\n",
       "    <tr>\n",
       "      <th>0</th>\n",
       "      <td>DCVIM2201</td>\n",
       "      <td>0.769736</td>\n",
       "    </tr>\n",
       "    <tr>\n",
       "      <th>7</th>\n",
       "      <td>DMEYT2138</td>\n",
       "      <td>0.755608</td>\n",
       "    </tr>\n",
       "    <tr>\n",
       "      <th>2</th>\n",
       "      <td>DEVPF7186</td>\n",
       "      <td>0.755303</td>\n",
       "    </tr>\n",
       "    <tr>\n",
       "      <th>10</th>\n",
       "      <td>DRYLF3821</td>\n",
       "      <td>0.750265</td>\n",
       "    </tr>\n",
       "    <tr>\n",
       "      <th>12</th>\n",
       "      <td>DUBTA4581</td>\n",
       "      <td>0.724753</td>\n",
       "    </tr>\n",
       "    <tr>\n",
       "      <th>11</th>\n",
       "      <td>DTMSK2119</td>\n",
       "      <td>0.713212</td>\n",
       "    </tr>\n",
       "    <tr>\n",
       "      <th>9</th>\n",
       "      <td>DRCAC7970</td>\n",
       "      <td>0.712444</td>\n",
       "    </tr>\n",
       "    <tr>\n",
       "      <th>13</th>\n",
       "      <td>DVRGV9737</td>\n",
       "      <td>0.687551</td>\n",
       "    </tr>\n",
       "    <tr>\n",
       "      <th>8</th>\n",
       "      <td>DNSEJ7404</td>\n",
       "      <td>0.677146</td>\n",
       "    </tr>\n",
       "  </tbody>\n",
       "</table>\n",
       "</div>"
      ],
      "text/plain": [
       "   location_id  accuracy\n",
       "1    DETMG3939  0.789522\n",
       "0    DCVIM2201  0.769736\n",
       "7    DMEYT2138  0.755608\n",
       "2    DEVPF7186  0.755303\n",
       "10   DRYLF3821  0.750265\n",
       "12   DUBTA4581  0.724753\n",
       "11   DTMSK2119  0.713212\n",
       "9    DRCAC7970  0.712444\n",
       "13   DVRGV9737  0.687551\n",
       "8    DNSEJ7404  0.677146"
      ]
     },
     "execution_count": 66,
     "metadata": {},
     "output_type": "execute_result"
    }
   ],
   "source": [
    "# Find average accuracy by fold by monitor location for random forest classifier\n",
    "average_accuracy_by_fold = monitor_fold_accuracies_df.groupby(['location_id']).agg({'accuracy': 'mean'}).reset_index()\n",
    "average_accuracy_by_fold = average_accuracy_by_fold.sort_values(by='accuracy', ascending=False)\n",
    "\n",
    "average_accuracy_by_fold.head(10)"
   ]
  },
  {
   "cell_type": "code",
   "execution_count": 67,
   "id": "bd87ba72",
   "metadata": {},
   "outputs": [
    {
     "data": {
      "text/plain": [
       "(14, 2)"
      ]
     },
     "execution_count": 67,
     "metadata": {},
     "output_type": "execute_result"
    }
   ],
   "source": [
    "average_accuracy_by_fold.shape"
   ]
  },
  {
   "cell_type": "code",
   "execution_count": null,
   "id": "d79e2f95",
   "metadata": {},
   "outputs": [],
   "source": []
  }
 ],
 "metadata": {
  "kernelspec": {
   "display_name": "datasci192",
   "language": "python",
   "name": "python3"
  },
  "language_info": {
   "codemirror_mode": {
    "name": "ipython",
    "version": 3
   },
   "file_extension": ".py",
   "mimetype": "text/x-python",
   "name": "python",
   "nbconvert_exporter": "python",
   "pygments_lexer": "ipython3",
   "version": "3.10.16"
  }
 },
 "nbformat": 4,
 "nbformat_minor": 5
}
