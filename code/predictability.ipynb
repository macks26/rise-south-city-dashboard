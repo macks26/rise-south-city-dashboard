{
 "cells": [
  {
   "cell_type": "markdown",
   "id": "8ee8616e",
   "metadata": {},
   "source": [
    "## **PurpleAir Monitors** ##"
   ]
  },
  {
   "cell_type": "code",
   "execution_count": 25,
   "id": "d1947813",
   "metadata": {},
   "outputs": [
    {
     "data": {
      "text/html": [
       "<div>\n",
       "<style scoped>\n",
       "    .dataframe tbody tr th:only-of-type {\n",
       "        vertical-align: middle;\n",
       "    }\n",
       "\n",
       "    .dataframe tbody tr th {\n",
       "        vertical-align: top;\n",
       "    }\n",
       "\n",
       "    .dataframe thead th {\n",
       "        text-align: right;\n",
       "    }\n",
       "</style>\n",
       "<table border=\"1\" class=\"dataframe\">\n",
       "  <thead>\n",
       "    <tr style=\"text-align: right;\">\n",
       "      <th></th>\n",
       "      <th>time</th>\n",
       "      <th>location_name</th>\n",
       "      <th>location_id</th>\n",
       "      <th>latitude</th>\n",
       "      <th>longitude</th>\n",
       "      <th>pm2_5_1h_mean</th>\n",
       "      <th>pm2_5_1h_mean_aqi</th>\n",
       "      <th>pm2_5_24h_mean</th>\n",
       "      <th>pm2_5_24h_mean_aqi</th>\n",
       "      <th>temp</th>\n",
       "      <th>rh</th>\n",
       "      <th>elevation</th>\n",
       "      <th>pressure</th>\n",
       "    </tr>\n",
       "  </thead>\n",
       "  <tbody>\n",
       "    <tr>\n",
       "      <th>0</th>\n",
       "      <td>2018-12-27 04:00:00</td>\n",
       "      <td>Grundy Park</td>\n",
       "      <td>21427</td>\n",
       "      <td>37.622585</td>\n",
       "      <td>-122.42097</td>\n",
       "      <td>0.736345</td>\n",
       "      <td>4.0</td>\n",
       "      <td>2.999879</td>\n",
       "      <td>16.0</td>\n",
       "      <td>53.318182</td>\n",
       "      <td>59.818182</td>\n",
       "      <td>86.0</td>\n",
       "      <td>NaN</td>\n",
       "    </tr>\n",
       "    <tr>\n",
       "      <th>1</th>\n",
       "      <td>2018-12-27 05:00:00</td>\n",
       "      <td>Grundy Park</td>\n",
       "      <td>21427</td>\n",
       "      <td>37.622585</td>\n",
       "      <td>-122.42097</td>\n",
       "      <td>0.739827</td>\n",
       "      <td>4.0</td>\n",
       "      <td>2.999879</td>\n",
       "      <td>16.0</td>\n",
       "      <td>51.777778</td>\n",
       "      <td>59.955556</td>\n",
       "      <td>86.0</td>\n",
       "      <td>NaN</td>\n",
       "    </tr>\n",
       "    <tr>\n",
       "      <th>2</th>\n",
       "      <td>2018-12-27 06:00:00</td>\n",
       "      <td>Grundy Park</td>\n",
       "      <td>21427</td>\n",
       "      <td>37.622585</td>\n",
       "      <td>-122.42097</td>\n",
       "      <td>1.038868</td>\n",
       "      <td>6.0</td>\n",
       "      <td>2.999879</td>\n",
       "      <td>16.0</td>\n",
       "      <td>52.068182</td>\n",
       "      <td>56.681818</td>\n",
       "      <td>86.0</td>\n",
       "      <td>NaN</td>\n",
       "    </tr>\n",
       "    <tr>\n",
       "      <th>3</th>\n",
       "      <td>2018-12-27 07:00:00</td>\n",
       "      <td>Grundy Park</td>\n",
       "      <td>21427</td>\n",
       "      <td>37.622585</td>\n",
       "      <td>-122.42097</td>\n",
       "      <td>1.214613</td>\n",
       "      <td>7.0</td>\n",
       "      <td>2.999879</td>\n",
       "      <td>16.0</td>\n",
       "      <td>52.755556</td>\n",
       "      <td>56.933333</td>\n",
       "      <td>86.0</td>\n",
       "      <td>NaN</td>\n",
       "    </tr>\n",
       "    <tr>\n",
       "      <th>4</th>\n",
       "      <td>2018-12-27 08:00:00</td>\n",
       "      <td>Grundy Park</td>\n",
       "      <td>21427</td>\n",
       "      <td>37.622585</td>\n",
       "      <td>-122.42097</td>\n",
       "      <td>1.127572</td>\n",
       "      <td>6.0</td>\n",
       "      <td>2.999879</td>\n",
       "      <td>16.0</td>\n",
       "      <td>65.883721</td>\n",
       "      <td>54.372093</td>\n",
       "      <td>86.0</td>\n",
       "      <td>NaN</td>\n",
       "    </tr>\n",
       "  </tbody>\n",
       "</table>\n",
       "</div>"
      ],
      "text/plain": [
       "                  time location_name  location_id   latitude  longitude  \\\n",
       "0  2018-12-27 04:00:00   Grundy Park        21427  37.622585 -122.42097   \n",
       "1  2018-12-27 05:00:00   Grundy Park        21427  37.622585 -122.42097   \n",
       "2  2018-12-27 06:00:00   Grundy Park        21427  37.622585 -122.42097   \n",
       "3  2018-12-27 07:00:00   Grundy Park        21427  37.622585 -122.42097   \n",
       "4  2018-12-27 08:00:00   Grundy Park        21427  37.622585 -122.42097   \n",
       "\n",
       "   pm2_5_1h_mean  pm2_5_1h_mean_aqi  pm2_5_24h_mean  pm2_5_24h_mean_aqi  \\\n",
       "0       0.736345                4.0        2.999879                16.0   \n",
       "1       0.739827                4.0        2.999879                16.0   \n",
       "2       1.038868                6.0        2.999879                16.0   \n",
       "3       1.214613                7.0        2.999879                16.0   \n",
       "4       1.127572                6.0        2.999879                16.0   \n",
       "\n",
       "        temp         rh  elevation  pressure  \n",
       "0  53.318182  59.818182       86.0       NaN  \n",
       "1  51.777778  59.955556       86.0       NaN  \n",
       "2  52.068182  56.681818       86.0       NaN  \n",
       "3  52.755556  56.933333       86.0       NaN  \n",
       "4  65.883721  54.372093       86.0       NaN  "
      ]
     },
     "execution_count": 25,
     "metadata": {},
     "output_type": "execute_result"
    }
   ],
   "source": [
    "import pandas as pd\n",
    "\n",
    "# Load cleaned data\n",
    "purple_df = pd.read_csv('../data/clean_purpleair.csv')\n",
    "purple_df.head()"
   ]
  },
  {
   "cell_type": "code",
   "execution_count": 26,
   "id": "eaf93012",
   "metadata": {},
   "outputs": [
    {
     "data": {
      "text/html": [
       "<div>\n",
       "<style scoped>\n",
       "    .dataframe tbody tr th:only-of-type {\n",
       "        vertical-align: middle;\n",
       "    }\n",
       "\n",
       "    .dataframe tbody tr th {\n",
       "        vertical-align: top;\n",
       "    }\n",
       "\n",
       "    .dataframe thead th {\n",
       "        text-align: right;\n",
       "    }\n",
       "</style>\n",
       "<table border=\"1\" class=\"dataframe\">\n",
       "  <thead>\n",
       "    <tr style=\"text-align: right;\">\n",
       "      <th></th>\n",
       "      <th>time</th>\n",
       "      <th>location_name</th>\n",
       "      <th>location_id</th>\n",
       "      <th>latitude</th>\n",
       "      <th>longitude</th>\n",
       "      <th>pm2_5_1h_mean</th>\n",
       "      <th>pm2_5_1h_mean_aqi</th>\n",
       "      <th>pm2_5_24h_mean</th>\n",
       "      <th>pm2_5_24h_mean_aqi</th>\n",
       "      <th>temp</th>\n",
       "      <th>rh</th>\n",
       "      <th>elevation</th>\n",
       "      <th>pressure</th>\n",
       "    </tr>\n",
       "  </thead>\n",
       "  <tbody>\n",
       "    <tr>\n",
       "      <th>576572</th>\n",
       "      <td>2024-10-12 00:00:00</td>\n",
       "      <td>805 Lomita Avenue</td>\n",
       "      <td>100355</td>\n",
       "      <td>37.608963</td>\n",
       "      <td>-122.41856</td>\n",
       "      <td>0.004</td>\n",
       "      <td>0.0</td>\n",
       "      <td>0.170667</td>\n",
       "      <td>1.0</td>\n",
       "      <td>78.233</td>\n",
       "      <td>35.000</td>\n",
       "      <td>NaN</td>\n",
       "      <td>1011.435</td>\n",
       "    </tr>\n",
       "    <tr>\n",
       "      <th>576590</th>\n",
       "      <td>2024-10-12 01:00:00</td>\n",
       "      <td>805 Lomita Avenue</td>\n",
       "      <td>100355</td>\n",
       "      <td>37.608963</td>\n",
       "      <td>-122.41856</td>\n",
       "      <td>0.000</td>\n",
       "      <td>0.0</td>\n",
       "      <td>0.170667</td>\n",
       "      <td>1.0</td>\n",
       "      <td>78.000</td>\n",
       "      <td>35.000</td>\n",
       "      <td>NaN</td>\n",
       "      <td>1011.807</td>\n",
       "    </tr>\n",
       "    <tr>\n",
       "      <th>576611</th>\n",
       "      <td>2024-10-12 02:00:00</td>\n",
       "      <td>805 Lomita Avenue</td>\n",
       "      <td>100355</td>\n",
       "      <td>37.608963</td>\n",
       "      <td>-122.41856</td>\n",
       "      <td>0.007</td>\n",
       "      <td>0.0</td>\n",
       "      <td>0.170667</td>\n",
       "      <td>1.0</td>\n",
       "      <td>77.434</td>\n",
       "      <td>35.000</td>\n",
       "      <td>NaN</td>\n",
       "      <td>1011.808</td>\n",
       "    </tr>\n",
       "    <tr>\n",
       "      <th>576634</th>\n",
       "      <td>2024-10-12 03:00:00</td>\n",
       "      <td>805 Lomita Avenue</td>\n",
       "      <td>100355</td>\n",
       "      <td>37.608963</td>\n",
       "      <td>-122.41856</td>\n",
       "      <td>0.000</td>\n",
       "      <td>0.0</td>\n",
       "      <td>0.170667</td>\n",
       "      <td>1.0</td>\n",
       "      <td>76.966</td>\n",
       "      <td>35.966</td>\n",
       "      <td>NaN</td>\n",
       "      <td>1011.542</td>\n",
       "    </tr>\n",
       "    <tr>\n",
       "      <th>576640</th>\n",
       "      <td>2024-10-12 04:00:00</td>\n",
       "      <td>805 Lomita Avenue</td>\n",
       "      <td>100355</td>\n",
       "      <td>37.608963</td>\n",
       "      <td>-122.41856</td>\n",
       "      <td>0.056</td>\n",
       "      <td>0.0</td>\n",
       "      <td>0.170667</td>\n",
       "      <td>1.0</td>\n",
       "      <td>77.000</td>\n",
       "      <td>36.034</td>\n",
       "      <td>NaN</td>\n",
       "      <td>1011.550</td>\n",
       "    </tr>\n",
       "  </tbody>\n",
       "</table>\n",
       "</div>"
      ],
      "text/plain": [
       "                       time      location_name  location_id   latitude  \\\n",
       "576572  2024-10-12 00:00:00  805 Lomita Avenue       100355  37.608963   \n",
       "576590  2024-10-12 01:00:00  805 Lomita Avenue       100355  37.608963   \n",
       "576611  2024-10-12 02:00:00  805 Lomita Avenue       100355  37.608963   \n",
       "576634  2024-10-12 03:00:00  805 Lomita Avenue       100355  37.608963   \n",
       "576640  2024-10-12 04:00:00  805 Lomita Avenue       100355  37.608963   \n",
       "\n",
       "        longitude  pm2_5_1h_mean  pm2_5_1h_mean_aqi  pm2_5_24h_mean  \\\n",
       "576572 -122.41856          0.004                0.0        0.170667   \n",
       "576590 -122.41856          0.000                0.0        0.170667   \n",
       "576611 -122.41856          0.007                0.0        0.170667   \n",
       "576634 -122.41856          0.000                0.0        0.170667   \n",
       "576640 -122.41856          0.056                0.0        0.170667   \n",
       "\n",
       "        pm2_5_24h_mean_aqi    temp      rh  elevation  pressure  \n",
       "576572                 1.0  78.233  35.000        NaN  1011.435  \n",
       "576590                 1.0  78.000  35.000        NaN  1011.807  \n",
       "576611                 1.0  77.434  35.000        NaN  1011.808  \n",
       "576634                 1.0  76.966  35.966        NaN  1011.542  \n",
       "576640                 1.0  77.000  36.034        NaN  1011.550  "
      ]
     },
     "execution_count": 26,
     "metadata": {},
     "output_type": "execute_result"
    }
   ],
   "source": [
    "# Sort by monitor and time\n",
    "purple_df = purple_df.sort_values(['location_name', 'time'])\n",
    "purple_df.head()"
   ]
  },
  {
   "cell_type": "markdown",
   "id": "b0a798b4",
   "metadata": {},
   "source": [
    "### **Preprocessing Check**"
   ]
  },
  {
   "cell_type": "code",
   "execution_count": 27,
   "id": "0c0002a9",
   "metadata": {},
   "outputs": [
    {
     "data": {
      "text/html": [
       "<div>\n",
       "<style scoped>\n",
       "    .dataframe tbody tr th:only-of-type {\n",
       "        vertical-align: middle;\n",
       "    }\n",
       "\n",
       "    .dataframe tbody tr th {\n",
       "        vertical-align: top;\n",
       "    }\n",
       "\n",
       "    .dataframe thead th {\n",
       "        text-align: right;\n",
       "    }\n",
       "</style>\n",
       "<table border=\"1\" class=\"dataframe\">\n",
       "  <thead>\n",
       "    <tr style=\"text-align: right;\">\n",
       "      <th></th>\n",
       "      <th>time</th>\n",
       "      <th>location_name</th>\n",
       "      <th>location_id</th>\n",
       "      <th>latitude</th>\n",
       "      <th>longitude</th>\n",
       "      <th>pm2_5_1h_mean</th>\n",
       "      <th>pm2_5_1h_mean_aqi</th>\n",
       "      <th>pm2_5_24h_mean</th>\n",
       "      <th>pm2_5_24h_mean_aqi</th>\n",
       "      <th>temp</th>\n",
       "      <th>rh</th>\n",
       "      <th>elevation</th>\n",
       "      <th>pressure</th>\n",
       "    </tr>\n",
       "  </thead>\n",
       "  <tbody>\n",
       "    <tr>\n",
       "      <th>576572</th>\n",
       "      <td>2024-10-12 00:00:00</td>\n",
       "      <td>805 Lomita Avenue</td>\n",
       "      <td>100355</td>\n",
       "      <td>37.608963</td>\n",
       "      <td>-122.41856</td>\n",
       "      <td>0.004</td>\n",
       "      <td>0.0</td>\n",
       "      <td>0.170667</td>\n",
       "      <td>1.0</td>\n",
       "      <td>78.233</td>\n",
       "      <td>35.000</td>\n",
       "      <td>NaN</td>\n",
       "      <td>1011.435</td>\n",
       "    </tr>\n",
       "    <tr>\n",
       "      <th>576590</th>\n",
       "      <td>2024-10-12 01:00:00</td>\n",
       "      <td>805 Lomita Avenue</td>\n",
       "      <td>100355</td>\n",
       "      <td>37.608963</td>\n",
       "      <td>-122.41856</td>\n",
       "      <td>0.000</td>\n",
       "      <td>0.0</td>\n",
       "      <td>0.170667</td>\n",
       "      <td>1.0</td>\n",
       "      <td>78.000</td>\n",
       "      <td>35.000</td>\n",
       "      <td>NaN</td>\n",
       "      <td>1011.807</td>\n",
       "    </tr>\n",
       "    <tr>\n",
       "      <th>576611</th>\n",
       "      <td>2024-10-12 02:00:00</td>\n",
       "      <td>805 Lomita Avenue</td>\n",
       "      <td>100355</td>\n",
       "      <td>37.608963</td>\n",
       "      <td>-122.41856</td>\n",
       "      <td>0.007</td>\n",
       "      <td>0.0</td>\n",
       "      <td>0.170667</td>\n",
       "      <td>1.0</td>\n",
       "      <td>77.434</td>\n",
       "      <td>35.000</td>\n",
       "      <td>NaN</td>\n",
       "      <td>1011.808</td>\n",
       "    </tr>\n",
       "    <tr>\n",
       "      <th>576634</th>\n",
       "      <td>2024-10-12 03:00:00</td>\n",
       "      <td>805 Lomita Avenue</td>\n",
       "      <td>100355</td>\n",
       "      <td>37.608963</td>\n",
       "      <td>-122.41856</td>\n",
       "      <td>0.000</td>\n",
       "      <td>0.0</td>\n",
       "      <td>0.170667</td>\n",
       "      <td>1.0</td>\n",
       "      <td>76.966</td>\n",
       "      <td>35.966</td>\n",
       "      <td>NaN</td>\n",
       "      <td>1011.542</td>\n",
       "    </tr>\n",
       "    <tr>\n",
       "      <th>576640</th>\n",
       "      <td>2024-10-12 04:00:00</td>\n",
       "      <td>805 Lomita Avenue</td>\n",
       "      <td>100355</td>\n",
       "      <td>37.608963</td>\n",
       "      <td>-122.41856</td>\n",
       "      <td>0.056</td>\n",
       "      <td>0.0</td>\n",
       "      <td>0.170667</td>\n",
       "      <td>1.0</td>\n",
       "      <td>77.000</td>\n",
       "      <td>36.034</td>\n",
       "      <td>NaN</td>\n",
       "      <td>1011.550</td>\n",
       "    </tr>\n",
       "  </tbody>\n",
       "</table>\n",
       "</div>"
      ],
      "text/plain": [
       "                      time      location_name  location_id   latitude  \\\n",
       "576572 2024-10-12 00:00:00  805 Lomita Avenue       100355  37.608963   \n",
       "576590 2024-10-12 01:00:00  805 Lomita Avenue       100355  37.608963   \n",
       "576611 2024-10-12 02:00:00  805 Lomita Avenue       100355  37.608963   \n",
       "576634 2024-10-12 03:00:00  805 Lomita Avenue       100355  37.608963   \n",
       "576640 2024-10-12 04:00:00  805 Lomita Avenue       100355  37.608963   \n",
       "\n",
       "        longitude  pm2_5_1h_mean  pm2_5_1h_mean_aqi  pm2_5_24h_mean  \\\n",
       "576572 -122.41856          0.004                0.0        0.170667   \n",
       "576590 -122.41856          0.000                0.0        0.170667   \n",
       "576611 -122.41856          0.007                0.0        0.170667   \n",
       "576634 -122.41856          0.000                0.0        0.170667   \n",
       "576640 -122.41856          0.056                0.0        0.170667   \n",
       "\n",
       "        pm2_5_24h_mean_aqi    temp      rh  elevation  pressure  \n",
       "576572                 1.0  78.233  35.000        NaN  1011.435  \n",
       "576590                 1.0  78.000  35.000        NaN  1011.807  \n",
       "576611                 1.0  77.434  35.000        NaN  1011.808  \n",
       "576634                 1.0  76.966  35.966        NaN  1011.542  \n",
       "576640                 1.0  77.000  36.034        NaN  1011.550  "
      ]
     },
     "execution_count": 27,
     "metadata": {},
     "output_type": "execute_result"
    }
   ],
   "source": [
    "# Convert longitude and latitude to correct types\n",
    "purple_df['longitude'] = purple_df['longitude'].apply(lambda x: -abs(x))\n",
    "purple_df['latitude'] = purple_df['latitude'].apply(lambda x: abs(x))\n",
    "\n",
    "# Convert time to datetime (if not already done)\n",
    "purple_df['time'] = pd.to_datetime(purple_df['time'], format='%Y-%m-%d %H:%M:%S')\n",
    "\n",
    "purple_df.head()"
   ]
  },
  {
   "cell_type": "code",
   "execution_count": 28,
   "id": "236f2cf1",
   "metadata": {},
   "outputs": [
    {
     "data": {
      "text/plain": [
       "576572   2024-10-12\n",
       "576590   2024-10-12\n",
       "576611   2024-10-12\n",
       "576634   2024-10-12\n",
       "576640   2024-10-12\n",
       "Name: date, dtype: datetime64[ns]"
      ]
     },
     "execution_count": 28,
     "metadata": {},
     "output_type": "execute_result"
    }
   ],
   "source": [
    "# Create column for date only\n",
    "purple_df['date'] = purple_df['time'].dt.date\n",
    "purple_df['date'] = pd.to_datetime(purple_df['date'], format='%Y-%m-%d')\n",
    "\n",
    "purple_df['date'].head()"
   ]
  },
  {
   "cell_type": "markdown",
   "id": "244b60b4",
   "metadata": {},
   "source": [
    "### **Visualizing and Analyzing**"
   ]
  },
  {
   "cell_type": "code",
   "execution_count": 29,
   "id": "8f38c972",
   "metadata": {},
   "outputs": [],
   "source": [
    "# Only take unique dates and their average pm2.5 concentrations\n",
    "unique_dates = purple_df.drop_duplicates(subset=['location_name', 'date'], keep='first')"
   ]
  },
  {
   "cell_type": "code",
   "execution_count": 30,
   "id": "b631a7f5",
   "metadata": {},
   "outputs": [
    {
     "name": "stdout",
     "output_type": "stream",
     "text": [
      "Number of outliers removed: 2104\n",
      "Number of unique dates remaining: 24034\n"
     ]
    }
   ],
   "source": [
    "# Find outliers using IQR and separate them from the dataframe\n",
    "def find_outliers_iqr(df, column):\n",
    "    q1 = df[column].quantile(0.25)\n",
    "    q3 = df[column].quantile(0.75)\n",
    "    iqr = q3 - q1\n",
    "    lower_bound = q1 - 1.5 * iqr\n",
    "    upper_bound = q3 + 1.5 * iqr\n",
    "    outliers = df[(df[column] < lower_bound) | (df[column] > upper_bound)]\n",
    "    non_outliers = df[(df[column] >= lower_bound) & (df[column] <= upper_bound)]\n",
    "    return non_outliers, outliers\n",
    "\n",
    "# Remove outliers and keep them in a separate dataframe\n",
    "unique_dates, outliers_df = find_outliers_iqr(unique_dates, 'pm2_5_24h_mean')\n",
    "\n",
    "print(\"Number of outliers removed:\", len(outliers_df))\n",
    "print(\"Number of unique dates remaining:\", len(unique_dates))"
   ]
  },
  {
   "cell_type": "code",
   "execution_count": null,
   "id": "93e4d36e",
   "metadata": {},
   "outputs": [
    {
     "data": {
      "text/plain": [
       "'../figures/purpleair_pm25_distribution.html'"
      ]
     },
     "execution_count": 31,
     "metadata": {},
     "output_type": "execute_result"
    }
   ],
   "source": [
    "import plotly.express as px\n",
    "from plotly.subplots import make_subplots\n",
    "import plotly.graph_objects as go\n",
    "from plotly.offline import plot\n",
    "\n",
    "# Create figure with subplots\n",
    "fig = make_subplots(rows=1, cols=2, subplot_titles=(\"Without Outliers\", \"Outliers\"))\n",
    "\n",
    "# Add histogram for PM2.5 values without outliers\n",
    "fig.add_trace(\n",
    "    go.Histogram(\n",
    "        x=unique_dates['pm2_5_24h_mean'],\n",
    "        nbinsx=35,\n",
    "        marker=dict(color='blue'),\n",
    "        hoverinfo='x+y'\n",
    "    ),\n",
    "    row=1, col=1\n",
    ")\n",
    "\n",
    "# Add histogram for PM2.5 values outliers\n",
    "fig.add_trace(\n",
    "    go.Box(\n",
    "        x=outliers_df['pm2_5_24h_mean'],\n",
    "        marker=dict(color='green'),\n",
    "        hoverinfo='x',\n",
    "        name=''\n",
    "    ),\n",
    "    row=1, col=2\n",
    ")\n",
    "\n",
    "# Update layout\n",
    "fig.update_layout(title_text=\"Distribution of PM2.5 Values for PurpleAir Monitors\",\n",
    "                  showlegend=False)\n",
    "fig.update_xaxes(title_text=\"Daily Average PM2.5 Concentration (µg/m³)\", row=1, col=1)\n",
    "fig.update_yaxes(title_text=\"Frequency\", row=1, col=1)\n",
    "fig.update_xaxes(title_text=\"Daily Average PM2.5 Concentration (µg/m³)\", row=1, col=2)\n",
    "\n",
    "# Save the figure offline\n",
    "plot(fig, filename='../figures/purpleair_pm25_distribution.html', auto_open=True)"
   ]
  },
  {
   "cell_type": "code",
   "execution_count": 32,
   "id": "158e9481",
   "metadata": {},
   "outputs": [
    {
     "data": {
      "text/html": [
       "<div>\n",
       "<style scoped>\n",
       "    .dataframe tbody tr th:only-of-type {\n",
       "        vertical-align: middle;\n",
       "    }\n",
       "\n",
       "    .dataframe tbody tr th {\n",
       "        vertical-align: top;\n",
       "    }\n",
       "\n",
       "    .dataframe thead th {\n",
       "        text-align: right;\n",
       "    }\n",
       "</style>\n",
       "<table border=\"1\" class=\"dataframe\">\n",
       "  <thead>\n",
       "    <tr style=\"text-align: right;\">\n",
       "      <th></th>\n",
       "      <th>time</th>\n",
       "      <th>location_name</th>\n",
       "      <th>location_id</th>\n",
       "      <th>latitude</th>\n",
       "      <th>longitude</th>\n",
       "      <th>pm2_5_1h_mean</th>\n",
       "      <th>pm2_5_1h_mean_aqi</th>\n",
       "      <th>pm2_5_24h_mean</th>\n",
       "      <th>pm2_5_24h_mean_aqi</th>\n",
       "      <th>temp</th>\n",
       "      <th>rh</th>\n",
       "      <th>elevation</th>\n",
       "      <th>pressure</th>\n",
       "      <th>date</th>\n",
       "      <th>pm2_5_24h_rolling_mean</th>\n",
       "    </tr>\n",
       "  </thead>\n",
       "  <tbody>\n",
       "    <tr>\n",
       "      <th>576572</th>\n",
       "      <td>2024-10-12 00:00:00</td>\n",
       "      <td>805 Lomita Avenue</td>\n",
       "      <td>100355</td>\n",
       "      <td>37.608963</td>\n",
       "      <td>-122.41856</td>\n",
       "      <td>0.004</td>\n",
       "      <td>0.0</td>\n",
       "      <td>0.170667</td>\n",
       "      <td>1.0</td>\n",
       "      <td>78.233</td>\n",
       "      <td>35.000</td>\n",
       "      <td>NaN</td>\n",
       "      <td>1011.435</td>\n",
       "      <td>2024-10-12</td>\n",
       "      <td>0.004000</td>\n",
       "    </tr>\n",
       "    <tr>\n",
       "      <th>576590</th>\n",
       "      <td>2024-10-12 01:00:00</td>\n",
       "      <td>805 Lomita Avenue</td>\n",
       "      <td>100355</td>\n",
       "      <td>37.608963</td>\n",
       "      <td>-122.41856</td>\n",
       "      <td>0.000</td>\n",
       "      <td>0.0</td>\n",
       "      <td>0.170667</td>\n",
       "      <td>1.0</td>\n",
       "      <td>78.000</td>\n",
       "      <td>35.000</td>\n",
       "      <td>NaN</td>\n",
       "      <td>1011.807</td>\n",
       "      <td>2024-10-12</td>\n",
       "      <td>0.002000</td>\n",
       "    </tr>\n",
       "    <tr>\n",
       "      <th>576611</th>\n",
       "      <td>2024-10-12 02:00:00</td>\n",
       "      <td>805 Lomita Avenue</td>\n",
       "      <td>100355</td>\n",
       "      <td>37.608963</td>\n",
       "      <td>-122.41856</td>\n",
       "      <td>0.007</td>\n",
       "      <td>0.0</td>\n",
       "      <td>0.170667</td>\n",
       "      <td>1.0</td>\n",
       "      <td>77.434</td>\n",
       "      <td>35.000</td>\n",
       "      <td>NaN</td>\n",
       "      <td>1011.808</td>\n",
       "      <td>2024-10-12</td>\n",
       "      <td>0.003667</td>\n",
       "    </tr>\n",
       "    <tr>\n",
       "      <th>576634</th>\n",
       "      <td>2024-10-12 03:00:00</td>\n",
       "      <td>805 Lomita Avenue</td>\n",
       "      <td>100355</td>\n",
       "      <td>37.608963</td>\n",
       "      <td>-122.41856</td>\n",
       "      <td>0.000</td>\n",
       "      <td>0.0</td>\n",
       "      <td>0.170667</td>\n",
       "      <td>1.0</td>\n",
       "      <td>76.966</td>\n",
       "      <td>35.966</td>\n",
       "      <td>NaN</td>\n",
       "      <td>1011.542</td>\n",
       "      <td>2024-10-12</td>\n",
       "      <td>0.002750</td>\n",
       "    </tr>\n",
       "    <tr>\n",
       "      <th>576640</th>\n",
       "      <td>2024-10-12 04:00:00</td>\n",
       "      <td>805 Lomita Avenue</td>\n",
       "      <td>100355</td>\n",
       "      <td>37.608963</td>\n",
       "      <td>-122.41856</td>\n",
       "      <td>0.056</td>\n",
       "      <td>0.0</td>\n",
       "      <td>0.170667</td>\n",
       "      <td>1.0</td>\n",
       "      <td>77.000</td>\n",
       "      <td>36.034</td>\n",
       "      <td>NaN</td>\n",
       "      <td>1011.550</td>\n",
       "      <td>2024-10-12</td>\n",
       "      <td>0.013400</td>\n",
       "    </tr>\n",
       "  </tbody>\n",
       "</table>\n",
       "</div>"
      ],
      "text/plain": [
       "                      time      location_name  location_id   latitude  \\\n",
       "576572 2024-10-12 00:00:00  805 Lomita Avenue       100355  37.608963   \n",
       "576590 2024-10-12 01:00:00  805 Lomita Avenue       100355  37.608963   \n",
       "576611 2024-10-12 02:00:00  805 Lomita Avenue       100355  37.608963   \n",
       "576634 2024-10-12 03:00:00  805 Lomita Avenue       100355  37.608963   \n",
       "576640 2024-10-12 04:00:00  805 Lomita Avenue       100355  37.608963   \n",
       "\n",
       "        longitude  pm2_5_1h_mean  pm2_5_1h_mean_aqi  pm2_5_24h_mean  \\\n",
       "576572 -122.41856          0.004                0.0        0.170667   \n",
       "576590 -122.41856          0.000                0.0        0.170667   \n",
       "576611 -122.41856          0.007                0.0        0.170667   \n",
       "576634 -122.41856          0.000                0.0        0.170667   \n",
       "576640 -122.41856          0.056                0.0        0.170667   \n",
       "\n",
       "        pm2_5_24h_mean_aqi    temp      rh  elevation  pressure       date  \\\n",
       "576572                 1.0  78.233  35.000        NaN  1011.435 2024-10-12   \n",
       "576590                 1.0  78.000  35.000        NaN  1011.807 2024-10-12   \n",
       "576611                 1.0  77.434  35.000        NaN  1011.808 2024-10-12   \n",
       "576634                 1.0  76.966  35.966        NaN  1011.542 2024-10-12   \n",
       "576640                 1.0  77.000  36.034        NaN  1011.550 2024-10-12   \n",
       "\n",
       "        pm2_5_24h_rolling_mean  \n",
       "576572                0.004000  \n",
       "576590                0.002000  \n",
       "576611                0.003667  \n",
       "576634                0.002750  \n",
       "576640                0.013400  "
      ]
     },
     "execution_count": 32,
     "metadata": {},
     "output_type": "execute_result"
    }
   ],
   "source": [
    "# Calculate the rolling 24h mean for PM2.5 for each hour\n",
    "purple_df['pm2_5_24h_rolling_mean'] = purple_df.groupby('location_name')['pm2_5_1h_mean'].transform(\n",
    "    lambda x: x.rolling(window=24, min_periods=1).mean()\n",
    ")\n",
    "\n",
    "# Impute missing values in the rolling mean\n",
    "purple_df['pm2_5_24h_rolling_mean'] = purple_df['pm2_5_24h_rolling_mean'].ffill()\n",
    "purple_df['pm2_5_24h_rolling_mean'] = purple_df['pm2_5_24h_rolling_mean'].bfill()\n",
    "\n",
    "purple_df.head()"
   ]
  },
  {
   "cell_type": "code",
   "execution_count": 33,
   "id": "9c8bf3e2",
   "metadata": {},
   "outputs": [],
   "source": [
    "# AQI calculation function\n",
    "def calculate_pm2_5_aqi(C_p):\n",
    "    if pd.isna(C_p):\n",
    "        return None\n",
    "\n",
    "    C_p = float(str(C_p)[:str(C_p).find('.')+2]) if '.' in str(C_p) else float(C_p)\n",
    "\n",
    "    breakpoints = [\n",
    "        (0.0,   9.0,   0,   50),\n",
    "        (9.1,   35.4,  51,  100),\n",
    "        (35.5,  55.4,  101, 150),\n",
    "        (55.5,  125.4, 151, 200),\n",
    "        (125.5, 225.4, 201, 300),\n",
    "        (225.5, 500.4, 301, 500)\n",
    "    ]\n",
    "\n",
    "    for BP_Lo, BP_Hi, I_Lo, I_Hi in breakpoints:\n",
    "        if BP_Lo <= C_p <= BP_Hi:\n",
    "            I_p = ((I_Hi - I_Lo) / (BP_Hi - BP_Lo)) * (C_p - BP_Lo) + I_Lo\n",
    "            return round(I_p)\n",
    "\n",
    "    return None\n",
    "\n",
    "# Calculate AQI for PM2.5 24hr mean\n",
    "purple_df['pm2_5_24h_rolling_mean_aqi'] = purple_df['pm2_5_24h_rolling_mean'].apply(calculate_pm2_5_aqi)"
   ]
  },
  {
   "cell_type": "code",
   "execution_count": 34,
   "id": "e82e944c",
   "metadata": {},
   "outputs": [
    {
     "data": {
      "text/plain": [
       "'../figures/purpleair_pm25_aqi_scatter.html'"
      ]
     },
     "execution_count": 34,
     "metadata": {},
     "output_type": "execute_result"
    }
   ],
   "source": [
    "# Find outliers from dataframe\n",
    "no_outliers_df, outliers_df = find_outliers_iqr(purple_df, 'pm2_5_24h_rolling_mean_aqi')\n",
    "\n",
    "# Create figure with subplots\n",
    "fig = make_subplots(rows=1, cols=2, subplot_titles=(\"Without Outliers\", \"Outliers\"))\n",
    "\n",
    "# Scatterplot of PM2.5 values for PurpleAir monitors without outliers\n",
    "fig.add_trace(\n",
    "        go.Scatter(\n",
    "                x=no_outliers_df['pm2_5_1h_mean'],\n",
    "                y=no_outliers_df['pm2_5_24h_rolling_mean_aqi'],\n",
    "                mode='markers',\n",
    "                marker=dict(color='blue', size=5),\n",
    "                hovertext=no_outliers_df['location_name'],\n",
    "                name=''\n",
    "        ),\n",
    "        row=1, col=1\n",
    ")\n",
    "\n",
    "# Scatterplot of PM2.5 values for PurpleAir monitors with outliers\n",
    "fig.add_trace(\n",
    "        go.Scatter(\n",
    "                x=outliers_df['pm2_5_1h_mean'],\n",
    "                y=outliers_df['pm2_5_24h_rolling_mean_aqi'],\n",
    "                mode='markers',\n",
    "                marker=dict(color='red', size=5),\n",
    "                hovertext=outliers_df['location_name'],\n",
    "                name=''\n",
    "        ),\n",
    "        row=1, col=2\n",
    ")\n",
    "\n",
    "# Update axis titles\n",
    "fig.update_xaxes(title_text=\"Hourly Average PM2.5 Concentration (µg/m³)\", row=1, col=1)\n",
    "fig.update_yaxes(title_text=\"Daily Average PM2.5 AQI\", row=1, col=1)\n",
    "fig.update_xaxes(title_text=\"Hourly Average PM2.5 Concentration (µg/m³)\", row=1, col=2)\n",
    "fig.update_yaxes(title_text=\"Daily Average PM2.5 AQI\", row=1, col=2)\n",
    "\n",
    "# Update layout\n",
    "fig.update_layout(title_text=\"Scatter Plots of PM2.5 Values for PurpleAir Monitors\",\n",
    "                                  showlegend=False)\n",
    "\n",
    "# Save the figure offline\n",
    "plot(fig, filename='../figures/purpleair_pm25_aqi_scatter.html', auto_open=True)"
   ]
  },
  {
   "cell_type": "markdown",
   "id": "dc6046e0",
   "metadata": {},
   "source": [
    "## **Clarity Monitors**"
   ]
  },
  {
   "cell_type": "code",
   "execution_count": 36,
   "id": "5317f07e",
   "metadata": {},
   "outputs": [
    {
     "data": {
      "text/plain": [
       "'../figures/clarity_pm25_distribution.html'"
      ]
     },
     "execution_count": 36,
     "metadata": {},
     "output_type": "execute_result"
    }
   ],
   "source": [
    "# Load cleaned data for Clarity monitors\n",
    "clarity_df = pd.read_csv('../data/clean_clarity.csv')\n",
    "\n",
    "# Sort by monitor and time\n",
    "clarity_df = clarity_df.sort_values(['location_name', 'time'])\n",
    "\n",
    "# Convert longitude and latitude to correct types\n",
    "clarity_df['longitude'] = clarity_df['longitude'].apply(lambda x: -abs(x))\n",
    "clarity_df['latitude'] = clarity_df['latitude'].apply(lambda x: abs(x))\n",
    "\n",
    "# Convert time to datetime (if not already done)\n",
    "clarity_df['time'] = pd.to_datetime(clarity_df['time'], format='%Y-%m-%d %H:%M:%S')\n",
    "\n",
    "# Create column for date only\n",
    "clarity_df['date'] = clarity_df['time'].dt.date\n",
    "clarity_df['date'] = pd.to_datetime(clarity_df['date'], format='%Y-%m-%d')\n",
    "\n",
    "# Only take unique dates and their average pm2.5 concentrations\n",
    "unique_dates_clarity = clarity_df.drop_duplicates(subset=['location_name', 'date'], keep='first')\n",
    "\n",
    "# Find outliers using IQR and separate them from the dataframe\n",
    "unique_dates_clarity, outliers_df_clarity = find_outliers_iqr(unique_dates_clarity, 'pm2_5_24h_mean')\n",
    "\n",
    "# Create figure with subplots\n",
    "fig = make_subplots(rows=1, cols=2, subplot_titles=(\"Without Outliers\", \"Outliers\"))\n",
    "\n",
    "# Add histogram for PM2.5 values without outliers\n",
    "fig.add_trace(\n",
    "    go.Histogram(\n",
    "        x=unique_dates_clarity['pm2_5_24h_mean'],\n",
    "        nbinsx=35,\n",
    "        marker=dict(color='blue'),\n",
    "        hoverinfo='x+y'\n",
    "    ),\n",
    "    row=1, col=1\n",
    ")\n",
    "\n",
    "# Add histogram for PM2.5 values outliers\n",
    "fig.add_trace(\n",
    "    go.Box(\n",
    "        x=outliers_df_clarity['pm2_5_24h_mean'],\n",
    "        marker=dict(color='green'),\n",
    "        hoverinfo='x',\n",
    "        name=''\n",
    "    ),\n",
    "    row=1, col=2\n",
    ")\n",
    "\n",
    "# Update layout\n",
    "fig.update_layout(title_text=\"Distribution of PM2.5 Values for Clarity Monitors\",\n",
    "                  showlegend=False)\n",
    "fig.update_xaxes(title_text=\"Daily Average PM2.5 Concentration (µg/m³)\", row=1, col=1)\n",
    "fig.update_yaxes(title_text=\"Frequency\", row=1, col=1)\n",
    "fig.update_xaxes(title_text=\"Daily Average PM2.5 Concentration (µg/m³)\", row=1, col=2)\n",
    "\n",
    "# Save the figure offline\n",
    "plot(fig, filename='../figures/clarity_pm25_distribution.html', auto_open=True)"
   ]
  },
  {
   "cell_type": "code",
   "execution_count": 37,
   "id": "0c1641fd",
   "metadata": {},
   "outputs": [
    {
     "data": {
      "text/plain": [
       "'../figures/clarity_pm25_aqi_scatter.html'"
      ]
     },
     "execution_count": 37,
     "metadata": {},
     "output_type": "execute_result"
    }
   ],
   "source": [
    "# Calculate the rolling 24h mean for PM2.5 for each hour\n",
    "clarity_df['pm2_5_24h_rolling_mean'] = clarity_df.groupby('location_name')['pm2_5_1h_mean'].transform(\n",
    "    lambda x: x.rolling(window=24, min_periods=1).mean()\n",
    ")\n",
    "\n",
    "# Impute missing values in the rolling mean\n",
    "clarity_df['pm2_5_24h_rolling_mean'] = clarity_df['pm2_5_24h_rolling_mean'].ffill()\n",
    "clarity_df['pm2_5_24h_rolling_mean'] = clarity_df['pm2_5_24h_rolling_mean'].bfill()\n",
    "\n",
    "# Calculate AQI for PM2.5 24hr mean\n",
    "clarity_df['pm2_5_24h_rolling_mean_aqi'] = clarity_df['pm2_5_24h_rolling_mean'].apply(calculate_pm2_5_aqi)\n",
    "\n",
    "# Find outliers from dataframe\n",
    "no_outliers_df_clarity, outliers_df_clarity = find_outliers_iqr(clarity_df, 'pm2_5_24h_rolling_mean_aqi')\n",
    "\n",
    "# Create figure with subplots\n",
    "fig = make_subplots(rows=1, cols=2, subplot_titles=(\"Without Outliers\", \"Outliers\"))\n",
    "\n",
    "# Scatterplot of PM2.5 values for Clarity monitors without outliers\n",
    "fig.add_trace(\n",
    "        go.Scatter(\n",
    "                x=no_outliers_df_clarity['pm2_5_1h_mean'],\n",
    "                y=no_outliers_df_clarity['pm2_5_24h_rolling_mean_aqi'],\n",
    "                mode='markers',\n",
    "                marker=dict(color='blue', size=5),\n",
    "                hovertext=no_outliers_df_clarity['location_name'],\n",
    "                name=''\n",
    "        ),\n",
    "        row=1, col=1\n",
    ")\n",
    "\n",
    "# Scatterplot of PM2.5 values for Clarity monitors with outliers\n",
    "fig.add_trace(\n",
    "        go.Scatter(\n",
    "                x=outliers_df_clarity['pm2_5_1h_mean'],\n",
    "                y=outliers_df_clarity['pm2_5_24h_rolling_mean_aqi'],\n",
    "                mode='markers',\n",
    "                marker=dict(color='red', size=5),\n",
    "                hovertext=outliers_df_clarity['location_name'],\n",
    "                name=''\n",
    "        ),\n",
    "        row=1, col=2\n",
    ")\n",
    "\n",
    "# Update axis titles\n",
    "fig.update_xaxes(title_text=\"Hourly Average PM2.5 Concentration (µg/m³)\", row=1, col=1)\n",
    "fig.update_yaxes(title_text=\"Daily Average PM2.5 AQI\", row=1, col=1)\n",
    "fig.update_xaxes(title_text=\"Hourly Average PM2.5 Concentration (µg/m³)\", row=1, col=2)\n",
    "fig.update_yaxes(title_text=\"Daily Average PM2.5 AQI\", row=1, col=2)\n",
    "\n",
    "# Update layout\n",
    "fig.update_layout(title_text=\"Scatter Plots of PM2.5 Values for Clarity Monitors\",\n",
    "                                  showlegend=False)\n",
    "\n",
    "# Save the figure offline\n",
    "plot(fig, filename='../figures/clarity_pm25_aqi_scatter.html', auto_open=True)"
   ]
  },
  {
   "cell_type": "code",
   "execution_count": 52,
   "id": "e972bc0f",
   "metadata": {},
   "outputs": [
    {
     "data": {
      "application/vnd.plotly.v1+json": {
       "config": {
        "plotlyServerURL": "https://plot.ly"
       },
       "data": [
        {
         "hovertemplate": "Month=October<br>Day of Month=%{x}<br>PM2.5 (1-hour mean)=%{y}<extra></extra>",
         "legendgroup": "",
         "line": {
          "color": "#636efa",
          "dash": "solid"
         },
         "marker": {
          "symbol": "circle"
         },
         "mode": "lines",
         "name": "",
         "orientation": "v",
         "showlegend": false,
         "type": "scatter",
         "x": [
          30,
          31
         ],
         "xaxis": "x",
         "y": [
          12.265714285714285,
          4.83328125
         ],
         "yaxis": "y"
        },
        {
         "hovertemplate": "Month=November<br>Day of Month=%{x}<br>PM2.5 (1-hour mean)=%{y}<extra></extra>",
         "legendgroup": "",
         "line": {
          "color": "#636efa",
          "dash": "solid"
         },
         "marker": {
          "symbol": "circle"
         },
         "mode": "lines",
         "name": "",
         "orientation": "v",
         "showlegend": false,
         "type": "scatter",
         "x": [
          1,
          2,
          3,
          4,
          5,
          6,
          7,
          8,
          9,
          10,
          11,
          12,
          13,
          14,
          15,
          16,
          17,
          18,
          19,
          20,
          21,
          22,
          23,
          24,
          25,
          26,
          27,
          28,
          29,
          30
         ],
         "xaxis": "x2",
         "y": [
          5.723888888888888,
          4.951018518518519,
          4.522044444444445,
          6.193425925925926,
          6.101018518518519,
          4.50537037037037,
          5.61875,
          9.50050925925926,
          13.082222222222223,
          10.045833333333334,
          3.4153240740740745,
          5.238973384030418,
          4.338303571428572,
          4.917492537313432,
          6.277738095238096,
          6.406238805970149,
          4.989761904761904,
          4.821101190476191,
          5.217827380952381,
          3.204047619047619,
          2.1097910447761192,
          2.527559523809524,
          3.5475000000000003,
          3.5312835820895523,
          3.2036011904761907,
          3.493820895522388,
          4.771671641791045,
          6.28125,
          7.956279761904762,
          11.951071428571428
         ],
         "yaxis": "y2"
        },
        {
         "hovertemplate": "Month=December<br>Day of Month=%{x}<br>PM2.5 (1-hour mean)=%{y}<extra></extra>",
         "legendgroup": "",
         "line": {
          "color": "#636efa",
          "dash": "solid"
         },
         "marker": {
          "symbol": "circle"
         },
         "mode": "lines",
         "name": "",
         "orientation": "v",
         "showlegend": false,
         "type": "scatter",
         "x": [
          1,
          2,
          3,
          4,
          5,
          6,
          7,
          8,
          9,
          10,
          11,
          12,
          13,
          14,
          15,
          16,
          17,
          18,
          19,
          20,
          21,
          22,
          23,
          24,
          25,
          26,
          27,
          28,
          29,
          30,
          31
         ],
         "xaxis": "x3",
         "y": [
          11.786238805970148,
          9.11860119047619,
          11.012298507462686,
          20.24910447761194,
          13.618511904761904,
          12.254895522388061,
          27.44133928571429,
          28.444119402985077,
          6.888392857142857,
          18.588686567164178,
          23.992656716417912,
          5.914107142857143,
          4.178686567164179,
          4.732767857142857,
          7.38065671641791,
          7.5497313432835815,
          12.560505952380952,
          11.452149253731342,
          18.31339393939394,
          23.433396226415095,
          9.229999999999999,
          13.508364779874213,
          10.4962893081761,
          4.07440251572327,
          5.333584905660377,
          3.5726729559748422,
          8.077012195121952,
          4.139761194029851,
          3.5638208955223885,
          4.335701492537313,
          5.4211309523809526
         ],
         "yaxis": "y3"
        },
        {
         "hovertemplate": "Month=January<br>Day of Month=%{x}<br>PM2.5 (1-hour mean)=%{y}<extra></extra>",
         "legendgroup": "",
         "line": {
          "color": "#636efa",
          "dash": "solid"
         },
         "marker": {
          "symbol": "circle"
         },
         "mode": "lines",
         "name": "",
         "orientation": "v",
         "showlegend": false,
         "type": "scatter",
         "x": [
          1,
          2,
          3,
          4,
          5,
          6,
          7,
          8,
          9,
          10,
          11,
          12,
          13,
          14,
          15,
          16,
          17,
          18,
          19,
          20,
          21,
          22,
          23,
          24,
          25,
          26,
          27,
          28,
          29,
          30,
          31
         ],
         "xaxis": "x4",
         "y": [
          10.830654761904762,
          9.254255952380952,
          7.184077380952381,
          6.60529761904762,
          6.694507462686567,
          8.141011904761905,
          3.7721130952380952,
          5.121369047619048,
          7.045029761904762,
          6.578776119402985,
          5.285714285714286,
          4.8984523809523814,
          4.929313432835821,
          5.578303571428571,
          12.018035714285714,
          18.362142857142857,
          12.791369047619046,
          12.70555223880597,
          9.377142857142857,
          8.694910714285713,
          6.568328358208955,
          12.286547619047619,
          11.09889880952381,
          16.745386904761904,
          7.844298507462687,
          5.150714285714286,
          5.761488095238095,
          5.682053571428572,
          6.07764880952381,
          5.384404761904762,
          6.467619047619047
         ],
         "yaxis": "y4"
        },
        {
         "hovertemplate": "Month=February<br>Day of Month=%{x}<br>PM2.5 (1-hour mean)=%{y}<extra></extra>",
         "legendgroup": "",
         "line": {
          "color": "#636efa",
          "dash": "solid"
         },
         "marker": {
          "symbol": "circle"
         },
         "mode": "lines",
         "name": "",
         "orientation": "v",
         "showlegend": false,
         "type": "scatter",
         "x": [
          1,
          2,
          3,
          4,
          5,
          6,
          7,
          8,
          9,
          10,
          11,
          12,
          13,
          14,
          15,
          16,
          17,
          18,
          19,
          20,
          21,
          22,
          23,
          24,
          25,
          26,
          27,
          28
         ],
         "xaxis": "x5",
         "y": [
          4.060274390243903,
          2.5081612903225805,
          2.894577922077922,
          2.3298392282958202,
          3.6809907120743035,
          3.644559270516717,
          3.2688855421686744,
          3.821785714285714,
          4.248839285714285,
          4.621071428571429,
          4.744268656716418,
          5.990818181818182,
          4.310121951219513,
          6.582896341463415,
          6.683799392097264,
          4.8773860182370825,
          4.636454545454545,
          5.186393939393939,
          4.757294832826748,
          4.963890577507598,
          5.048905775075988,
          6.796565349544074,
          4.957987804878049,
          3.9805182926829263,
          7.410184049079754,
          6.273058103975535,
          7.1553658536585365,
          12.284255319148937
         ],
         "yaxis": "y5"
        },
        {
         "hovertemplate": "Month=March<br>Day of Month=%{x}<br>PM2.5 (1-hour mean)=%{y}<extra></extra>",
         "legendgroup": "",
         "line": {
          "color": "#636efa",
          "dash": "solid"
         },
         "marker": {
          "symbol": "circle"
         },
         "mode": "lines",
         "name": "",
         "orientation": "v",
         "showlegend": false,
         "type": "scatter",
         "x": [
          1,
          2,
          3,
          4,
          5,
          6,
          7,
          8,
          9,
          10,
          11,
          12,
          13,
          14,
          15,
          16,
          17,
          18,
          19,
          20,
          21,
          22,
          23,
          24,
          25,
          26,
          27,
          28,
          29,
          30,
          31
         ],
         "xaxis": "x6",
         "y": [
          4.6052852852852855,
          4.120271084337349,
          3.8083783783783787,
          3.1767469879518075,
          4.2810625,
          4.762972136222911,
          7.500521472392638,
          5.892385321100917,
          5.774683544303797,
          5.840481927710843,
          4.776516516516517,
          3.3053776435045314,
          3.153545454545455,
          4.629244712990936,
          11.5256,
          5.641503067484663,
          4.754553846153846,
          4.8348297213622295,
          4.454141104294479,
          4.219878048780488,
          5.346827794561934,
          4.780755287009064,
          5.165105740181269,
          5.598704819277108,
          6.999307228915662,
          5.3266265060240965,
          4.036890243902438,
          4.978926380368098,
          4.46960244648318,
          4.113549382716049,
          4.971397515527951
         ],
         "yaxis": "y6"
        }
       ],
       "layout": {
        "annotations": [
         {
          "font": {},
          "showarrow": false,
          "text": "Month=October",
          "x": 0.075,
          "xanchor": "center",
          "xref": "paper",
          "y": 1,
          "yanchor": "bottom",
          "yref": "paper"
         },
         {
          "font": {},
          "showarrow": false,
          "text": "Month=November",
          "x": 0.24499999999999997,
          "xanchor": "center",
          "xref": "paper",
          "y": 1,
          "yanchor": "bottom",
          "yref": "paper"
         },
         {
          "font": {},
          "showarrow": false,
          "text": "Month=December",
          "x": 0.415,
          "xanchor": "center",
          "xref": "paper",
          "y": 1,
          "yanchor": "bottom",
          "yref": "paper"
         },
         {
          "font": {},
          "showarrow": false,
          "text": "Month=January",
          "x": 0.585,
          "xanchor": "center",
          "xref": "paper",
          "y": 1,
          "yanchor": "bottom",
          "yref": "paper"
         },
         {
          "font": {},
          "showarrow": false,
          "text": "Month=February",
          "x": 0.7549999999999999,
          "xanchor": "center",
          "xref": "paper",
          "y": 1,
          "yanchor": "bottom",
          "yref": "paper"
         },
         {
          "font": {},
          "showarrow": false,
          "text": "Month=March",
          "x": 0.925,
          "xanchor": "center",
          "xref": "paper",
          "y": 1,
          "yanchor": "bottom",
          "yref": "paper"
         }
        ],
        "height": 400,
        "legend": {
         "tracegroupgap": 0
        },
        "margin": {
         "b": 50,
         "l": 50,
         "r": 50,
         "t": 50
        },
        "template": {
         "data": {
          "bar": [
           {
            "error_x": {
             "color": "#2a3f5f"
            },
            "error_y": {
             "color": "#2a3f5f"
            },
            "marker": {
             "line": {
              "color": "#E5ECF6",
              "width": 0.5
             },
             "pattern": {
              "fillmode": "overlay",
              "size": 10,
              "solidity": 0.2
             }
            },
            "type": "bar"
           }
          ],
          "barpolar": [
           {
            "marker": {
             "line": {
              "color": "#E5ECF6",
              "width": 0.5
             },
             "pattern": {
              "fillmode": "overlay",
              "size": 10,
              "solidity": 0.2
             }
            },
            "type": "barpolar"
           }
          ],
          "carpet": [
           {
            "aaxis": {
             "endlinecolor": "#2a3f5f",
             "gridcolor": "white",
             "linecolor": "white",
             "minorgridcolor": "white",
             "startlinecolor": "#2a3f5f"
            },
            "baxis": {
             "endlinecolor": "#2a3f5f",
             "gridcolor": "white",
             "linecolor": "white",
             "minorgridcolor": "white",
             "startlinecolor": "#2a3f5f"
            },
            "type": "carpet"
           }
          ],
          "choropleth": [
           {
            "colorbar": {
             "outlinewidth": 0,
             "ticks": ""
            },
            "type": "choropleth"
           }
          ],
          "contour": [
           {
            "colorbar": {
             "outlinewidth": 0,
             "ticks": ""
            },
            "colorscale": [
             [
              0,
              "#0d0887"
             ],
             [
              0.1111111111111111,
              "#46039f"
             ],
             [
              0.2222222222222222,
              "#7201a8"
             ],
             [
              0.3333333333333333,
              "#9c179e"
             ],
             [
              0.4444444444444444,
              "#bd3786"
             ],
             [
              0.5555555555555556,
              "#d8576b"
             ],
             [
              0.6666666666666666,
              "#ed7953"
             ],
             [
              0.7777777777777778,
              "#fb9f3a"
             ],
             [
              0.8888888888888888,
              "#fdca26"
             ],
             [
              1,
              "#f0f921"
             ]
            ],
            "type": "contour"
           }
          ],
          "contourcarpet": [
           {
            "colorbar": {
             "outlinewidth": 0,
             "ticks": ""
            },
            "type": "contourcarpet"
           }
          ],
          "heatmap": [
           {
            "colorbar": {
             "outlinewidth": 0,
             "ticks": ""
            },
            "colorscale": [
             [
              0,
              "#0d0887"
             ],
             [
              0.1111111111111111,
              "#46039f"
             ],
             [
              0.2222222222222222,
              "#7201a8"
             ],
             [
              0.3333333333333333,
              "#9c179e"
             ],
             [
              0.4444444444444444,
              "#bd3786"
             ],
             [
              0.5555555555555556,
              "#d8576b"
             ],
             [
              0.6666666666666666,
              "#ed7953"
             ],
             [
              0.7777777777777778,
              "#fb9f3a"
             ],
             [
              0.8888888888888888,
              "#fdca26"
             ],
             [
              1,
              "#f0f921"
             ]
            ],
            "type": "heatmap"
           }
          ],
          "heatmapgl": [
           {
            "colorbar": {
             "outlinewidth": 0,
             "ticks": ""
            },
            "colorscale": [
             [
              0,
              "#0d0887"
             ],
             [
              0.1111111111111111,
              "#46039f"
             ],
             [
              0.2222222222222222,
              "#7201a8"
             ],
             [
              0.3333333333333333,
              "#9c179e"
             ],
             [
              0.4444444444444444,
              "#bd3786"
             ],
             [
              0.5555555555555556,
              "#d8576b"
             ],
             [
              0.6666666666666666,
              "#ed7953"
             ],
             [
              0.7777777777777778,
              "#fb9f3a"
             ],
             [
              0.8888888888888888,
              "#fdca26"
             ],
             [
              1,
              "#f0f921"
             ]
            ],
            "type": "heatmapgl"
           }
          ],
          "histogram": [
           {
            "marker": {
             "pattern": {
              "fillmode": "overlay",
              "size": 10,
              "solidity": 0.2
             }
            },
            "type": "histogram"
           }
          ],
          "histogram2d": [
           {
            "colorbar": {
             "outlinewidth": 0,
             "ticks": ""
            },
            "colorscale": [
             [
              0,
              "#0d0887"
             ],
             [
              0.1111111111111111,
              "#46039f"
             ],
             [
              0.2222222222222222,
              "#7201a8"
             ],
             [
              0.3333333333333333,
              "#9c179e"
             ],
             [
              0.4444444444444444,
              "#bd3786"
             ],
             [
              0.5555555555555556,
              "#d8576b"
             ],
             [
              0.6666666666666666,
              "#ed7953"
             ],
             [
              0.7777777777777778,
              "#fb9f3a"
             ],
             [
              0.8888888888888888,
              "#fdca26"
             ],
             [
              1,
              "#f0f921"
             ]
            ],
            "type": "histogram2d"
           }
          ],
          "histogram2dcontour": [
           {
            "colorbar": {
             "outlinewidth": 0,
             "ticks": ""
            },
            "colorscale": [
             [
              0,
              "#0d0887"
             ],
             [
              0.1111111111111111,
              "#46039f"
             ],
             [
              0.2222222222222222,
              "#7201a8"
             ],
             [
              0.3333333333333333,
              "#9c179e"
             ],
             [
              0.4444444444444444,
              "#bd3786"
             ],
             [
              0.5555555555555556,
              "#d8576b"
             ],
             [
              0.6666666666666666,
              "#ed7953"
             ],
             [
              0.7777777777777778,
              "#fb9f3a"
             ],
             [
              0.8888888888888888,
              "#fdca26"
             ],
             [
              1,
              "#f0f921"
             ]
            ],
            "type": "histogram2dcontour"
           }
          ],
          "mesh3d": [
           {
            "colorbar": {
             "outlinewidth": 0,
             "ticks": ""
            },
            "type": "mesh3d"
           }
          ],
          "parcoords": [
           {
            "line": {
             "colorbar": {
              "outlinewidth": 0,
              "ticks": ""
             }
            },
            "type": "parcoords"
           }
          ],
          "pie": [
           {
            "automargin": true,
            "type": "pie"
           }
          ],
          "scatter": [
           {
            "fillpattern": {
             "fillmode": "overlay",
             "size": 10,
             "solidity": 0.2
            },
            "type": "scatter"
           }
          ],
          "scatter3d": [
           {
            "line": {
             "colorbar": {
              "outlinewidth": 0,
              "ticks": ""
             }
            },
            "marker": {
             "colorbar": {
              "outlinewidth": 0,
              "ticks": ""
             }
            },
            "type": "scatter3d"
           }
          ],
          "scattercarpet": [
           {
            "marker": {
             "colorbar": {
              "outlinewidth": 0,
              "ticks": ""
             }
            },
            "type": "scattercarpet"
           }
          ],
          "scattergeo": [
           {
            "marker": {
             "colorbar": {
              "outlinewidth": 0,
              "ticks": ""
             }
            },
            "type": "scattergeo"
           }
          ],
          "scattergl": [
           {
            "marker": {
             "colorbar": {
              "outlinewidth": 0,
              "ticks": ""
             }
            },
            "type": "scattergl"
           }
          ],
          "scattermapbox": [
           {
            "marker": {
             "colorbar": {
              "outlinewidth": 0,
              "ticks": ""
             }
            },
            "type": "scattermapbox"
           }
          ],
          "scatterpolar": [
           {
            "marker": {
             "colorbar": {
              "outlinewidth": 0,
              "ticks": ""
             }
            },
            "type": "scatterpolar"
           }
          ],
          "scatterpolargl": [
           {
            "marker": {
             "colorbar": {
              "outlinewidth": 0,
              "ticks": ""
             }
            },
            "type": "scatterpolargl"
           }
          ],
          "scatterternary": [
           {
            "marker": {
             "colorbar": {
              "outlinewidth": 0,
              "ticks": ""
             }
            },
            "type": "scatterternary"
           }
          ],
          "surface": [
           {
            "colorbar": {
             "outlinewidth": 0,
             "ticks": ""
            },
            "colorscale": [
             [
              0,
              "#0d0887"
             ],
             [
              0.1111111111111111,
              "#46039f"
             ],
             [
              0.2222222222222222,
              "#7201a8"
             ],
             [
              0.3333333333333333,
              "#9c179e"
             ],
             [
              0.4444444444444444,
              "#bd3786"
             ],
             [
              0.5555555555555556,
              "#d8576b"
             ],
             [
              0.6666666666666666,
              "#ed7953"
             ],
             [
              0.7777777777777778,
              "#fb9f3a"
             ],
             [
              0.8888888888888888,
              "#fdca26"
             ],
             [
              1,
              "#f0f921"
             ]
            ],
            "type": "surface"
           }
          ],
          "table": [
           {
            "cells": {
             "fill": {
              "color": "#EBF0F8"
             },
             "line": {
              "color": "white"
             }
            },
            "header": {
             "fill": {
              "color": "#C8D4E3"
             },
             "line": {
              "color": "white"
             }
            },
            "type": "table"
           }
          ]
         },
         "layout": {
          "annotationdefaults": {
           "arrowcolor": "#2a3f5f",
           "arrowhead": 0,
           "arrowwidth": 1
          },
          "autotypenumbers": "strict",
          "coloraxis": {
           "colorbar": {
            "outlinewidth": 0,
            "ticks": ""
           }
          },
          "colorscale": {
           "diverging": [
            [
             0,
             "#8e0152"
            ],
            [
             0.1,
             "#c51b7d"
            ],
            [
             0.2,
             "#de77ae"
            ],
            [
             0.3,
             "#f1b6da"
            ],
            [
             0.4,
             "#fde0ef"
            ],
            [
             0.5,
             "#f7f7f7"
            ],
            [
             0.6,
             "#e6f5d0"
            ],
            [
             0.7,
             "#b8e186"
            ],
            [
             0.8,
             "#7fbc41"
            ],
            [
             0.9,
             "#4d9221"
            ],
            [
             1,
             "#276419"
            ]
           ],
           "sequential": [
            [
             0,
             "#0d0887"
            ],
            [
             0.1111111111111111,
             "#46039f"
            ],
            [
             0.2222222222222222,
             "#7201a8"
            ],
            [
             0.3333333333333333,
             "#9c179e"
            ],
            [
             0.4444444444444444,
             "#bd3786"
            ],
            [
             0.5555555555555556,
             "#d8576b"
            ],
            [
             0.6666666666666666,
             "#ed7953"
            ],
            [
             0.7777777777777778,
             "#fb9f3a"
            ],
            [
             0.8888888888888888,
             "#fdca26"
            ],
            [
             1,
             "#f0f921"
            ]
           ],
           "sequentialminus": [
            [
             0,
             "#0d0887"
            ],
            [
             0.1111111111111111,
             "#46039f"
            ],
            [
             0.2222222222222222,
             "#7201a8"
            ],
            [
             0.3333333333333333,
             "#9c179e"
            ],
            [
             0.4444444444444444,
             "#bd3786"
            ],
            [
             0.5555555555555556,
             "#d8576b"
            ],
            [
             0.6666666666666666,
             "#ed7953"
            ],
            [
             0.7777777777777778,
             "#fb9f3a"
            ],
            [
             0.8888888888888888,
             "#fdca26"
            ],
            [
             1,
             "#f0f921"
            ]
           ]
          },
          "colorway": [
           "#636efa",
           "#EF553B",
           "#00cc96",
           "#ab63fa",
           "#FFA15A",
           "#19d3f3",
           "#FF6692",
           "#B6E880",
           "#FF97FF",
           "#FECB52"
          ],
          "font": {
           "color": "#2a3f5f"
          },
          "geo": {
           "bgcolor": "white",
           "lakecolor": "white",
           "landcolor": "#E5ECF6",
           "showlakes": true,
           "showland": true,
           "subunitcolor": "white"
          },
          "hoverlabel": {
           "align": "left"
          },
          "hovermode": "closest",
          "mapbox": {
           "style": "light"
          },
          "paper_bgcolor": "white",
          "plot_bgcolor": "#E5ECF6",
          "polar": {
           "angularaxis": {
            "gridcolor": "white",
            "linecolor": "white",
            "ticks": ""
           },
           "bgcolor": "#E5ECF6",
           "radialaxis": {
            "gridcolor": "white",
            "linecolor": "white",
            "ticks": ""
           }
          },
          "scene": {
           "xaxis": {
            "backgroundcolor": "#E5ECF6",
            "gridcolor": "white",
            "gridwidth": 2,
            "linecolor": "white",
            "showbackground": true,
            "ticks": "",
            "zerolinecolor": "white"
           },
           "yaxis": {
            "backgroundcolor": "#E5ECF6",
            "gridcolor": "white",
            "gridwidth": 2,
            "linecolor": "white",
            "showbackground": true,
            "ticks": "",
            "zerolinecolor": "white"
           },
           "zaxis": {
            "backgroundcolor": "#E5ECF6",
            "gridcolor": "white",
            "gridwidth": 2,
            "linecolor": "white",
            "showbackground": true,
            "ticks": "",
            "zerolinecolor": "white"
           }
          },
          "shapedefaults": {
           "line": {
            "color": "#2a3f5f"
           }
          },
          "ternary": {
           "aaxis": {
            "gridcolor": "white",
            "linecolor": "white",
            "ticks": ""
           },
           "baxis": {
            "gridcolor": "white",
            "linecolor": "white",
            "ticks": ""
           },
           "bgcolor": "#E5ECF6",
           "caxis": {
            "gridcolor": "white",
            "linecolor": "white",
            "ticks": ""
           }
          },
          "title": {
           "x": 0.05
          },
          "xaxis": {
           "automargin": true,
           "gridcolor": "white",
           "linecolor": "white",
           "ticks": "",
           "title": {
            "standoff": 15
           },
           "zerolinecolor": "white",
           "zerolinewidth": 2
          },
          "yaxis": {
           "automargin": true,
           "gridcolor": "white",
           "linecolor": "white",
           "ticks": "",
           "title": {
            "standoff": 15
           },
           "zerolinecolor": "white",
           "zerolinewidth": 2
          }
         }
        },
        "title": {
         "text": "PM2.5 Concentrations by Month (Clarity Monitors)",
         "x": 0.5
        },
        "xaxis": {
         "anchor": "y",
         "domain": [
          0,
          0.15
         ],
         "title": {
          "text": "Day of Month"
         }
        },
        "xaxis2": {
         "anchor": "y2",
         "domain": [
          0.16999999999999998,
          0.31999999999999995
         ],
         "matches": "x",
         "title": {
          "text": "Day of Month"
         }
        },
        "xaxis3": {
         "anchor": "y3",
         "domain": [
          0.33999999999999997,
          0.49
         ],
         "matches": "x",
         "title": {
          "text": "Day of Month"
         }
        },
        "xaxis4": {
         "anchor": "y4",
         "domain": [
          0.51,
          0.66
         ],
         "matches": "x",
         "title": {
          "text": "Day of Month"
         }
        },
        "xaxis5": {
         "anchor": "y5",
         "domain": [
          0.6799999999999999,
          0.83
         ],
         "matches": "x",
         "title": {
          "text": "Day of Month"
         }
        },
        "xaxis6": {
         "anchor": "y6",
         "domain": [
          0.85,
          1
         ],
         "matches": "x",
         "title": {
          "text": "Day of Month"
         }
        },
        "yaxis": {
         "anchor": "x",
         "domain": [
          0,
          1
         ],
         "title": {
          "text": "PM2.5 (1-hour mean)"
         }
        },
        "yaxis2": {
         "anchor": "x2",
         "domain": [
          0,
          1
         ],
         "matches": "y",
         "showticklabels": false
        },
        "yaxis3": {
         "anchor": "x3",
         "domain": [
          0,
          1
         ],
         "matches": "y",
         "showticklabels": false
        },
        "yaxis4": {
         "anchor": "x4",
         "domain": [
          0,
          1
         ],
         "matches": "y",
         "showticklabels": false
        },
        "yaxis5": {
         "anchor": "x5",
         "domain": [
          0,
          1
         ],
         "matches": "y",
         "showticklabels": false
        },
        "yaxis6": {
         "anchor": "x6",
         "domain": [
          0,
          1
         ],
         "matches": "y",
         "showticklabels": false
        }
       }
      }
     },
     "metadata": {},
     "output_type": "display_data"
    }
   ],
   "source": [
    "# Keep the clarity_df_grouped definition\n",
    "clarity_df_grouped = clarity_df.groupby(['date']).agg({'pm2_5_1h_mean': 'mean'}).reset_index()\n",
    "clarity_df_grouped['month_year_str'] = clarity_df_grouped['date'].dt.strftime('%B')\n",
    "clarity_df_grouped['day'] = clarity_df_grouped['date'].dt.day\n",
    "\n",
    "# Create a facet grid with month-year as the facet column\n",
    "fig = px.line(\n",
    "    clarity_df_grouped,\n",
    "    x=\"day\",\n",
    "    y=\"pm2_5_1h_mean\",\n",
    "    facet_col=\"month_year_str\",\n",
    "    facet_col_wrap=6,\n",
    "    title=\"PM2.5 Concentrations by Month (Clarity Monitors)\",\n",
    "    labels={\"pm2_5_1h_mean\": \"PM2.5 (1-hour mean)\", \"day\": \"Day of Month\", \"month_year_str\": \"Month\"},\n",
    "    height=400\n",
    ")\n",
    "\n",
    "# Update layout for better visualization\n",
    "fig.update_layout(\n",
    "    margin=dict(t=50, l=50, r=50, b=50),\n",
    "    title_x=0.5\n",
    ")\n",
    "\n",
    "# Show the plot\n",
    "fig.show()\n"
   ]
  },
  {
   "cell_type": "code",
   "execution_count": 7,
   "id": "aa2f3b62",
   "metadata": {},
   "outputs": [
    {
     "data": {
      "text/html": [
       "<div>\n",
       "<style scoped>\n",
       "    .dataframe tbody tr th:only-of-type {\n",
       "        vertical-align: middle;\n",
       "    }\n",
       "\n",
       "    .dataframe tbody tr th {\n",
       "        vertical-align: top;\n",
       "    }\n",
       "\n",
       "    .dataframe thead th {\n",
       "        text-align: right;\n",
       "    }\n",
       "</style>\n",
       "<table border=\"1\" class=\"dataframe\">\n",
       "  <thead>\n",
       "    <tr style=\"text-align: right;\">\n",
       "      <th></th>\n",
       "      <th>location_id</th>\n",
       "      <th>time</th>\n",
       "      <th>pm2_5_1h_mean</th>\n",
       "    </tr>\n",
       "  </thead>\n",
       "  <tbody>\n",
       "    <tr>\n",
       "      <th>576572</th>\n",
       "      <td>100355</td>\n",
       "      <td>2024-10-12 00:00:00</td>\n",
       "      <td>0.004</td>\n",
       "    </tr>\n",
       "    <tr>\n",
       "      <th>576590</th>\n",
       "      <td>100355</td>\n",
       "      <td>2024-10-12 01:00:00</td>\n",
       "      <td>0.000</td>\n",
       "    </tr>\n",
       "    <tr>\n",
       "      <th>576611</th>\n",
       "      <td>100355</td>\n",
       "      <td>2024-10-12 02:00:00</td>\n",
       "      <td>0.007</td>\n",
       "    </tr>\n",
       "    <tr>\n",
       "      <th>576634</th>\n",
       "      <td>100355</td>\n",
       "      <td>2024-10-12 03:00:00</td>\n",
       "      <td>0.000</td>\n",
       "    </tr>\n",
       "    <tr>\n",
       "      <th>576640</th>\n",
       "      <td>100355</td>\n",
       "      <td>2024-10-12 04:00:00</td>\n",
       "      <td>0.056</td>\n",
       "    </tr>\n",
       "  </tbody>\n",
       "</table>\n",
       "</div>"
      ],
      "text/plain": [
       "        location_id                 time  pm2_5_1h_mean\n",
       "576572       100355  2024-10-12 00:00:00          0.004\n",
       "576590       100355  2024-10-12 01:00:00          0.000\n",
       "576611       100355  2024-10-12 02:00:00          0.007\n",
       "576634       100355  2024-10-12 03:00:00          0.000\n",
       "576640       100355  2024-10-12 04:00:00          0.056"
      ]
     },
     "execution_count": 7,
     "metadata": {},
     "output_type": "execute_result"
    }
   ],
   "source": [
    "filtered_df = purple_df[['location_id', 'time', 'pm2_5_1h_mean']]\n",
    "filtered_df.head()"
   ]
  },
  {
   "cell_type": "code",
   "execution_count": 34,
   "id": "ff9fe8d7",
   "metadata": {},
   "outputs": [
    {
     "data": {
      "text/plain": [
       "((143792, 168, 1), (143792, 24, 1))"
      ]
     },
     "execution_count": 34,
     "metadata": {},
     "output_type": "execute_result"
    }
   ],
   "source": [
    "import numpy as np\n",
    "\n",
    "X = []  # past 168 hours\n",
    "y = []  # next 24 hours\n",
    "\n",
    "# Parameters\n",
    "window_size = 24 * 7  # 168 hours = 1 week\n",
    "output_size = 24  # 24 hours\n",
    "\n",
    "# Location ID to index mapping in arrays\n",
    "location_index_map = {}\n",
    "\n",
    "for location, group in filtered_df.groupby('location_id'):\n",
    "    group = group.sort_values('time').reset_index(drop=True)\n",
    "    values = group[['pm2_5_1h_mean']].values  # use only one feature\n",
    "    start_index = len(X)  # Track the starting index for this location in X\n",
    "    \n",
    "    for i in range(len(values) - window_size - output_size):\n",
    "        X.append(values[i:i+window_size])\n",
    "        y.append(values[i+window_size:i+window_size+output_size])\n",
    "    \n",
    "    end_index = len(X)  # Track the ending index for this location in X\n",
    "    location_index_map[location] = (start_index, end_index)\n",
    "        \n",
    "X = np.array(X)  # shape: (samples, 168, 1)\n",
    "y = np.array(y)  # shape: (samples, 24, 1)\n",
    "\n",
    "X.shape, y.shape"
   ]
  },
  {
   "cell_type": "code",
   "execution_count": 35,
   "id": "10a3f61d",
   "metadata": {},
   "outputs": [],
   "source": [
    "import torch\n",
    "import torch.nn as nn\n",
    "from torch.utils.data import Dataset, DataLoader\n",
    "\n",
    "class TimeSeriesDataset(Dataset):\n",
    "    def __init__(self, X, y):\n",
    "        self.X = torch.tensor(X, dtype=torch.float32)\n",
    "        self.y = torch.tensor(y, dtype=torch.float32)\n",
    "\n",
    "    def __len__(self):\n",
    "        return len(self.X)\n",
    "\n",
    "    def __getitem__(self, idx):\n",
    "        return self.X[idx], self.y[idx]\n",
    "\n",
    "class AirForecastLSTM(nn.Module):\n",
    "    def __init__(self, input_size=2, hidden_size=64, num_layers=2, output_size=2):\n",
    "        super(AirForecastLSTM, self).__init__()\n",
    "        self.lstm = nn.LSTM(input_size, hidden_size, num_layers, batch_first=True)\n",
    "        self.fc = nn.Linear(hidden_size, output_size * 24)\n",
    "        self.output_size = output_size\n",
    "\n",
    "    def forward(self, x):\n",
    "        lstm_out, _ = self.lstm(x)              # (batch, 168, hidden)\n",
    "        last_output = lstm_out[:, -1, :]        # (batch, hidden)\n",
    "        out = self.fc(last_output)              # (batch, 24 * 3)\n",
    "        return out.view(-1, 24, self.output_size)  # (batch, 24, 3)"
   ]
  },
  {
   "cell_type": "code",
   "execution_count": 36,
   "id": "4847f275",
   "metadata": {},
   "outputs": [],
   "source": [
    "def train_model(model, dataloader, epochs=10, lr=1e-3):\n",
    "    \"\"\"\n",
    "    AirForecast LSTM model training function.\n",
    "    Args:\n",
    "        model (nn.Module): The LSTM model to train.\n",
    "        dataloader (DataLoader): DataLoader for the training data.\n",
    "        epochs (int): Number of training epochs.\n",
    "        lr (float): Learning rate for the optimizer.\n",
    "    Returns:\n",
    "        model (nn.Module): The trained LSTM model.\n",
    "    \"\"\"\n",
    "    # Find device if available for training\n",
    "    device = torch.device(\"mps\" if torch.backends.mps.is_available() else \"cuda\" if torch.cuda.is_available() else \"cpu\")\n",
    "    model.to(device)\n",
    "\n",
    "    # Loss and optimizer\n",
    "    criterion = nn.MSELoss()\n",
    "    optimizer = torch.optim.Adam(model.parameters(), lr=lr)\n",
    "\n",
    "    # Training loop\n",
    "    for epoch in range(epochs):\n",
    "        model.train()\n",
    "        epoch_loss = 0\n",
    "\n",
    "        # Iterate over batches\n",
    "        for X_batch, y_batch in dataloader:\n",
    "            X_batch, y_batch = X_batch.to(device), y_batch.to(device)\n",
    "\n",
    "            # Forward pass\n",
    "            preds = model(X_batch)\n",
    "            loss = criterion(preds, y_batch)\n",
    "\n",
    "            # Backward pass and optimization\n",
    "            optimizer.zero_grad()\n",
    "            loss.backward()\n",
    "            optimizer.step()\n",
    "\n",
    "            epoch_loss += loss.item()\n",
    "\n",
    "        print(f\"Epoch {epoch+1}/{epochs}, Loss: {epoch_loss / len(dataloader):.4f}\")\n",
    "\n",
    "    return model\n",
    "\n",
    "def evaluate(model, dataloader):\n",
    "    \"\"\"\n",
    "    AirForecast LSTM model evaluation function.\n",
    "    Args:\n",
    "        model (nn.Module): The LSTM model to evaluate.\n",
    "        dataloader (DataLoader): DataLoader for the validation data.\n",
    "    Returns:\n",
    "        preds (np.ndarray): Predicted values.\n",
    "        truths (np.ndarray): True values.\n",
    "    \"\"\"\n",
    "    model.eval()\n",
    "    preds, truths = [], []\n",
    "\n",
    "    with torch.no_grad():\n",
    "        for X_batch, y_batch in dataloader:\n",
    "            out = model(X_batch)\n",
    "            preds.append(out.squeeze(-1).numpy())\n",
    "            truths.append(y_batch.squeeze(-1).numpy())\n",
    "\n",
    "    preds = np.concatenate(preds)\n",
    "    truths = np.concatenate(truths)\n",
    "    mse = (np.mean((preds - truths) ** 2))\n",
    "    print(f\"Validation MSE: {mse:.4f}\")\n",
    "    return preds, truths"
   ]
  },
  {
   "cell_type": "code",
   "execution_count": 37,
   "id": "d91a6a63",
   "metadata": {},
   "outputs": [
    {
     "name": "stdout",
     "output_type": "stream",
     "text": [
      "Using device: mps\n",
      "Epoch 1/20, Loss: 2448.0669\n",
      "Epoch 2/20, Loss: 2395.0831\n",
      "Epoch 3/20, Loss: 2354.2942\n",
      "Epoch 4/20, Loss: 2319.5651\n",
      "Epoch 5/20, Loss: 2277.9930\n",
      "Epoch 6/20, Loss: 2257.9340\n",
      "Epoch 7/20, Loss: 2218.4293\n",
      "Epoch 8/20, Loss: 2165.6279\n",
      "Epoch 9/20, Loss: 2122.3734\n",
      "Epoch 10/20, Loss: 2098.1370\n",
      "Epoch 11/20, Loss: 2036.7691\n",
      "Epoch 12/20, Loss: 2040.4579\n",
      "Epoch 13/20, Loss: 2011.4831\n",
      "Epoch 14/20, Loss: 1964.7786\n",
      "Epoch 15/20, Loss: 1932.7549\n",
      "Epoch 16/20, Loss: 1898.8006\n",
      "Epoch 17/20, Loss: 1872.3779\n",
      "Epoch 18/20, Loss: 1839.5265\n",
      "Epoch 19/20, Loss: 1820.5571\n",
      "Epoch 20/20, Loss: 1760.8221\n"
     ]
    }
   ],
   "source": [
    "# Check for MPS device\n",
    "device = torch.device(\"mps\" if torch.backends.mps.is_available() else \"cuda\" if torch.cuda.is_available() else \"cpu\")\n",
    "print(f\"Using device: {device}\")\n",
    "\n",
    "# Ensure all monitors are included in the validation set using location_index_map\n",
    "val_indices = []\n",
    "\n",
    "for location, (start_index, end_index) in location_index_map.items():\n",
    "    split_index = int((end_index - start_index) * 0.8) + start_index\n",
    "    if split_index < end_index:  # Ensure split_index is within bounds\n",
    "        val_indices.extend(range(split_index, end_index))\n",
    "\n",
    "val_indices = np.array(val_indices)\n",
    "train_indices = np.setdiff1d(np.arange(len(X)), val_indices)\n",
    "\n",
    "X_train, y_train = X[train_indices], y[train_indices]\n",
    "X_val, y_val = X[val_indices], y[val_indices]\n",
    "\n",
    "# Create TimeSeriesDataset instances for training and validation sets\n",
    "train_dataset = TimeSeriesDataset(X_train, y_train)\n",
    "val_dataset = TimeSeriesDataset(X_val, y_val)\n",
    "\n",
    "# Create DataLoader for training and validation sets\n",
    "train_loader = DataLoader(train_dataset, batch_size=64, shuffle=True)\n",
    "val_loader = DataLoader(val_dataset, batch_size=64)\n",
    "\n",
    "# Train the model\n",
    "model = AirForecastLSTM(input_size=1, output_size=1)\n",
    "trained_model = train_model(model, train_loader, epochs=20)"
   ]
  },
  {
   "cell_type": "code",
   "execution_count": 38,
   "id": "ff553b17",
   "metadata": {},
   "outputs": [
    {
     "name": "stdout",
     "output_type": "stream",
     "text": [
      "Validation MSE: 10.3852\n"
     ]
    }
   ],
   "source": [
    "# Evaluate the model by monitor location\n",
    "# Move the trained model back to CPU\n",
    "trained_model = trained_model.to('cpu')\n",
    "\n",
    "# Evaluate the model by monitor location\n",
    "predictions, truths = evaluate(trained_model, val_loader)"
   ]
  },
  {
   "cell_type": "code",
   "execution_count": 39,
   "id": "90379a1f",
   "metadata": {},
   "outputs": [
    {
     "data": {
      "text/html": [
       "<div>\n",
       "<style scoped>\n",
       "    .dataframe tbody tr th:only-of-type {\n",
       "        vertical-align: middle;\n",
       "    }\n",
       "\n",
       "    .dataframe tbody tr th {\n",
       "        vertical-align: top;\n",
       "    }\n",
       "\n",
       "    .dataframe thead th {\n",
       "        text-align: right;\n",
       "    }\n",
       "</style>\n",
       "<table border=\"1\" class=\"dataframe\">\n",
       "  <thead>\n",
       "    <tr style=\"text-align: right;\">\n",
       "      <th></th>\n",
       "      <th>location_id</th>\n",
       "      <th>mse</th>\n",
       "    </tr>\n",
       "  </thead>\n",
       "  <tbody>\n",
       "    <tr>\n",
       "      <th>33</th>\n",
       "      <td>DVRGV9737</td>\n",
       "      <td>1.581805</td>\n",
       "    </tr>\n",
       "    <tr>\n",
       "      <th>28</th>\n",
       "      <td>DNSEJ7404</td>\n",
       "      <td>1.581805</td>\n",
       "    </tr>\n",
       "    <tr>\n",
       "      <th>27</th>\n",
       "      <td>DMEYT2138</td>\n",
       "      <td>1.581805</td>\n",
       "    </tr>\n",
       "    <tr>\n",
       "      <th>23</th>\n",
       "      <td>DHPSP8686</td>\n",
       "      <td>1.581805</td>\n",
       "    </tr>\n",
       "    <tr>\n",
       "      <th>20</th>\n",
       "      <td>DCVIM2201</td>\n",
       "      <td>1.581805</td>\n",
       "    </tr>\n",
       "    <tr>\n",
       "      <th>2</th>\n",
       "      <td>109192</td>\n",
       "      <td>1.742884</td>\n",
       "    </tr>\n",
       "    <tr>\n",
       "      <th>19</th>\n",
       "      <td>91617</td>\n",
       "      <td>1.742884</td>\n",
       "    </tr>\n",
       "    <tr>\n",
       "      <th>7</th>\n",
       "      <td>158259</td>\n",
       "      <td>1.742884</td>\n",
       "    </tr>\n",
       "    <tr>\n",
       "      <th>18</th>\n",
       "      <td>88655</td>\n",
       "      <td>1.742884</td>\n",
       "    </tr>\n",
       "    <tr>\n",
       "      <th>15</th>\n",
       "      <td>67553</td>\n",
       "      <td>1.742884</td>\n",
       "    </tr>\n",
       "    <tr>\n",
       "      <th>10</th>\n",
       "      <td>169967</td>\n",
       "      <td>1.742884</td>\n",
       "    </tr>\n",
       "    <tr>\n",
       "      <th>11</th>\n",
       "      <td>21427</td>\n",
       "      <td>1.742884</td>\n",
       "    </tr>\n",
       "    <tr>\n",
       "      <th>14</th>\n",
       "      <td>67419</td>\n",
       "      <td>1.742884</td>\n",
       "    </tr>\n",
       "    <tr>\n",
       "      <th>0</th>\n",
       "      <td>100355</td>\n",
       "      <td>1.748660</td>\n",
       "    </tr>\n",
       "    <tr>\n",
       "      <th>13</th>\n",
       "      <td>65711</td>\n",
       "      <td>1.748660</td>\n",
       "    </tr>\n",
       "    <tr>\n",
       "      <th>5</th>\n",
       "      <td>121443</td>\n",
       "      <td>1.748660</td>\n",
       "    </tr>\n",
       "    <tr>\n",
       "      <th>9</th>\n",
       "      <td>160983</td>\n",
       "      <td>1.765341</td>\n",
       "    </tr>\n",
       "    <tr>\n",
       "      <th>12</th>\n",
       "      <td>35103</td>\n",
       "      <td>1.777265</td>\n",
       "    </tr>\n",
       "    <tr>\n",
       "      <th>16</th>\n",
       "      <td>80869</td>\n",
       "      <td>1.777265</td>\n",
       "    </tr>\n",
       "    <tr>\n",
       "      <th>8</th>\n",
       "      <td>158267</td>\n",
       "      <td>2.008672</td>\n",
       "    </tr>\n",
       "    <tr>\n",
       "      <th>3</th>\n",
       "      <td>111498</td>\n",
       "      <td>2.205634</td>\n",
       "    </tr>\n",
       "    <tr>\n",
       "      <th>6</th>\n",
       "      <td>145108</td>\n",
       "      <td>2.759346</td>\n",
       "    </tr>\n",
       "    <tr>\n",
       "      <th>4</th>\n",
       "      <td>113144</td>\n",
       "      <td>2.862929</td>\n",
       "    </tr>\n",
       "    <tr>\n",
       "      <th>17</th>\n",
       "      <td>86761</td>\n",
       "      <td>3.857937</td>\n",
       "    </tr>\n",
       "    <tr>\n",
       "      <th>1</th>\n",
       "      <td>106930</td>\n",
       "      <td>9.941796</td>\n",
       "    </tr>\n",
       "    <tr>\n",
       "      <th>21</th>\n",
       "      <td>DETMG3939</td>\n",
       "      <td>11.048559</td>\n",
       "    </tr>\n",
       "    <tr>\n",
       "      <th>22</th>\n",
       "      <td>DEVPF7186</td>\n",
       "      <td>11.048559</td>\n",
       "    </tr>\n",
       "    <tr>\n",
       "      <th>32</th>\n",
       "      <td>DUBTA4581</td>\n",
       "      <td>11.048559</td>\n",
       "    </tr>\n",
       "    <tr>\n",
       "      <th>25</th>\n",
       "      <td>DJGNN5114</td>\n",
       "      <td>11.048559</td>\n",
       "    </tr>\n",
       "    <tr>\n",
       "      <th>26</th>\n",
       "      <td>DJTYV8538</td>\n",
       "      <td>11.048559</td>\n",
       "    </tr>\n",
       "    <tr>\n",
       "      <th>29</th>\n",
       "      <td>DRCAC7970</td>\n",
       "      <td>11.048559</td>\n",
       "    </tr>\n",
       "    <tr>\n",
       "      <th>30</th>\n",
       "      <td>DRYLF3821</td>\n",
       "      <td>11.048559</td>\n",
       "    </tr>\n",
       "    <tr>\n",
       "      <th>31</th>\n",
       "      <td>DTMSK2119</td>\n",
       "      <td>11.048559</td>\n",
       "    </tr>\n",
       "    <tr>\n",
       "      <th>24</th>\n",
       "      <td>DHSHV3008</td>\n",
       "      <td>11.069495</td>\n",
       "    </tr>\n",
       "  </tbody>\n",
       "</table>\n",
       "</div>"
      ],
      "text/plain": [
       "   location_id        mse\n",
       "33   DVRGV9737   1.581805\n",
       "28   DNSEJ7404   1.581805\n",
       "27   DMEYT2138   1.581805\n",
       "23   DHPSP8686   1.581805\n",
       "20   DCVIM2201   1.581805\n",
       "2       109192   1.742884\n",
       "19       91617   1.742884\n",
       "7       158259   1.742884\n",
       "18       88655   1.742884\n",
       "15       67553   1.742884\n",
       "10      169967   1.742884\n",
       "11       21427   1.742884\n",
       "14       67419   1.742884\n",
       "0       100355   1.748660\n",
       "13       65711   1.748660\n",
       "5       121443   1.748660\n",
       "9       160983   1.765341\n",
       "12       35103   1.777265\n",
       "16       80869   1.777265\n",
       "8       158267   2.008672\n",
       "3       111498   2.205634\n",
       "6       145108   2.759346\n",
       "4       113144   2.862929\n",
       "17       86761   3.857937\n",
       "1       106930   9.941796\n",
       "21   DETMG3939  11.048559\n",
       "22   DEVPF7186  11.048559\n",
       "32   DUBTA4581  11.048559\n",
       "25   DJGNN5114  11.048559\n",
       "26   DJTYV8538  11.048559\n",
       "29   DRCAC7970  11.048559\n",
       "30   DRYLF3821  11.048559\n",
       "31   DTMSK2119  11.048559\n",
       "24   DHSHV3008  11.069495"
      ]
     },
     "execution_count": 39,
     "metadata": {},
     "output_type": "execute_result"
    }
   ],
   "source": [
    "from sklearn.metrics import mean_squared_error\n",
    "\n",
    "# Calculate validation error per monitor location using location_index_map\n",
    "validation_errors = []\n",
    "\n",
    "for location_id, (start_index, end_index) in location_index_map.items():\n",
    "    # Filter validation indices for the current location\n",
    "    location_val_indices = val_indices[(val_indices >= start_index) & (val_indices < end_index)]\n",
    "    \n",
    "    if len(location_val_indices) > 0:\n",
    "        # Extract predictions and truths for the current location\n",
    "        location_preds = predictions[location_val_indices - start_index]\n",
    "        location_truths = truths[location_val_indices - start_index]\n",
    "        \n",
    "        # Flatten the arrays for MSE calculation\n",
    "        location_preds_flat = location_preds.flatten()\n",
    "        location_truths_flat = location_truths.flatten()\n",
    "        \n",
    "        # Calculate MSE for the current location\n",
    "        mse = mean_squared_error(location_truths_flat, location_preds_flat)\n",
    "        validation_errors.append({'location_id': location_id, 'mse': mse})\n",
    "\n",
    "# Create a DataFrame with the validation errors per location\n",
    "validation_errors_df = pd.DataFrame(validation_errors)\n",
    "\n",
    "# Sort the DataFrame by MSE\n",
    "validation_errors_df = validation_errors_df.sort_values(by='mse', ascending=True)\n",
    "validation_errors_df\n"
   ]
  }
 ],
 "metadata": {
  "kernelspec": {
   "display_name": "datasci192",
   "language": "python",
   "name": "python3"
  },
  "language_info": {
   "codemirror_mode": {
    "name": "ipython",
    "version": 3
   },
   "file_extension": ".py",
   "mimetype": "text/x-python",
   "name": "python",
   "nbconvert_exporter": "python",
   "pygments_lexer": "ipython3",
   "version": "3.10.16"
  }
 },
 "nbformat": 4,
 "nbformat_minor": 5
}
